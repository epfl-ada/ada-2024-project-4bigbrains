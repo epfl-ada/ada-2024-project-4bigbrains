{
 "cells": [
  {
   "cell_type": "code",
   "execution_count": 2,
   "metadata": {},
   "outputs": [],
   "source": [
    "import pandas as pd\n",
    "from datetime import datetime\n",
    "import ast\n",
    "import numpy as np\n",
    "import matplotlib.pyplot as plt\n",
    "import seaborn as sns\n",
    "from Cleaning import GetCleanedData"
   ]
  },
  {
   "cell_type": "code",
   "execution_count": 3,
   "metadata": {},
   "outputs": [
    {
     "name": "stderr",
     "output_type": "stream",
     "text": [
      "c:\\Users\\guilh\\OneDrive\\Bureau\\ADA\\ada-2024-project-4bigbrains\\Cleaning.py:29: SettingWithCopyWarning: \n",
      "A value is trying to be set on a copy of a slice from a DataFrame.\n",
      "Try using .loc[row_indexer,col_indexer] = value instead\n",
      "\n",
      "See the caveats in the documentation: https://pandas.pydata.org/pandas-docs/stable/user_guide/indexing.html#returning-a-view-versus-a-copy\n",
      "  df_date_revenue_clean['Movie release date'] = df_date_revenue_clean['Movie release date'].apply(format_date)\n",
      "c:\\Users\\guilh\\OneDrive\\Bureau\\ADA\\ada-2024-project-4bigbrains\\Cleaning.py:30: SettingWithCopyWarning: \n",
      "A value is trying to be set on a copy of a slice from a DataFrame.\n",
      "Try using .loc[row_indexer,col_indexer] = value instead\n",
      "\n",
      "See the caveats in the documentation: https://pandas.pydata.org/pandas-docs/stable/user_guide/indexing.html#returning-a-view-versus-a-copy\n",
      "  df_date_clean['Movie release date'] = df_date_clean['Movie release date'].apply(format_date)\n",
      "c:\\Users\\guilh\\OneDrive\\Bureau\\ADA\\ada-2024-project-4bigbrains\\Cleaning.py:31: SettingWithCopyWarning: \n",
      "A value is trying to be set on a copy of a slice from a DataFrame.\n",
      "Try using .loc[row_indexer,col_indexer] = value instead\n",
      "\n",
      "See the caveats in the documentation: https://pandas.pydata.org/pandas-docs/stable/user_guide/indexing.html#returning-a-view-versus-a-copy\n",
      "  df_date_revenue_runtime_clean['Movie release date'] = df_date_revenue_runtime_clean['Movie release date'].apply(format_date)\n"
     ]
    }
   ],
   "source": [
    "df1, df2,df3 = GetCleanedData()"
   ]
  },
  {
   "cell_type": "code",
   "execution_count": null,
   "metadata": {},
   "outputs": [
    {
     "data": {
      "text/plain": [
       "(7982, 9)"
      ]
     },
     "execution_count": 16,
     "metadata": {},
     "output_type": "execute_result"
    }
   ],
   "source": [
    "df2.shape"
   ]
  },
  {
   "cell_type": "code",
   "execution_count": 25,
   "metadata": {},
   "outputs": [
    {
     "name": "stdout",
     "output_type": "stream",
     "text": [
      "                                   sum          mean           max\n",
      "Movie country                                                     \n",
      "Afghanistan               1.015430e+05  1.015430e+05  1.015430e+05\n",
      "Argentina                 1.338733e+08  1.912476e+07  4.824559e+07\n",
      "Australia                 5.680790e+08  9.966299e+06  1.504065e+08\n",
      "Austria                   9.841844e+07  1.968369e+07  9.218091e+07\n",
      "Belgium                   1.408431e+08  2.012044e+07  6.560581e+07\n",
      "Brazil                    1.356305e+07  2.712610e+06  7.856048e+06\n",
      "Bulgaria                  3.252650e+05  3.252650e+05  3.252650e+05\n",
      "Canada                    3.749766e+08  5.596666e+06  1.277307e+08\n",
      "China                     4.252208e+08  4.724676e+07  2.484000e+08\n",
      "Czech Republic            1.505798e+07  3.011596e+06  7.730711e+06\n",
      "Denmark                   1.541143e+08  1.401039e+07  6.712680e+07\n",
      "England                   2.915123e+07  2.915123e+06  1.185021e+07\n",
      "Finland                   6.480508e+07  7.200564e+06  2.555581e+07\n",
      "France                    9.533598e+09  2.880241e+07  3.150056e+08\n",
      "Germany                   3.048682e+08  2.032454e+07  7.938488e+07\n",
      "Greece                    4.928000e+06  4.928000e+06  4.928000e+06\n",
      "Hong Kong                 1.202865e+09  2.614923e+07  1.773944e+08\n",
      "Hungary                   1.617896e+07  1.617896e+07  1.617896e+07\n",
      "Iceland                   2.065447e+06  1.032724e+06  1.317132e+06\n",
      "India                     1.565573e+08  5.591331e+06  5.276789e+07\n",
      "Iran                      6.586261e+06  1.317252e+06  3.000000e+06\n",
      "Ireland                   2.145858e+08  1.192144e+07  8.021420e+07\n",
      "Israel                    8.885998e+06  1.777200e+06  4.100000e+06\n",
      "Italy                     5.112942e+08  2.223018e+07  2.291633e+08\n",
      "Japan                     1.880664e+09  2.000707e+07  2.026143e+08\n",
      "Kenya                     3.600000e+07  3.600000e+07  3.600000e+07\n",
      "Kingdom of Great Britain  1.026659e+08  2.566647e+07  9.760000e+07\n",
      "Korea                     1.528511e+07  7.642554e+06  1.498000e+07\n",
      "Kuwait                    5.000000e+06  5.000000e+06  5.000000e+06\n",
      "Luxembourg                3.146679e+07  3.146679e+07  3.146679e+07\n",
      "Malaysia                  2.604414e+06  2.604414e+06  2.604414e+06\n",
      "Mexico                    4.792406e+08  1.996836e+07  8.657224e+07\n",
      "Mongolia                  3.585616e+07  1.792808e+07  2.652751e+07\n",
      "Netherlands               3.191393e+07  1.595696e+07  2.676856e+07\n",
      "New Zealand               2.558003e+07  4.263338e+06  1.108757e+07\n",
      "Norway                    1.044852e+08  5.224260e+07  1.043844e+08\n",
      "Poland                    5.499681e+06  1.833227e+06  4.028293e+06\n",
      "Romania                   9.840338e+06  9.840338e+06  9.840338e+06\n",
      "Russia                    2.354014e+08  1.569343e+07  5.554900e+07\n",
      "Serbia                    2.827551e+06  1.413776e+06  2.192931e+06\n",
      "Serbia and Montenegro     1.710820e+05  1.710820e+05  1.710820e+05\n",
      "Singapore                 2.083193e+06  2.083193e+06  2.083193e+06\n",
      "Slovakia                  7.453192e+06  3.726596e+06  7.319210e+06\n",
      "South Africa              9.375721e+07  1.562620e+07  4.212257e+07\n",
      "South Korea               2.309145e+09  1.054404e+07  8.910638e+07\n",
      "Spain                     7.673783e+08  2.842142e+07  2.620622e+08\n",
      "Sweden                    4.969114e+07  8.281856e+06  2.768610e+07\n",
      "Switzerland               2.500865e+08  3.572665e+07  1.018660e+08\n",
      "Thailand                  2.020427e+08  2.886324e+07  1.412000e+08\n",
      "Turkey                    7.745250e+07  5.163500e+06  2.790000e+07\n",
      "United Arab Emirates      3.623671e+07  3.623671e+07  3.623671e+07\n",
      "United Kingdom            4.275909e+09  2.349401e+07  3.779105e+08\n",
      "United States of America  3.731298e+11  5.556661e+07  2.782275e+09\n",
      "Venezuela                 3.579383e+06  3.579383e+06  3.579383e+06\n",
      "Weimar Republic           7.798200e+04  7.798200e+04  7.798200e+04\n",
      "West Germany              1.109186e+08  5.545932e+07  8.497034e+07\n"
     ]
    }
   ],
   "source": [
    "countries_revenues = df2.groupby('Movie country')['Movie box office revenue'].agg(['sum', 'mean', 'max'])\n",
    "print(countries_revenues)\n"
   ]
  },
  {
   "cell_type": "code",
   "execution_count": 18,
   "metadata": {},
   "outputs": [
    {
     "name": "stdout",
     "output_type": "stream",
     "text": [
      "<pandas.core.groupby.generic.SeriesGroupBy object at 0x0000024869C89290>\n"
     ]
    }
   ],
   "source": [
    "print(countries_revenues)"
   ]
  },
  {
   "cell_type": "code",
   "execution_count": 20,
   "metadata": {},
   "outputs": [],
   "source": [
    "countries_revenues = countries_revenues.nlargest(20)"
   ]
  },
  {
   "cell_type": "code",
   "execution_count": 21,
   "metadata": {},
   "outputs": [],
   "source": [
    "countries_names = countries_revenues.index.to_list()"
   ]
  },
  {
   "cell_type": "code",
   "execution_count": 24,
   "metadata": {},
   "outputs": [
    {
     "data": {
      "text/plain": [
       "<bound method NDFrame.head of Movie country                  \n",
       "Afghanistan               51762       101543.0\n",
       "Argentina                 53940     48245593.0\n",
       "                          68033     25793614.0\n",
       "                          27850     18052128.0\n",
       "                          4410      17159458.0\n",
       "                                      ...     \n",
       "United States of America  13479    921111197.0\n",
       "Venezuela                 1866       3579383.0\n",
       "Weimar Republic           6737         77982.0\n",
       "West Germany              62222     84970337.0\n",
       "                          18126     25948300.0\n",
       "Name: Movie box office revenue, Length: 450, dtype: float64>"
      ]
     },
     "execution_count": 24,
     "metadata": {},
     "output_type": "execute_result"
    }
   ],
   "source": [
    "countries_revenues.head"
   ]
  },
  {
   "cell_type": "code",
   "execution_count": null,
   "metadata": {},
   "outputs": [],
   "source": []
  }
 ],
 "metadata": {
  "kernelspec": {
   "display_name": "Python 3",
   "language": "python",
   "name": "python3"
  },
  "language_info": {
   "codemirror_mode": {
    "name": "ipython",
    "version": 3
   },
   "file_extension": ".py",
   "mimetype": "text/x-python",
   "name": "python",
   "nbconvert_exporter": "python",
   "pygments_lexer": "ipython3",
   "version": "3.11.4"
  }
 },
 "nbformat": 4,
 "nbformat_minor": 2
}
