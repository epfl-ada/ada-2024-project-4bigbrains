{
 "cells": [
  {
   "cell_type": "code",
   "execution_count": 1,
   "id": "520d7c05-ba1b-45c7-a7fd-93f3ec09a55d",
   "metadata": {},
   "outputs": [],
   "source": [
    "# Imports \n",
    "import pandas as pd\n",
    "from datetime import datetime\n",
    "import ast\n",
    "import numpy as np\n",
    "import matplotlib\n",
    "import matplotlib.pyplot as plt\n",
    "import seaborn as sns\n",
    "import os\n",
    "import sys\n",
    "import plotly.express as px\n",
    "from scipy import stats\n",
    "\n",
    "\n",
    "#for LDA:\n",
    "import gzip\n",
    "import tarfile\n",
    "import xml.etree.ElementTree as ET\n",
    "from sklearn.feature_extraction.text import CountVectorizer\n",
    "from sklearn.decomposition import LatentDirichletAllocation\n",
    "from gensim.corpora import Dictionary\n",
    "from gensim.models import LdaMulticore\n",
    "from gensim.models import CoherenceModel\n",
    "from gensim.corpora import Dictionary\n",
    "\n",
    "colors = [\n",
    "    \"#FF6B6B\", \"#F4A261\", \"#2A9D8F\", \"#264653\", \"#E9C46A\", \"#E76F51\", \"#A8DADC\", \"#457B9D\", \"#1D3557\", \"#FFE8D6\", \n",
    "    \"#FFB4A2\",  \n",
    "    \"#CB997E\",  \n",
    "    \"#A5A58D\",  \n",
    "    \"#6D6875\",  \n",
    "    \"#B5838D\",  \n",
    "    \"#81B29A\",  \n",
    "    \"#F2CC8F\",  \n",
    "    \"#606C38\" \n",
    "]\n",
    "\n",
    "import random\n",
    "seed = 42\n",
    "random.seed(seed)\n",
    "np.random.seed(seed)\n",
    "\n",
    "focus_countries = ['United States of America', 'India', 'United Kingdom', 'Japan', 'Argentina', 'Iran']\n",
    "\n",
    "color_dict = dict(zip(focus_countries, colors))"
   ]
  },
  {
   "cell_type": "code",
   "execution_count": 2,
   "id": "f788527b-4c33-4198-ab8a-62fc2dc3a927",
   "metadata": {},
   "outputs": [
    {
     "data": {
      "text/html": [
       "<div>\n",
       "<style scoped>\n",
       "    .dataframe tbody tr th:only-of-type {\n",
       "        vertical-align: middle;\n",
       "    }\n",
       "\n",
       "    .dataframe tbody tr th {\n",
       "        vertical-align: top;\n",
       "    }\n",
       "\n",
       "    .dataframe thead th {\n",
       "        text-align: right;\n",
       "    }\n",
       "</style>\n",
       "<table border=\"1\" class=\"dataframe\">\n",
       "  <thead>\n",
       "    <tr style=\"text-align: right;\">\n",
       "      <th></th>\n",
       "      <th>Wikipedia movie ID</th>\n",
       "      <th>Freebase movie ID</th>\n",
       "      <th>Movie name</th>\n",
       "      <th>Movie release date</th>\n",
       "      <th>Movie box office revenue</th>\n",
       "      <th>Movie runtime</th>\n",
       "      <th>Movie languages</th>\n",
       "      <th>Movie country</th>\n",
       "      <th>Movie genres</th>\n",
       "    </tr>\n",
       "  </thead>\n",
       "  <tbody>\n",
       "    <tr>\n",
       "      <th>0</th>\n",
       "      <td>975900</td>\n",
       "      <td>/m/03vyhn</td>\n",
       "      <td>Ghosts of Mars</td>\n",
       "      <td>2001</td>\n",
       "      <td>14010832.0</td>\n",
       "      <td>98.0</td>\n",
       "      <td>['English Language']</td>\n",
       "      <td>United States of America</td>\n",
       "      <td>thriller</td>\n",
       "    </tr>\n",
       "    <tr>\n",
       "      <th>1</th>\n",
       "      <td>3196793</td>\n",
       "      <td>/m/08yl5d</td>\n",
       "      <td>Getting Away with Murder: The JonBenét Ramsey ...</td>\n",
       "      <td>2000</td>\n",
       "      <td>NaN</td>\n",
       "      <td>95.0</td>\n",
       "      <td>['English Language']</td>\n",
       "      <td>United States of America</td>\n",
       "      <td>mystery</td>\n",
       "    </tr>\n",
       "    <tr>\n",
       "      <th>2</th>\n",
       "      <td>28463795</td>\n",
       "      <td>/m/0crgdbh</td>\n",
       "      <td>Brun bitter</td>\n",
       "      <td>1988</td>\n",
       "      <td>NaN</td>\n",
       "      <td>83.0</td>\n",
       "      <td>['Norwegian Language']</td>\n",
       "      <td>Norway</td>\n",
       "      <td>crime fiction</td>\n",
       "    </tr>\n",
       "    <tr>\n",
       "      <th>3</th>\n",
       "      <td>9363483</td>\n",
       "      <td>/m/0285_cd</td>\n",
       "      <td>White Of The Eye</td>\n",
       "      <td>1987</td>\n",
       "      <td>NaN</td>\n",
       "      <td>110.0</td>\n",
       "      <td>['English Language']</td>\n",
       "      <td>United Kingdom</td>\n",
       "      <td>thriller</td>\n",
       "    </tr>\n",
       "    <tr>\n",
       "      <th>4</th>\n",
       "      <td>261236</td>\n",
       "      <td>/m/01mrr1</td>\n",
       "      <td>A Woman in Flames</td>\n",
       "      <td>1983</td>\n",
       "      <td>NaN</td>\n",
       "      <td>106.0</td>\n",
       "      <td>['German Language']</td>\n",
       "      <td>Germany</td>\n",
       "      <td>drama</td>\n",
       "    </tr>\n",
       "  </tbody>\n",
       "</table>\n",
       "</div>"
      ],
      "text/plain": [
       "   Wikipedia movie ID Freebase movie ID  \\\n",
       "0              975900         /m/03vyhn   \n",
       "1             3196793         /m/08yl5d   \n",
       "2            28463795        /m/0crgdbh   \n",
       "3             9363483        /m/0285_cd   \n",
       "4              261236         /m/01mrr1   \n",
       "\n",
       "                                          Movie name  Movie release date  \\\n",
       "0                                     Ghosts of Mars                2001   \n",
       "1  Getting Away with Murder: The JonBenét Ramsey ...                2000   \n",
       "2                                        Brun bitter                1988   \n",
       "3                                   White Of The Eye                1987   \n",
       "4                                  A Woman in Flames                1983   \n",
       "\n",
       "   Movie box office revenue  Movie runtime         Movie languages  \\\n",
       "0                14010832.0           98.0    ['English Language']   \n",
       "1                       NaN           95.0    ['English Language']   \n",
       "2                       NaN           83.0  ['Norwegian Language']   \n",
       "3                       NaN          110.0    ['English Language']   \n",
       "4                       NaN          106.0     ['German Language']   \n",
       "\n",
       "              Movie country   Movie genres  \n",
       "0  United States of America       thriller  \n",
       "1  United States of America        mystery  \n",
       "2                    Norway  crime fiction  \n",
       "3            United Kingdom       thriller  \n",
       "4                   Germany          drama  "
      ]
     },
     "execution_count": 2,
     "metadata": {},
     "output_type": "execute_result"
    }
   ],
   "source": [
    "DATA_PATH = 'data'\n",
    "df_date_clean = pd.read_csv(DATA_PATH + '/df_date_clean.csv')\n",
    "df_date_clean['Movie genres'] = df_date_clean['Movie genres'].str.lower().str.strip() # a faire plutot dans la fcto qui fait df_date_clean\n",
    "df_date_clean.head()"
   ]
  },
  {
   "cell_type": "code",
   "execution_count": 3,
   "id": "e7c9a332-a701-49f0-b639-08969e089331",
   "metadata": {},
   "outputs": [],
   "source": [
    "weak_verbs = {\n",
    "    \"accept\", \"achieve\", \"act\", \"add\", \"admit\", \"affect\", \"afford\", \"agree\", \"aim\", \"allow\", \"appear\", \"apply\", \"argue\",\n",
    "    \"arrange\", \"arrive\", \"ask\", \"assume\", \"avoid\", \"be\", \"become\", \"begin\", \"believe\", \"belong\", \"bring\", \"build\", \"buy\", \"call\",\n",
    "    \"carry\", \"cause\", \"change\", \"choose\", \"claim\", \"close\", \"collect\", \"come\", \"commit\", \"compare\", \"complete\",\n",
    "    \"consider\", \"consist\", \"continue\", \"contribute\", \"control\", \"cope\", \"create\", \"cut\", \"deal\", \"decide\", \"decline\",\n",
    "    \"deliver\", \"demand\", \"depend\", \"describe\", \"design\", \"determine\", \"develop\", \"differ\", \"discover\",\n",
    "    \"discuss\", \"display\", \"do\", \"draw\", \"dress\", \"drink\", \"drive\", \"eat\", \"encourage\", \"end\", \"enjoy\",\n",
    "    \"enter\", \"establish\", \"examine\", \"exist\", \"expect\", \"experience\", \"explain\", \"express\", \"fail\", \"fall\", \"feel\",\n",
    "    \"find\", \"follow\", \"form\", \"function\", \"gain\", \"get\", \"give\", \"go\", \"grow\", \"guess\", \"handle\", \"happen\",\n",
    "    \"have\", \"hear\", \"help\", \"hold\", \"hope\", \"identify\", \"imagine\", \"implement\", \"improve\", \"include\", \"increase\",\n",
    "    \"influence\", \"inform\", \"initiate\", \"insist\", \"intend\", \"introduce\", \"involve\", \"join\", \"keep\",\"kill\", \"know\",\n",
    "    \"lead\", \"learn\", \"leave\", \"let\", \"like\", \"listen\", \"live\", \"look\", \"lose\", \"maintain\",\n",
    "    \"make\" , \"manage\", \"matter\", \"mean\", \"measure\", \"meet\", \"mention\", \"mind\", \"miss\", \"move\", \"need\",\"new\", \"note\", \"notice\",\n",
    "    \"observe\", \"obtain\", \"occur\", \"offer\", \"open\", \"operate\", \"organize\", \"other\", \"own\", \"participate\", \"pass\", \"pay\", \"perform\",\n",
    "    \"plan\", \"play\", \"possess\", \"prefer\", \"prepare\", \"present\", \"prevent\", \"proceed\", \"produce\", \"provide\", \"pull\", \"put\",\n",
    "    \"raise\", \"reach\", \"read\", \"realize\", \"receive\", \"recognize\", \"record\", \"reduce\", \"refer\", \"reflect\", \"refuse\",\n",
    "    \"regard\", \"relate\", \"remain\", \"remember\", \"remove\", \"report\", \"represent\", \"require\", \"resolve\", \"respond\",\n",
    "    \"result\", \"reveal\", \"rise\", \"run\", \"save\", \"say\", \"see\", \"seem\", \"select\", \"sell\", \"send\", \"serve\", \"set\", \"share\",\n",
    "    \"show\", \"sit\", \"sleep\", \"solve\", \"speak\", \"spend\", \"stand\", \"start\", \"state\", \"stay\", \"stop\", \"study\", \"suggest\",\n",
    "    \"supply\", \"support\", \"suppose\", \"take\", \"talk\", \"teach\", \"tell\", \"tend\", \"test\", \"think\", \"touch\",\n",
    "    \"train\", \"try\", \"turn\", \"understand\", \"use\", \"vary\", \"view\", \"visit\", \"wait\", \"walk\", \"want\", \"watch\", \"wear\",\n",
    "    \"win\", \"wish\", \"work\", \"write\"\n",
    "}\n",
    "# function that extracts the meaningful words in each XML file\n",
    "def parse_corenlp_file(file):\n",
    "    with gzip.open(file, 'rt', encoding='utf-8') as f:\n",
    "        tree = ET.parse(f)\n",
    "        root = tree.getroot()\n",
    "        filtered_words = []\n",
    "        for token in root.iter('token'):\n",
    "            lemma = token.find('lemma').text\n",
    "            pos = token.find('POS').text\n",
    "            if pos in {'NN', 'NNS'} or pos.startswith('VB') or pos.startswith('JJ'):\n",
    "                if lemma.lower() not in weak_verbs:\n",
    "                    filtered_words.append(lemma)\n",
    "        return ' '.join(filtered_words)"
   ]
  },
  {
   "cell_type": "code",
   "execution_count": 4,
   "id": "a188b162-c2f2-4759-b7c9-d976994d2b18",
   "metadata": {},
   "outputs": [],
   "source": [
    "tar_path = 'data/corenlp_plot_summaries.tar'\n",
    "\n",
    "documents = []\n",
    "ids = []\n",
    "\n",
    "\n",
    "with tarfile.open(tar_path, 'r') as tar:\n",
    "    for member in tar.getmembers():\n",
    "        if member.name.endswith('.xml.gz'):\n",
    "            with tar.extractfile(member) as xml_gz_file:\n",
    "                film_id = member.name.split('/')[-1].replace('.xml.gz', '')\n",
    "                film_id = int(film_id)\n",
    "                ids.append(film_id)\n",
    "                document = parse_corenlp_file(xml_gz_file)\n",
    "                documents.append(document)"
   ]
  },
  {
   "cell_type": "markdown",
   "id": "744247c3-d95c-49f0-b5b8-a4fa3005251b",
   "metadata": {},
   "source": [
    "## General LDA analysis"
   ]
  },
  {
   "cell_type": "code",
   "execution_count": 5,
   "id": "ab275333-b52b-436d-9974-affc46d4986e",
   "metadata": {},
   "outputs": [],
   "source": [
    "#general dictionnary and corpus\n",
    "tokenized_documents_general = [[word for word in doc.lower().split() if len(word) >= 2] for doc in documents]\n",
    "dictionary_general = Dictionary(tokenized_documents_general)\n",
    "max_freq = 0.3\n",
    "min_wordcount = 5\n",
    "dictionary_general.filter_extremes(no_below=min_wordcount, no_above=max_freq)\n",
    "corpus_general = [dictionary_general.doc2bow(doc) for doc in tokenized_documents_general]"
   ]
  },
  {
   "cell_type": "code",
   "execution_count": 6,
   "id": "408559a1-3b9c-4218-9e9a-1b7034faf77c",
   "metadata": {},
   "outputs": [],
   "source": [
    "def compute_coherence_values(dictionary, corpus, texts, start, limit, step):\n",
    "    coherence_values = []\n",
    "    model_list = []\n",
    "    for num_topics in range(start, limit, step):\n",
    "        model = LdaMulticore(\n",
    "            corpus=corpus,\n",
    "            num_topics=num_topics,\n",
    "            id2word=dictionary,\n",
    "            passes=10,\n",
    "            workers=4,\n",
    "            random_state=42,\n",
    "        )\n",
    "        model_list.append(model)\n",
    "        coherencemodel = CoherenceModel(\n",
    "            model=model, texts=texts, dictionary=dictionary, coherence='c_v'\n",
    "        )\n",
    "        coherence_values.append(coherencemodel.get_coherence())\n",
    "    return model_list, coherence_values"
   ]
  },
  {
   "cell_type": "code",
   "execution_count": 7,
   "id": "fbf3d940-4ed1-4380-848d-2e15238b3fcf",
   "metadata": {},
   "outputs": [],
   "source": [
    "start = 2\n",
    "limit = 6\n",
    "step = 1\n",
    "models_general, coherences_general = compute_coherence_values(dictionary=dictionary_general, corpus=corpus_general, texts=tokenized_documents_general, start=start, limit=limit, step=step)"
   ]
  },
  {
   "cell_type": "code",
   "execution_count": 8,
   "id": "8cd0fabf-183f-46a5-bea5-8254f7296590",
   "metadata": {},
   "outputs": [
    {
     "data": {
      "image/png": "[encoded data removed]",
      "text/plain": [
       "<Figure size 640x480 with 1 Axes>"
      ]
     },
     "metadata": {},
     "output_type": "display_data"
    }
   ],
   "source": [
    "x = range(start, limit, step)\n",
    "plt.plot(x, coherences_general)\n",
    "plt.xlabel(\"Number of topics\")\n",
    "plt.ylabel(\"Coherence score\")\n",
    "plt.title(\"Optimization of the number of topics\")\n",
    "plt.show()"
   ]
  },
  {
   "cell_type": "code",
   "execution_count": 9,
   "id": "890ec122-2fd3-4583-b484-f495b69956ed",
   "metadata": {},
   "outputs": [],
   "source": [
    "selected_coherences = np.max(coherences_general)\n",
    "selected_models_general= models_general[np.argmax(coherences_general)]"
   ]
  },
  {
   "cell_type": "code",
   "execution_count": 10,
   "id": "d1eae46f-4478-4313-b3fd-d5fe4cd7a224",
   "metadata": {},
   "outputs": [
    {
     "name": "stdout",
     "output_type": "stream",
     "text": [
      "\n",
      "Coherence of the selected model: 0.40438655270454094\n",
      "\n",
      "Topic 0: 0.006*\"attack\" + 0.006*\"escape\" + 0.005*\"return\" + 0.004*\"time\" + 0.004*\"force\" + 0.004*\"attempt\" + 0.004*\"group\" + 0.004*\"order\" + 0.004*\"ship\" + 0.004*\"fight\"\n",
      "Best representative movie: Eden Log (Proportion: 0.9988)\n",
      "Topic 1: 0.011*\"police\" + 0.008*\"car\" + 0.007*\"murder\" + 0.007*\"money\" + 0.006*\"house\" + 0.006*\"shoot\" + 0.005*\"escape\" + 0.005*\"gang\" + 0.005*\"friend\" + 0.004*\"name\"\n",
      "Best representative movie: Played (Proportion: 0.9982)\n",
      "Topic 2: 0.013*\"love\" + 0.011*\"father\" + 0.010*\"family\" + 0.009*\"friend\" + 0.008*\"mother\" + 0.007*\"marry\" + 0.007*\"day\" + 0.006*\"home\" + 0.006*\"time\" + 0.006*\"woman\"\n",
      "Best representative movie: The Pregnancy Pact (Proportion: 0.9981)\n",
      "\n",
      "\n",
      "\n"
     ]
    }
   ],
   "source": [
    "top_themes_per_document = []\n",
    "for i, doc in enumerate(corpus_general):\n",
    "    doc_topics = selected_models_general.get_document_topics(doc, minimum_probability=0)\n",
    "    sorted_doc_topics = sorted(doc_topics, key=lambda x: x[1], reverse=True)\n",
    "\n",
    "    top_indices = [topic_id for topic_id, _ in sorted_doc_topics[:3]]\n",
    "    top_proportions = [proportion for _, proportion in sorted_doc_topics[:3]]\n",
    "\n",
    "    top_themes_per_document.append({\n",
    "        \"Wikipedia movie ID\": ids[i],\n",
    "        \"Theme 1\": top_indices[0],\n",
    "        \"Prop Theme 1\": top_proportions[0],\n",
    "    })\n",
    "\n",
    "df_top_themes = pd.DataFrame(top_themes_per_document)\n",
    "\n",
    "df_date_clean['Wikipedia movie ID'] = df_date_clean['Wikipedia movie ID'].astype(str)\n",
    "df_top_themes['Wikipedia movie ID'] = df_top_themes['Wikipedia movie ID'].astype(str)\n",
    "merged_df = pd.merge(df_date_clean, df_top_themes, on='Wikipedia movie ID', how='inner')\n",
    "\n",
    "best_movies_per_theme = merged_df.loc[merged_df.groupby(\"Theme 1\")[\"Prop Theme 1\"].idxmax()]\n",
    "best_movies_per_theme.head()\n",
    "\n",
    "print(f\"\\nCoherence of the selected model: {selected_coherences}\\n\")\n",
    "for idx, topic in selected_models_general.print_topics(-1):\n",
    "    best_movie_data = best_movies_per_theme.loc[best_movies_per_theme['Theme 1'] == idx]\n",
    "    movie_name = best_movie_data['Movie name'].values[0]\n",
    "    proportion = best_movie_data['Prop Theme 1'].values[0]\n",
    "    print(f\"Topic {idx}: {topic}\")\n",
    "    print(f\"Best representative movie: {movie_name} (Proportion: {proportion:.4f})\")\n",
    "print(\"\\n\\n\")"
   ]
  },
  {
   "cell_type": "code",
   "execution_count": 11,
   "id": "2415c425",
   "metadata": {},
   "outputs": [
    {
     "data": {
      "image/png": "[encoded data removed]",
      "text/plain": [
       "<Figure size 1200x1500 with 6 Axes>"
      ]
     },
     "metadata": {},
     "output_type": "display_data"
    }
   ],
   "source": [
    "num_columns = 2\n",
    "num_rows = 3\n",
    "fig, axes = plt.subplots(num_rows, num_columns, figsize=(12, 15))\n",
    "fig.suptitle('Standardized Distribution of Movie Themes Across Countries')\n",
    "axes = axes.flatten()\n",
    "\n",
    "for idx, country in enumerate(focus_countries):\n",
    "    movies = merged_df[merged_df['Movie country'] == country]\n",
    "    theme_counts = movies['Theme 1'].value_counts()\n",
    "    theme_counts_stand = theme_counts / theme_counts.sum()\n",
    "\n",
    "    axes[idx].bar(theme_counts_stand.index, theme_counts_stand.values,color=color_dict[country])\n",
    "    axes[idx].set_title(f\"{country}\")\n",
    "    axes[idx].set_xlabel(\"Main topic\")\n",
    "    axes[idx].set_ylabel(\"Standardized Distribution\")\n",
    "    axes[idx].set_xticks(theme_counts_stand.index)  # Ensure theme indices show up correctly on x-axis\n",
    "    axes[idx].set_xticklabels(theme_counts_stand.index)\n",
    "\n",
    "for ax in axes:\n",
    "    ax.set_ylim(0, 0.7)\n",
    "\n",
    "plt.tight_layout()\n",
    "plt.show()"
   ]
  },
  {
   "cell_type": "markdown",
   "id": "bb58e258-e99a-43f0-a959-1f170336345b",
   "metadata": {},
   "source": [
    "## Specific on genre analysis"
   ]
  },
  {
   "cell_type": "code",
   "execution_count": 12,
   "id": "d12d14bc",
   "metadata": {},
   "outputs": [],
   "source": [
    "movie_genres=df_date_clean[\"Movie genres\"].unique()\n",
    "genre_documents = {genre: [] for genre in movie_genres}\n",
    "ids_documents = {genre: [] for genre in movie_genres}\n",
    "number_films_minimum = 1000 #treshold for the number of films\n",
    "\n",
    "for i, doc in enumerate(documents):\n",
    "    row = df_date_clean[df_date_clean['Wikipedia movie ID'].astype(int) == ids[i]]\n",
    "    if not row.empty:\n",
    "        genre = row['Movie genres'].iloc[0]\n",
    "        genre_documents[genre].append(doc)\n",
    "        ids_documents[genre].append(ids[i])\n",
    "    else:\n",
    "        # Skip if no matching row found\n",
    "        continue"
   ]
  },
  {
   "cell_type": "code",
   "execution_count": 13,
   "id": "35dd20ec-5719-4752-af1c-01edf1a1f00f",
   "metadata": {},
   "outputs": [],
   "source": [
    "filter_genre_documents = {key: value for key, value in genre_documents.items() if len(value) > number_films_minimum}"
   ]
  },
  {
   "cell_type": "code",
   "execution_count": 14,
   "id": "baa4b651-0e92-4b4e-83be-7cf8598f6bff",
   "metadata": {},
   "outputs": [
    {
     "data": {
      "image/png": "[encoded data removed]",
      "text/plain": [
       "<Figure size 1200x600 with 1 Axes>"
      ]
     },
     "metadata": {},
     "output_type": "display_data"
    }
   ],
   "source": [
    "genre_counts = {genre: len(docs) for genre, docs in filter_genre_documents.items()}\n",
    "genre_counts = dict(sorted(genre_counts.items(), key=lambda item: item[1], reverse=True))\n",
    "\n",
    "plt.figure(figsize=(12, 6))\n",
    "plt.bar(genre_counts.keys(), genre_counts.values())\n",
    "plt.xlabel('Movie genres')\n",
    "plt.ylabel('Number of movies')\n",
    "plt.title('Number of movies per genre')\n",
    "plt.xticks(rotation=45, ha='right')\n",
    "plt.tight_layout()\n",
    "plt.show()"
   ]
  },
  {
   "cell_type": "code",
   "execution_count": 15,
   "id": "36317469-9b34-4319-b9fb-5f37b3188ad0",
   "metadata": {},
   "outputs": [
    {
     "data": {
      "image/png": "[encoded data removed]",
      "text/plain": [
       "<Figure size 1200x600 with 1 Axes>"
      ]
     },
     "metadata": {},
     "output_type": "display_data"
    }
   ],
   "source": [
    "merged_genres = {}\n",
    "merged_ids = {}\n",
    "merged_genres['romance'] = []\n",
    "merged_ids['romance'] = []\n",
    "\n",
    "for genre, docs in filter_genre_documents.items():\n",
    "    if genre in ['romantic comedy', 'romance film']:\n",
    "        merged_genres['romance'].extend(docs)\n",
    "        merged_ids['romance'].extend(ids_documents[genre])\n",
    "    else:\n",
    "        if genre not in merged_genres:\n",
    "            merged_genres[genre] = []\n",
    "            merged_ids[genre] = []\n",
    "        merged_genres[genre].extend(docs)\n",
    "        merged_ids[genre].extend(ids_documents[genre])\n",
    "\n",
    "\n",
    "genre_counts2 = {genre: len(docs) for genre, docs in merged_genres.items()}\n",
    "genre_counts2 = dict(sorted(genre_counts2.items(), key=lambda item: item[1], reverse=True))\n",
    "\n",
    "\n",
    "plt.figure(figsize=(12, 6))\n",
    "plt.bar(genre_counts2.keys(), genre_counts2.values())\n",
    "plt.xlabel('Movie genres')\n",
    "plt.ylabel('Number of movies')\n",
    "plt.title('Number of movies per genre, with Romantic comedy and Romance film merged as Romance')\n",
    "plt.xticks(rotation=45, ha='right')\n",
    "plt.tight_layout()\n",
    "plt.show()"
   ]
  },
  {
   "cell_type": "markdown",
   "id": "2e115a0a-d968-46ec-8d91-92bcc0bea31f",
   "metadata": {},
   "source": [
    "So we can study the topics in those top 3 genres: Thriller, Drama and Romance"
   ]
  },
  {
   "cell_type": "code",
   "execution_count": 16,
   "id": "d3184eb5",
   "metadata": {},
   "outputs": [
    {
     "name": "stdout",
     "output_type": "stream",
     "text": [
      "dict_keys(['thriller', 'drama', 'romance'])\n"
     ]
    }
   ],
   "source": [
    "top_3_genres = list(genre_counts2.keys())[:3]\n",
    "\n",
    "top_3_genres_dict = {genre: merged_genres[genre] for genre in top_3_genres}\n",
    "top_3_genres_ids = {genre: merged_ids[genre] for genre in top_3_genres}\n",
    "print(top_3_genres_dict.keys())"
   ]
  },
  {
   "cell_type": "code",
   "execution_count": 17,
   "id": "04f4c7d8",
   "metadata": {},
   "outputs": [],
   "source": [
    "# Specific dictionnary and corpus per genres\n",
    "genre_tokenized_documents = {genre: [] for genre in top_3_genres_dict}\n",
    "genre_dictionary = {genre: [] for genre in top_3_genres_dict}\n",
    "genre_corpus = {genre: [] for genre in top_3_genres_dict}\n",
    "genre_models = {genre: [] for genre in top_3_genres_dict}\n",
    "\n",
    "for genre in top_3_genres_dict:\n",
    "    tokenized_documents = [[word for word in doc.lower().split() if len(word) >= 2] for doc in top_3_genres_dict[genre]]\n",
    "    dictionary = Dictionary(tokenized_documents)\n",
    "    dictionary.filter_extremes(no_below=min_wordcount, no_above=max_freq)\n",
    "    genre_tokenized_documents[genre] = tokenized_documents\n",
    "    genre_dictionary[genre] = dictionary\n",
    "    corpus = [dictionary.doc2bow(doc) for doc in tokenized_documents]\n",
    "    genre_corpus[genre] = corpus"
   ]
  },
  {
   "cell_type": "code",
   "execution_count": 18,
   "id": "d7ccfb8e-75ca-4cf3-b0e5-729aef208b65",
   "metadata": {},
   "outputs": [
    {
     "data": {
      "image/png": "[encoded data removed]",
      "text/plain": [
       "<Figure size 1000x600 with 1 Axes>"
      ]
     },
     "metadata": {},
     "output_type": "display_data"
    }
   ],
   "source": [
    "coherence_values = {genre: [] for genre in top_3_genres_dict}\n",
    "plt.figure(figsize=(10, 6))\n",
    "for genre in top_3_genres_dict:\n",
    "    genre_models[genre], coherence_values[genre] = compute_coherence_values(dictionary=genre_dictionary[genre], corpus=genre_corpus[genre], texts=genre_tokenized_documents[genre], start=start, limit=limit, step=step)\n",
    "    \n",
    "for genre, values in coherence_values.items():\n",
    "    plt.plot(x, values, label=genre)\n",
    "    \n",
    "plt.xlabel(\"Number of topics\")\n",
    "plt.ylabel(\"Coherence score\")\n",
    "plt.title(\"Optimization of the number of topics by genre\")\n",
    "plt.legend(title=\"Genres\") \n",
    "plt.tight_layout()\n",
    "plt.show()"
   ]
  },
  {
   "cell_type": "code",
   "execution_count": 19,
   "id": "99121ac4",
   "metadata": {},
   "outputs": [],
   "source": [
    "selected_models = {}\n",
    "selected_coherences = {}\n",
    "\n",
    "for genre, models in genre_models.items():\n",
    "    selected_coherences[genre] = np.max(coherence_values[genre])\n",
    "    selected_models[genre] = models[np.argmax(coherence_values[genre])]\n"
   ]
  },
  {
   "cell_type": "code",
   "execution_count": 20,
   "id": "a533e75e-7f7e-4fad-bcdf-88f4aaa42ec9",
   "metadata": {},
   "outputs": [
    {
     "name": "stdout",
     "output_type": "stream",
     "text": [
      "Genre:thriller\n",
      "Coherence of the selected model: 0.31978761224118774\n",
      "\n",
      "Topic 0: 0.006*\"father\" + 0.005*\"attempt\" + 0.005*\"family\" + 0.004*\"attack\" + 0.004*\"agent\" + 0.004*\"order\" + 0.004*\"son\" + 0.004*\"name\" + 0.004*\"force\" + 0.004*\"day\"\n",
      "Best representative movie: Deadly Voyage (Proportion: 0.9588)\n",
      "\n",
      "Topic 1: 0.007*\"house\" + 0.006*\"attack\" + 0.005*\"body\" + 0.005*\"room\" + 0.005*\"mother\" + 0.005*\"die\" + 0.005*\"home\" + 0.004*\"woman\" + 0.004*\"child\" + 0.004*\"group\"\n",
      "Best representative movie: Ghosts of Mars (Proportion: 0.6688)\n",
      "\n",
      "Topic 2: 0.009*\"car\" + 0.009*\"shoot\" + 0.006*\"money\" + 0.006*\"house\" + 0.006*\"gun\" + 0.005*\"wife\" + 0.005*\"home\" + 0.005*\"woman\" + 0.005*\"name\" + 0.004*\"day\"\n",
      "Best representative movie: ...And Justice for All (Proportion: 0.9973)\n",
      "\n",
      "\n",
      "\n",
      "\n",
      "Genre:drama\n",
      "Coherence of the selected model: 0.3869772939194343\n",
      "\n",
      "Topic 0: 0.011*\"family\" + 0.010*\"love\" + 0.010*\"father\" + 0.009*\"mother\" + 0.009*\"man\" + 0.008*\"son\" + 0.008*\"daughter\" + 0.007*\"wife\" + 0.007*\"young\" + 0.007*\"woman\"\n",
      "Best representative movie: Karayilekku Oru Kadal Dooram (Proportion: 0.8783)\n",
      "\n",
      "Topic 1: 0.007*\"school\" + 0.007*\"friend\" + 0.007*\"day\" + 0.007*\"home\" + 0.007*\"man\" + 0.007*\"father\" + 0.006*\"child\" + 0.006*\"return\" + 0.006*\"time\" + 0.005*\"mother\"\n",
      "Best representative movie: A Woman in Flames (Proportion: 0.5101)\n",
      "\n",
      "\n",
      "\n",
      "\n",
      "Genre:romance\n",
      "Coherence of the selected model: 0.3492217328870562\n",
      "\n",
      "Topic 0: 0.007*\"money\" + 0.006*\"job\" + 0.005*\"return\" + 0.005*\"wife\" + 0.005*\"way\" + 0.005*\"film\" + 0.005*\"story\" + 0.004*\"woman\" + 0.004*\"name\" + 0.004*\"police\"\n",
      "Best representative movie: Anbu Thozhi (Proportion: 0.5062)\n",
      "\n",
      "Topic 1: 0.010*\"film\" + 0.009*\"relationship\" + 0.009*\"school\" + 0.008*\"woman\" + 0.008*\"girl\" + 0.007*\"mother\" + 0.007*\"father\" + 0.006*\"date\" + 0.006*\"year\" + 0.005*\"family\"\n",
      "Best representative movie: Little city (Proportion: 0.9837)\n",
      "\n",
      "Topic 2: 0.013*\"father\" + 0.010*\"family\" + 0.010*\"home\" + 0.009*\"return\" + 0.008*\"mother\" + 0.008*\"house\" + 0.006*\"night\" + 0.006*\"woman\" + 0.005*\"wife\" + 0.005*\"marriage\"\n",
      "Best representative movie: The Little Hut (Proportion: 0.9473)\n",
      "\n",
      "\n",
      "\n",
      "\n"
     ]
    }
   ],
   "source": [
    "top_themes_per_document_by_genre = {}\n",
    "\n",
    "for genre in top_3_genres:\n",
    "    top_theme = []\n",
    "    top_proportion = []\n",
    "    model = selected_models[genre]\n",
    "    corpus = genre_corpus[genre]\n",
    "\n",
    "    for i, doc in enumerate(corpus):\n",
    "        doc_topics = model.get_document_topics(doc, minimum_probability=0)\n",
    "        top_topic = max(doc_topics, key=lambda x: x[1])\n",
    "        top_theme.append(top_topic[0])\n",
    "        top_proportion.append(top_topic[1])\n",
    "\n",
    "    genre_df = pd.DataFrame({\n",
    "        \"Wikipedia movie ID\": merged_ids[genre],\n",
    "        \"Theme 1\": top_theme,\n",
    "        \"Prop Theme 1\": top_proportion,\n",
    "    })\n",
    "\n",
    "    df_date_clean['Wikipedia movie ID'] = df_date_clean['Wikipedia movie ID'].astype(int)\n",
    "    genre_df['Wikipedia movie ID'] = genre_df['Wikipedia movie ID'].astype(int)\n",
    "    genre_df = pd.merge(df_date_clean, genre_df, on=\"Wikipedia movie ID\", how=\"inner\")\n",
    "    top_themes_per_document_by_genre[genre] = genre_df\n",
    "    print(f'Genre:{genre}')\n",
    "    print(f\"Coherence of the selected model: {selected_coherences[genre]}\\n\")\n",
    "    for idx, topic in model.print_topics(-1):\n",
    "        best_movie_data = genre_df.loc[genre_df['Theme 1'] == idx]\n",
    "        movie_name = best_movie_data['Movie name'].values[0]\n",
    "        proportion = best_movie_data['Prop Theme 1'].values[0]\n",
    "        print(f\"Topic {idx}: {topic}\")\n",
    "        print(f\"Best representative movie: {movie_name} (Proportion: {proportion:.4f})\\n\")\n",
    "    print(\"\\n\\n\")\n"
   ]
  },
  {
   "cell_type": "code",
   "execution_count": 21,
   "id": "60e03d22",
   "metadata": {},
   "outputs": [
    {
     "data": {
      "image/png": "[encoded data removed]",
      "text/plain": [
       "<Figure size 1000x1500 with 3 Axes>"
      ]
     },
     "metadata": {},
     "output_type": "display_data"
    }
   ],
   "source": [
    "fig, axes = plt.subplots(len(selected_models), 1, figsize=(10, 5 * len(selected_models)))\n",
    "fig.suptitle('Standardized Distribution of Movie Themes Across Countries by Genre')\n",
    "\n",
    "for idx, genre in enumerate(selected_models):\n",
    "    merged_df = top_themes_per_document_by_genre[genre]\n",
    "    theme_data = merged_df[['Movie country', 'Theme 1']]\n",
    "    theme_counts = theme_data.groupby(['Movie country', 'Theme 1']).size().unstack(fill_value=0)\n",
    "    theme_proportions = theme_counts.div(theme_counts.sum(axis=1), axis=0)\n",
    "\n",
    "    ax = axes[idx]\n",
    "    theme_proportions.loc[focus_countries].plot(kind='bar', stacked=True, ax=ax, colormap='viridis')\n",
    "    ax.set_title(f\"{genre}\")\n",
    "    ax.set_xlabel(\"Countries\")\n",
    "    ax.set_ylabel(\"Proportion\")\n",
    "    ax.legend(title=\"Themes\", bbox_to_anchor=(1.02, 1), loc='upper left', frameon=False)\n",
    "\n",
    "plt.tight_layout()\n",
    "plt.show()"
   ]
  },
  {
   "cell_type": "code",
   "execution_count": 22,
   "id": "a93065b2-a856-4888-a5fb-2dc6b9e73151",
   "metadata": {},
   "outputs": [
    {
     "data": {
      "application/vnd.plotly.v1+json": {
       "config": {
        "plotlyServerURL": "https://plot.ly"
       },
       "data": [
        {
         "alignmentgroup": "True",
         "hovertemplate": "Theme=0<br>Movie country=%{x}<br>Percentage=%{y}<extra></extra>",
         "legendgroup": "0",
         "marker": {
          "color": "#636efa",
          "pattern": {
           "shape": ""
          }
         },
         "name": "0",
         "offsetgroup": "0",
         "orientation": "v",
         "showlegend": true,
         "textposition": "auto",
         "texttemplate": "%{y:.2f}",
         "type": "bar",
         "x": [
          "United States of America",
          "India",
          "United Kingdom",
          "Japan",
          "Argentina",
          "Iran"
         ],
         "xaxis": "x",
         "y": [
          29.929929929929934,
          53.15904139433552,
          44.83985765124555,
          35.92233009708738,
          55.55555555555556,
          0
         ],
         "yaxis": "y"
        },
        {
         "alignmentgroup": "True",
         "hovertemplate": "Theme=1<br>Movie country=%{x}<br>Percentage=%{y}<extra></extra>",
         "legendgroup": "1",
         "marker": {
          "color": "#EF553B",
          "pattern": {
           "shape": ""
          }
         },
         "name": "1",
         "offsetgroup": "1",
         "orientation": "v",
         "showlegend": true,
         "textposition": "auto",
         "texttemplate": "%{y:.2f}",
         "type": "bar",
         "x": [
          "United States of America",
          "India",
          "United Kingdom",
          "Japan",
          "Argentina",
          "Iran"
         ],
         "xaxis": "x",
         "y": [
          31.798465131798466,
          11.546840958605664,
          28.11387900355872,
          38.83495145631068,
          11.11111111111111,
          0
         ],
         "yaxis": "y"
        },
        {
         "alignmentgroup": "True",
         "hovertemplate": "Theme=2<br>Movie country=%{x}<br>Percentage=%{y}<extra></extra>",
         "legendgroup": "2",
         "marker": {
          "color": "#00cc96",
          "pattern": {
           "shape": ""
          }
         },
         "name": "2",
         "offsetgroup": "2",
         "orientation": "v",
         "showlegend": true,
         "textposition": "auto",
         "texttemplate": "%{y:.2f}",
         "type": "bar",
         "x": [
          "United States of America",
          "India",
          "United Kingdom",
          "Japan",
          "Argentina",
          "Iran"
         ],
         "xaxis": "x",
         "y": [
          38.2716049382716,
          35.294117647058826,
          27.046263345195733,
          25.24271844660194,
          33.33333333333333,
          100
         ],
         "yaxis": "y"
        }
       ],
       "layout": {
        "barmode": "relative",
        "legend": {
         "title": {
          "text": "Themes"
         },
         "tracegroupgap": 0
        },
        "paper_bgcolor": "white",
        "plot_bgcolor": "white",
        "template": {
         "data": {
          "bar": [
           {
            "error_x": {
             "color": "#2a3f5f"
            },
            "error_y": {
             "color": "#2a3f5f"
            },
            "marker": {
             "line": {
              "color": "#E5ECF6",
              "width": 0.5
             },
             "pattern": {
              "fillmode": "overlay",
              "size": 10,
              "solidity": 0.2
             }
            },
            "type": "bar"
           }
          ],
          "barpolar": [
           {
            "marker": {
             "line": {
              "color": "#E5ECF6",
              "width": 0.5
             },
             "pattern": {
              "fillmode": "overlay",
              "size": 10,
              "solidity": 0.2
             }
            },
            "type": "barpolar"
           }
          ],
          "carpet": [
           {
            "aaxis": {
             "endlinecolor": "#2a3f5f",
             "gridcolor": "white",
             "linecolor": "white",
             "minorgridcolor": "white",
             "startlinecolor": "#2a3f5f"
            },
            "baxis": {
             "endlinecolor": "#2a3f5f",
             "gridcolor": "white",
             "linecolor": "white",
             "minorgridcolor": "white",
             "startlinecolor": "#2a3f5f"
            },
            "type": "carpet"
           }
          ],
          "choropleth": [
           {
            "colorbar": {
             "outlinewidth": 0,
             "ticks": ""
            },
            "type": "choropleth"
           }
          ],
          "contour": [
           {
            "colorbar": {
             "outlinewidth": 0,
             "ticks": ""
            },
            "colorscale": [
             [
              0,
              "#0d0887"
             ],
             [
              0.1111111111111111,
              "#46039f"
             ],
             [
              0.2222222222222222,
              "#7201a8"
             ],
             [
              0.3333333333333333,
              "#9c179e"
             ],
             [
              0.4444444444444444,
              "#bd3786"
             ],
             [
              0.5555555555555556,
              "#d8576b"
             ],
             [
              0.6666666666666666,
              "#ed7953"
             ],
             [
              0.7777777777777778,
              "#fb9f3a"
             ],
             [
              0.8888888888888888,
              "#fdca26"
             ],
             [
              1,
              "#f0f921"
             ]
            ],
            "type": "contour"
           }
          ],
          "contourcarpet": [
           {
            "colorbar": {
             "outlinewidth": 0,
             "ticks": ""
            },
            "type": "contourcarpet"
           }
          ],
          "heatmap": [
           {
            "colorbar": {
             "outlinewidth": 0,
             "ticks": ""
            },
            "colorscale": [
             [
              0,
              "#0d0887"
             ],
             [
              0.1111111111111111,
              "#46039f"
             ],
             [
              0.2222222222222222,
              "#7201a8"
             ],
             [
              0.3333333333333333,
              "#9c179e"
             ],
             [
              0.4444444444444444,
              "#bd3786"
             ],
             [
              0.5555555555555556,
              "#d8576b"
             ],
             [
              0.6666666666666666,
              "#ed7953"
             ],
             [
              0.7777777777777778,
              "#fb9f3a"
             ],
             [
              0.8888888888888888,
              "#fdca26"
             ],
             [
              1,
              "#f0f921"
             ]
            ],
            "type": "heatmap"
           }
          ],
          "heatmapgl": [
           {
            "colorbar": {
             "outlinewidth": 0,
             "ticks": ""
            },
            "colorscale": [
             [
              0,
              "#0d0887"
             ],
             [
              0.1111111111111111,
              "#46039f"
             ],
             [
              0.2222222222222222,
              "#7201a8"
             ],
             [
              0.3333333333333333,
              "#9c179e"
             ],
             [
              0.4444444444444444,
              "#bd3786"
             ],
             [
              0.5555555555555556,
              "#d8576b"
             ],
             [
              0.6666666666666666,
              "#ed7953"
             ],
             [
              0.7777777777777778,
              "#fb9f3a"
             ],
             [
              0.8888888888888888,
              "#fdca26"
             ],
             [
              1,
              "#f0f921"
             ]
            ],
            "type": "heatmapgl"
           }
          ],
          "histogram": [
           {
            "marker": {
             "pattern": {
              "fillmode": "overlay",
              "size": 10,
              "solidity": 0.2
             }
            },
            "type": "histogram"
           }
          ],
          "histogram2d": [
           {
            "colorbar": {
             "outlinewidth": 0,
             "ticks": ""
            },
            "colorscale": [
             [
              0,
              "#0d0887"
             ],
             [
              0.1111111111111111,
              "#46039f"
             ],
             [
              0.2222222222222222,
              "#7201a8"
             ],
             [
              0.3333333333333333,
              "#9c179e"
             ],
             [
              0.4444444444444444,
              "#bd3786"
             ],
             [
              0.5555555555555556,
              "#d8576b"
             ],
             [
              0.6666666666666666,
              "#ed7953"
             ],
             [
              0.7777777777777778,
              "#fb9f3a"
             ],
             [
              0.8888888888888888,
              "#fdca26"
             ],
             [
              1,
              "#f0f921"
             ]
            ],
            "type": "histogram2d"
           }
          ],
          "histogram2dcontour": [
           {
            "colorbar": {
             "outlinewidth": 0,
             "ticks": ""
            },
            "colorscale": [
             [
              0,
              "#0d0887"
             ],
             [
              0.1111111111111111,
              "#46039f"
             ],
             [
              0.2222222222222222,
              "#7201a8"
             ],
             [
              0.3333333333333333,
              "#9c179e"
             ],
             [
              0.4444444444444444,
              "#bd3786"
             ],
             [
              0.5555555555555556,
              "#d8576b"
             ],
             [
              0.6666666666666666,
              "#ed7953"
             ],
             [
              0.7777777777777778,
              "#fb9f3a"
             ],
             [
              0.8888888888888888,
              "#fdca26"
             ],
             [
              1,
              "#f0f921"
             ]
            ],
            "type": "histogram2dcontour"
           }
          ],
          "mesh3d": [
           {
            "colorbar": {
             "outlinewidth": 0,
             "ticks": ""
            },
            "type": "mesh3d"
           }
          ],
          "parcoords": [
           {
            "line": {
             "colorbar": {
              "outlinewidth": 0,
              "ticks": ""
             }
            },
            "type": "parcoords"
           }
          ],
          "pie": [
           {
            "automargin": true,
            "type": "pie"
           }
          ],
          "scatter": [
           {
            "fillpattern": {
             "fillmode": "overlay",
             "size": 10,
             "solidity": 0.2
            },
            "type": "scatter"
           }
          ],
          "scatter3d": [
           {
            "line": {
             "colorbar": {
              "outlinewidth": 0,
              "ticks": ""
             }
            },
            "marker": {
             "colorbar": {
              "outlinewidth": 0,
              "ticks": ""
             }
            },
            "type": "scatter3d"
           }
          ],
          "scattercarpet": [
           {
            "marker": {
             "colorbar": {
              "outlinewidth": 0,
              "ticks": ""
             }
            },
            "type": "scattercarpet"
           }
          ],
          "scattergeo": [
           {
            "marker": {
             "colorbar": {
              "outlinewidth": 0,
              "ticks": ""
             }
            },
            "type": "scattergeo"
           }
          ],
          "scattergl": [
           {
            "marker": {
             "colorbar": {
              "outlinewidth": 0,
              "ticks": ""
             }
            },
            "type": "scattergl"
           }
          ],
          "scattermapbox": [
           {
            "marker": {
             "colorbar": {
              "outlinewidth": 0,
              "ticks": ""
             }
            },
            "type": "scattermapbox"
           }
          ],
          "scatterpolar": [
           {
            "marker": {
             "colorbar": {
              "outlinewidth": 0,
              "ticks": ""
             }
            },
            "type": "scatterpolar"
           }
          ],
          "scatterpolargl": [
           {
            "marker": {
             "colorbar": {
              "outlinewidth": 0,
              "ticks": ""
             }
            },
            "type": "scatterpolargl"
           }
          ],
          "scatterternary": [
           {
            "marker": {
             "colorbar": {
              "outlinewidth": 0,
              "ticks": ""
             }
            },
            "type": "scatterternary"
           }
          ],
          "surface": [
           {
            "colorbar": {
             "outlinewidth": 0,
             "ticks": ""
            },
            "colorscale": [
             [
              0,
              "#0d0887"
             ],
             [
              0.1111111111111111,
              "#46039f"
             ],
             [
              0.2222222222222222,
              "#7201a8"
             ],
             [
              0.3333333333333333,
              "#9c179e"
             ],
             [
              0.4444444444444444,
              "#bd3786"
             ],
             [
              0.5555555555555556,
              "#d8576b"
             ],
             [
              0.6666666666666666,
              "#ed7953"
             ],
             [
              0.7777777777777778,
              "#fb9f3a"
             ],
             [
              0.8888888888888888,
              "#fdca26"
             ],
             [
              1,
              "#f0f921"
             ]
            ],
            "type": "surface"
           }
          ],
          "table": [
           {
            "cells": {
             "fill": {
              "color": "#EBF0F8"
             },
             "line": {
              "color": "white"
             }
            },
            "header": {
             "fill": {
              "color": "#C8D4E3"
             },
             "line": {
              "color": "white"
             }
            },
            "type": "table"
           }
          ]
         },
         "layout": {
          "annotationdefaults": {
           "arrowcolor": "#2a3f5f",
           "arrowhead": 0,
           "arrowwidth": 1
          },
          "autotypenumbers": "strict",
          "coloraxis": {
           "colorbar": {
            "outlinewidth": 0,
            "ticks": ""
           }
          },
          "colorscale": {
           "diverging": [
            [
             0,
             "#8e0152"
            ],
            [
             0.1,
             "#c51b7d"
            ],
            [
             0.2,
             "#de77ae"
            ],
            [
             0.3,
             "#f1b6da"
            ],
            [
             0.4,
             "#fde0ef"
            ],
            [
             0.5,
             "#f7f7f7"
            ],
            [
             0.6,
             "#e6f5d0"
            ],
            [
             0.7,
             "#b8e186"
            ],
            [
             0.8,
             "#7fbc41"
            ],
            [
             0.9,
             "#4d9221"
            ],
            [
             1,
             "#276419"
            ]
           ],
           "sequential": [
            [
             0,
             "#0d0887"
            ],
            [
             0.1111111111111111,
             "#46039f"
            ],
            [
             0.2222222222222222,
             "#7201a8"
            ],
            [
             0.3333333333333333,
             "#9c179e"
            ],
            [
             0.4444444444444444,
             "#bd3786"
            ],
            [
             0.5555555555555556,
             "#d8576b"
            ],
            [
             0.6666666666666666,
             "#ed7953"
            ],
            [
             0.7777777777777778,
             "#fb9f3a"
            ],
            [
             0.8888888888888888,
             "#fdca26"
            ],
            [
             1,
             "#f0f921"
            ]
           ],
           "sequentialminus": [
            [
             0,
             "#0d0887"
            ],
            [
             0.1111111111111111,
             "#46039f"
            ],
            [
             0.2222222222222222,
             "#7201a8"
            ],
            [
             0.3333333333333333,
             "#9c179e"
            ],
            [
             0.4444444444444444,
             "#bd3786"
            ],
            [
             0.5555555555555556,
             "#d8576b"
            ],
            [
             0.6666666666666666,
             "#ed7953"
            ],
            [
             0.7777777777777778,
             "#fb9f3a"
            ],
            [
             0.8888888888888888,
             "#fdca26"
            ],
            [
             1,
             "#f0f921"
            ]
           ]
          },
          "colorway": [
           "#636efa",
           "#EF553B",
           "#00cc96",
           "#ab63fa",
           "#FFA15A",
           "#19d3f3",
           "#FF6692",
           "#B6E880",
           "#FF97FF",
           "#FECB52"
          ],
          "font": {
           "color": "#2a3f5f"
          },
          "geo": {
           "bgcolor": "white",
           "lakecolor": "white",
           "landcolor": "#E5ECF6",
           "showlakes": true,
           "showland": true,
           "subunitcolor": "white"
          },
          "hoverlabel": {
           "align": "left"
          },
          "hovermode": "closest",
          "mapbox": {
           "style": "light"
          },
          "paper_bgcolor": "white",
          "plot_bgcolor": "#E5ECF6",
          "polar": {
           "angularaxis": {
            "gridcolor": "white",
            "linecolor": "white",
            "ticks": ""
           },
           "bgcolor": "#E5ECF6",
           "radialaxis": {
            "gridcolor": "white",
            "linecolor": "white",
            "ticks": ""
           }
          },
          "scene": {
           "xaxis": {
            "backgroundcolor": "#E5ECF6",
            "gridcolor": "white",
            "gridwidth": 2,
            "linecolor": "white",
            "showbackground": true,
            "ticks": "",
            "zerolinecolor": "white"
           },
           "yaxis": {
            "backgroundcolor": "#E5ECF6",
            "gridcolor": "white",
            "gridwidth": 2,
            "linecolor": "white",
            "showbackground": true,
            "ticks": "",
            "zerolinecolor": "white"
           },
           "zaxis": {
            "backgroundcolor": "#E5ECF6",
            "gridcolor": "white",
            "gridwidth": 2,
            "linecolor": "white",
            "showbackground": true,
            "ticks": "",
            "zerolinecolor": "white"
           }
          },
          "shapedefaults": {
           "line": {
            "color": "#2a3f5f"
           }
          },
          "ternary": {
           "aaxis": {
            "gridcolor": "white",
            "linecolor": "white",
            "ticks": ""
           },
           "baxis": {
            "gridcolor": "white",
            "linecolor": "white",
            "ticks": ""
           },
           "bgcolor": "#E5ECF6",
           "caxis": {
            "gridcolor": "white",
            "linecolor": "white",
            "ticks": ""
           }
          },
          "title": {
           "x": 0.05
          },
          "xaxis": {
           "automargin": true,
           "gridcolor": "white",
           "linecolor": "white",
           "ticks": "",
           "title": {
            "standoff": 15
           },
           "zerolinecolor": "white",
           "zerolinewidth": 2
          },
          "yaxis": {
           "automargin": true,
           "gridcolor": "white",
           "linecolor": "white",
           "ticks": "",
           "title": {
            "standoff": 15
           },
           "zerolinecolor": "white",
           "zerolinewidth": 2
          }
         }
        },
        "title": {
         "text": "Standardized Distribution of Movie Themes: thriller",
         "x": 0.5
        },
        "xaxis": {
         "anchor": "y",
         "domain": [
          0,
          1
         ],
         "title": {
          "text": "Countries"
         }
        },
        "yaxis": {
         "anchor": "x",
         "domain": [
          0,
          1
         ],
         "title": {
          "text": "Percentage (%)"
         }
        }
       }
      }
     },
     "metadata": {},
     "output_type": "display_data"
    },
    {
     "data": {
      "application/vnd.plotly.v1+json": {
       "config": {
        "plotlyServerURL": "https://plot.ly"
       },
       "data": [
        {
         "alignmentgroup": "True",
         "hovertemplate": "Theme=0<br>Movie country=%{x}<br>Percentage=%{y}<extra></extra>",
         "legendgroup": "0",
         "marker": {
          "color": "#636efa",
          "pattern": {
           "shape": ""
          }
         },
         "name": "0",
         "offsetgroup": "0",
         "orientation": "v",
         "showlegend": true,
         "textposition": "auto",
         "texttemplate": "%{y:.2f}",
         "type": "bar",
         "x": [
          "United States of America",
          "India",
          "United Kingdom",
          "Japan",
          "Argentina",
          "Iran"
         ],
         "xaxis": "x",
         "y": [
          48.04741980474198,
          90.53254437869822,
          44.75806451612903,
          70.83333333333334,
          63.41463414634146,
          67.85714285714286
         ],
         "yaxis": "y"
        },
        {
         "alignmentgroup": "True",
         "hovertemplate": "Theme=1<br>Movie country=%{x}<br>Percentage=%{y}<extra></extra>",
         "legendgroup": "1",
         "marker": {
          "color": "#EF553B",
          "pattern": {
           "shape": ""
          }
         },
         "name": "1",
         "offsetgroup": "1",
         "orientation": "v",
         "showlegend": true,
         "textposition": "auto",
         "texttemplate": "%{y:.2f}",
         "type": "bar",
         "x": [
          "United States of America",
          "India",
          "United Kingdom",
          "Japan",
          "Argentina",
          "Iran"
         ],
         "xaxis": "x",
         "y": [
          51.95258019525802,
          9.467455621301776,
          55.24193548387096,
          29.166666666666668,
          36.58536585365854,
          32.142857142857146
         ],
         "yaxis": "y"
        }
       ],
       "layout": {
        "barmode": "relative",
        "legend": {
         "title": {
          "text": "Themes"
         },
         "tracegroupgap": 0
        },
        "paper_bgcolor": "white",
        "plot_bgcolor": "white",
        "template": {
         "data": {
          "bar": [
           {
            "error_x": {
             "color": "#2a3f5f"
            },
            "error_y": {
             "color": "#2a3f5f"
            },
            "marker": {
             "line": {
              "color": "#E5ECF6",
              "width": 0.5
             },
             "pattern": {
              "fillmode": "overlay",
              "size": 10,
              "solidity": 0.2
             }
            },
            "type": "bar"
           }
          ],
          "barpolar": [
           {
            "marker": {
             "line": {
              "color": "#E5ECF6",
              "width": 0.5
             },
             "pattern": {
              "fillmode": "overlay",
              "size": 10,
              "solidity": 0.2
             }
            },
            "type": "barpolar"
           }
          ],
          "carpet": [
           {
            "aaxis": {
             "endlinecolor": "#2a3f5f",
             "gridcolor": "white",
             "linecolor": "white",
             "minorgridcolor": "white",
             "startlinecolor": "#2a3f5f"
            },
            "baxis": {
             "endlinecolor": "#2a3f5f",
             "gridcolor": "white",
             "linecolor": "white",
             "minorgridcolor": "white",
             "startlinecolor": "#2a3f5f"
            },
            "type": "carpet"
           }
          ],
          "choropleth": [
           {
            "colorbar": {
             "outlinewidth": 0,
             "ticks": ""
            },
            "type": "choropleth"
           }
          ],
          "contour": [
           {
            "colorbar": {
             "outlinewidth": 0,
             "ticks": ""
            },
            "colorscale": [
             [
              0,
              "#0d0887"
             ],
             [
              0.1111111111111111,
              "#46039f"
             ],
             [
              0.2222222222222222,
              "#7201a8"
             ],
             [
              0.3333333333333333,
              "#9c179e"
             ],
             [
              0.4444444444444444,
              "#bd3786"
             ],
             [
              0.5555555555555556,
              "#d8576b"
             ],
             [
              0.6666666666666666,
              "#ed7953"
             ],
             [
              0.7777777777777778,
              "#fb9f3a"
             ],
             [
              0.8888888888888888,
              "#fdca26"
             ],
             [
              1,
              "#f0f921"
             ]
            ],
            "type": "contour"
           }
          ],
          "contourcarpet": [
           {
            "colorbar": {
             "outlinewidth": 0,
             "ticks": ""
            },
            "type": "contourcarpet"
           }
          ],
          "heatmap": [
           {
            "colorbar": {
             "outlinewidth": 0,
             "ticks": ""
            },
            "colorscale": [
             [
              0,
              "#0d0887"
             ],
             [
              0.1111111111111111,
              "#46039f"
             ],
             [
              0.2222222222222222,
              "#7201a8"
             ],
             [
              0.3333333333333333,
              "#9c179e"
             ],
             [
              0.4444444444444444,
              "#bd3786"
             ],
             [
              0.5555555555555556,
              "#d8576b"
             ],
             [
              0.6666666666666666,
              "#ed7953"
             ],
             [
              0.7777777777777778,
              "#fb9f3a"
             ],
             [
              0.8888888888888888,
              "#fdca26"
             ],
             [
              1,
              "#f0f921"
             ]
            ],
            "type": "heatmap"
           }
          ],
          "heatmapgl": [
           {
            "colorbar": {
             "outlinewidth": 0,
             "ticks": ""
            },
            "colorscale": [
             [
              0,
              "#0d0887"
             ],
             [
              0.1111111111111111,
              "#46039f"
             ],
             [
              0.2222222222222222,
              "#7201a8"
             ],
             [
              0.3333333333333333,
              "#9c179e"
             ],
             [
              0.4444444444444444,
              "#bd3786"
             ],
             [
              0.5555555555555556,
              "#d8576b"
             ],
             [
              0.6666666666666666,
              "#ed7953"
             ],
             [
              0.7777777777777778,
              "#fb9f3a"
             ],
             [
              0.8888888888888888,
              "#fdca26"
             ],
             [
              1,
              "#f0f921"
             ]
            ],
            "type": "heatmapgl"
           }
          ],
          "histogram": [
           {
            "marker": {
             "pattern": {
              "fillmode": "overlay",
              "size": 10,
              "solidity": 0.2
             }
            },
            "type": "histogram"
           }
          ],
          "histogram2d": [
           {
            "colorbar": {
             "outlinewidth": 0,
             "ticks": ""
            },
            "colorscale": [
             [
              0,
              "#0d0887"
             ],
             [
              0.1111111111111111,
              "#46039f"
             ],
             [
              0.2222222222222222,
              "#7201a8"
             ],
             [
              0.3333333333333333,
              "#9c179e"
             ],
             [
              0.4444444444444444,
              "#bd3786"
             ],
             [
              0.5555555555555556,
              "#d8576b"
             ],
             [
              0.6666666666666666,
              "#ed7953"
             ],
             [
              0.7777777777777778,
              "#fb9f3a"
             ],
             [
              0.8888888888888888,
              "#fdca26"
             ],
             [
              1,
              "#f0f921"
             ]
            ],
            "type": "histogram2d"
           }
          ],
          "histogram2dcontour": [
           {
            "colorbar": {
             "outlinewidth": 0,
             "ticks": ""
            },
            "colorscale": [
             [
              0,
              "#0d0887"
             ],
             [
              0.1111111111111111,
              "#46039f"
             ],
             [
              0.2222222222222222,
              "#7201a8"
             ],
             [
              0.3333333333333333,
              "#9c179e"
             ],
             [
              0.4444444444444444,
              "#bd3786"
             ],
             [
              0.5555555555555556,
              "#d8576b"
             ],
             [
              0.6666666666666666,
              "#ed7953"
             ],
             [
              0.7777777777777778,
              "#fb9f3a"
             ],
             [
              0.8888888888888888,
              "#fdca26"
             ],
             [
              1,
              "#f0f921"
             ]
            ],
            "type": "histogram2dcontour"
           }
          ],
          "mesh3d": [
           {
            "colorbar": {
             "outlinewidth": 0,
             "ticks": ""
            },
            "type": "mesh3d"
           }
          ],
          "parcoords": [
           {
            "line": {
             "colorbar": {
              "outlinewidth": 0,
              "ticks": ""
             }
            },
            "type": "parcoords"
           }
          ],
          "pie": [
           {
            "automargin": true,
            "type": "pie"
           }
          ],
          "scatter": [
           {
            "fillpattern": {
             "fillmode": "overlay",
             "size": 10,
             "solidity": 0.2
            },
            "type": "scatter"
           }
          ],
          "scatter3d": [
           {
            "line": {
             "colorbar": {
              "outlinewidth": 0,
              "ticks": ""
             }
            },
            "marker": {
             "colorbar": {
              "outlinewidth": 0,
              "ticks": ""
             }
            },
            "type": "scatter3d"
           }
          ],
          "scattercarpet": [
           {
            "marker": {
             "colorbar": {
              "outlinewidth": 0,
              "ticks": ""
             }
            },
            "type": "scattercarpet"
           }
          ],
          "scattergeo": [
           {
            "marker": {
             "colorbar": {
              "outlinewidth": 0,
              "ticks": ""
             }
            },
            "type": "scattergeo"
           }
          ],
          "scattergl": [
           {
            "marker": {
             "colorbar": {
              "outlinewidth": 0,
              "ticks": ""
             }
            },
            "type": "scattergl"
           }
          ],
          "scattermapbox": [
           {
            "marker": {
             "colorbar": {
              "outlinewidth": 0,
              "ticks": ""
             }
            },
            "type": "scattermapbox"
           }
          ],
          "scatterpolar": [
           {
            "marker": {
             "colorbar": {
              "outlinewidth": 0,
              "ticks": ""
             }
            },
            "type": "scatterpolar"
           }
          ],
          "scatterpolargl": [
           {
            "marker": {
             "colorbar": {
              "outlinewidth": 0,
              "ticks": ""
             }
            },
            "type": "scatterpolargl"
           }
          ],
          "scatterternary": [
           {
            "marker": {
             "colorbar": {
              "outlinewidth": 0,
              "ticks": ""
             }
            },
            "type": "scatterternary"
           }
          ],
          "surface": [
           {
            "colorbar": {
             "outlinewidth": 0,
             "ticks": ""
            },
            "colorscale": [
             [
              0,
              "#0d0887"
             ],
             [
              0.1111111111111111,
              "#46039f"
             ],
             [
              0.2222222222222222,
              "#7201a8"
             ],
             [
              0.3333333333333333,
              "#9c179e"
             ],
             [
              0.4444444444444444,
              "#bd3786"
             ],
             [
              0.5555555555555556,
              "#d8576b"
             ],
             [
              0.6666666666666666,
              "#ed7953"
             ],
             [
              0.7777777777777778,
              "#fb9f3a"
             ],
             [
              0.8888888888888888,
              "#fdca26"
             ],
             [
              1,
              "#f0f921"
             ]
            ],
            "type": "surface"
           }
          ],
          "table": [
           {
            "cells": {
             "fill": {
              "color": "#EBF0F8"
             },
             "line": {
              "color": "white"
             }
            },
            "header": {
             "fill": {
              "color": "#C8D4E3"
             },
             "line": {
              "color": "white"
             }
            },
            "type": "table"
           }
          ]
         },
         "layout": {
          "annotationdefaults": {
           "arrowcolor": "#2a3f5f",
           "arrowhead": 0,
           "arrowwidth": 1
          },
          "autotypenumbers": "strict",
          "coloraxis": {
           "colorbar": {
            "outlinewidth": 0,
            "ticks": ""
           }
          },
          "colorscale": {
           "diverging": [
            [
             0,
             "#8e0152"
            ],
            [
             0.1,
             "#c51b7d"
            ],
            [
             0.2,
             "#de77ae"
            ],
            [
             0.3,
             "#f1b6da"
            ],
            [
             0.4,
             "#fde0ef"
            ],
            [
             0.5,
             "#f7f7f7"
            ],
            [
             0.6,
             "#e6f5d0"
            ],
            [
             0.7,
             "#b8e186"
            ],
            [
             0.8,
             "#7fbc41"
            ],
            [
             0.9,
             "#4d9221"
            ],
            [
             1,
             "#276419"
            ]
           ],
           "sequential": [
            [
             0,
             "#0d0887"
            ],
            [
             0.1111111111111111,
             "#46039f"
            ],
            [
             0.2222222222222222,
             "#7201a8"
            ],
            [
             0.3333333333333333,
             "#9c179e"
            ],
            [
             0.4444444444444444,
             "#bd3786"
            ],
            [
             0.5555555555555556,
             "#d8576b"
            ],
            [
             0.6666666666666666,
             "#ed7953"
            ],
            [
             0.7777777777777778,
             "#fb9f3a"
            ],
            [
             0.8888888888888888,
             "#fdca26"
            ],
            [
             1,
             "#f0f921"
            ]
           ],
           "sequentialminus": [
            [
             0,
             "#0d0887"
            ],
            [
             0.1111111111111111,
             "#46039f"
            ],
            [
             0.2222222222222222,
             "#7201a8"
            ],
            [
             0.3333333333333333,
             "#9c179e"
            ],
            [
             0.4444444444444444,
             "#bd3786"
            ],
            [
             0.5555555555555556,
             "#d8576b"
            ],
            [
             0.6666666666666666,
             "#ed7953"
            ],
            [
             0.7777777777777778,
             "#fb9f3a"
            ],
            [
             0.8888888888888888,
             "#fdca26"
            ],
            [
             1,
             "#f0f921"
            ]
           ]
          },
          "colorway": [
           "#636efa",
           "#EF553B",
           "#00cc96",
           "#ab63fa",
           "#FFA15A",
           "#19d3f3",
           "#FF6692",
           "#B6E880",
           "#FF97FF",
           "#FECB52"
          ],
          "font": {
           "color": "#2a3f5f"
          },
          "geo": {
           "bgcolor": "white",
           "lakecolor": "white",
           "landcolor": "#E5ECF6",
           "showlakes": true,
           "showland": true,
           "subunitcolor": "white"
          },
          "hoverlabel": {
           "align": "left"
          },
          "hovermode": "closest",
          "mapbox": {
           "style": "light"
          },
          "paper_bgcolor": "white",
          "plot_bgcolor": "#E5ECF6",
          "polar": {
           "angularaxis": {
            "gridcolor": "white",
            "linecolor": "white",
            "ticks": ""
           },
           "bgcolor": "#E5ECF6",
           "radialaxis": {
            "gridcolor": "white",
            "linecolor": "white",
            "ticks": ""
           }
          },
          "scene": {
           "xaxis": {
            "backgroundcolor": "#E5ECF6",
            "gridcolor": "white",
            "gridwidth": 2,
            "linecolor": "white",
            "showbackground": true,
            "ticks": "",
            "zerolinecolor": "white"
           },
           "yaxis": {
            "backgroundcolor": "#E5ECF6",
            "gridcolor": "white",
            "gridwidth": 2,
            "linecolor": "white",
            "showbackground": true,
            "ticks": "",
            "zerolinecolor": "white"
           },
           "zaxis": {
            "backgroundcolor": "#E5ECF6",
            "gridcolor": "white",
            "gridwidth": 2,
            "linecolor": "white",
            "showbackground": true,
            "ticks": "",
            "zerolinecolor": "white"
           }
          },
          "shapedefaults": {
           "line": {
            "color": "#2a3f5f"
           }
          },
          "ternary": {
           "aaxis": {
            "gridcolor": "white",
            "linecolor": "white",
            "ticks": ""
           },
           "baxis": {
            "gridcolor": "white",
            "linecolor": "white",
            "ticks": ""
           },
           "bgcolor": "#E5ECF6",
           "caxis": {
            "gridcolor": "white",
            "linecolor": "white",
            "ticks": ""
           }
          },
          "title": {
           "x": 0.05
          },
          "xaxis": {
           "automargin": true,
           "gridcolor": "white",
           "linecolor": "white",
           "ticks": "",
           "title": {
            "standoff": 15
           },
           "zerolinecolor": "white",
           "zerolinewidth": 2
          },
          "yaxis": {
           "automargin": true,
           "gridcolor": "white",
           "linecolor": "white",
           "ticks": "",
           "title": {
            "standoff": 15
           },
           "zerolinecolor": "white",
           "zerolinewidth": 2
          }
         }
        },
        "title": {
         "text": "Standardized Distribution of Movie Themes: drama",
         "x": 0.5
        },
        "xaxis": {
         "anchor": "y",
         "domain": [
          0,
          1
         ],
         "title": {
          "text": "Countries"
         }
        },
        "yaxis": {
         "anchor": "x",
         "domain": [
          0,
          1
         ],
         "title": {
          "text": "Percentage (%)"
         }
        }
       }
      }
     },
     "metadata": {},
     "output_type": "display_data"
    },
    {
     "data": {
      "application/vnd.plotly.v1+json": {
       "config": {
        "plotlyServerURL": "https://plot.ly"
       },
       "data": [
        {
         "alignmentgroup": "True",
         "hovertemplate": "Theme=0<br>Movie country=%{x}<br>Percentage=%{y}<extra></extra>",
         "legendgroup": "0",
         "marker": {
          "color": "#636efa",
          "pattern": {
           "shape": ""
          }
         },
         "name": "0",
         "offsetgroup": "0",
         "orientation": "v",
         "showlegend": true,
         "textposition": "auto",
         "texttemplate": "%{y:.2f}",
         "type": "bar",
         "x": [
          "United States of America",
          "India",
          "United Kingdom",
          "Japan",
          "Argentina",
          "Iran"
         ],
         "xaxis": "x",
         "y": [
          29.318448883666274,
          23.55848434925865,
          41.269841269841265,
          18.75,
          0,
          33.33333333333333
         ],
         "yaxis": "y"
        },
        {
         "alignmentgroup": "True",
         "hovertemplate": "Theme=1<br>Movie country=%{x}<br>Percentage=%{y}<extra></extra>",
         "legendgroup": "1",
         "marker": {
          "color": "#EF553B",
          "pattern": {
           "shape": ""
          }
         },
         "name": "1",
         "offsetgroup": "1",
         "orientation": "v",
         "showlegend": true,
         "textposition": "auto",
         "texttemplate": "%{y:.2f}",
         "type": "bar",
         "x": [
          "United States of America",
          "India",
          "United Kingdom",
          "Japan",
          "Argentina",
          "Iran"
         ],
         "xaxis": "x",
         "y": [
          41.24559341950646,
          28.336079077429982,
          35.714285714285715,
          56.25,
          87.5,
          33.33333333333333
         ],
         "yaxis": "y"
        },
        {
         "alignmentgroup": "True",
         "hovertemplate": "Theme=2<br>Movie country=%{x}<br>Percentage=%{y}<extra></extra>",
         "legendgroup": "2",
         "marker": {
          "color": "#00cc96",
          "pattern": {
           "shape": ""
          }
         },
         "name": "2",
         "offsetgroup": "2",
         "orientation": "v",
         "showlegend": true,
         "textposition": "auto",
         "texttemplate": "%{y:.2f}",
         "type": "bar",
         "x": [
          "United States of America",
          "India",
          "United Kingdom",
          "Japan",
          "Argentina",
          "Iran"
         ],
         "xaxis": "x",
         "y": [
          29.435957696827263,
          48.105436573311366,
          23.015873015873016,
          25,
          12.5,
          33.33333333333333
         ],
         "yaxis": "y"
        }
       ],
       "layout": {
        "barmode": "relative",
        "legend": {
         "title": {
          "text": "Themes"
         },
         "tracegroupgap": 0
        },
        "paper_bgcolor": "white",
        "plot_bgcolor": "white",
        "template": {
         "data": {
          "bar": [
           {
            "error_x": {
             "color": "#2a3f5f"
            },
            "error_y": {
             "color": "#2a3f5f"
            },
            "marker": {
             "line": {
              "color": "#E5ECF6",
              "width": 0.5
             },
             "pattern": {
              "fillmode": "overlay",
              "size": 10,
              "solidity": 0.2
             }
            },
            "type": "bar"
           }
          ],
          "barpolar": [
           {
            "marker": {
             "line": {
              "color": "#E5ECF6",
              "width": 0.5
             },
             "pattern": {
              "fillmode": "overlay",
              "size": 10,
              "solidity": 0.2
             }
            },
            "type": "barpolar"
           }
          ],
          "carpet": [
           {
            "aaxis": {
             "endlinecolor": "#2a3f5f",
             "gridcolor": "white",
             "linecolor": "white",
             "minorgridcolor": "white",
             "startlinecolor": "#2a3f5f"
            },
            "baxis": {
             "endlinecolor": "#2a3f5f",
             "gridcolor": "white",
             "linecolor": "white",
             "minorgridcolor": "white",
             "startlinecolor": "#2a3f5f"
            },
            "type": "carpet"
           }
          ],
          "choropleth": [
           {
            "colorbar": {
             "outlinewidth": 0,
             "ticks": ""
            },
            "type": "choropleth"
           }
          ],
          "contour": [
           {
            "colorbar": {
             "outlinewidth": 0,
             "ticks": ""
            },
            "colorscale": [
             [
              0,
              "#0d0887"
             ],
             [
              0.1111111111111111,
              "#46039f"
             ],
             [
              0.2222222222222222,
              "#7201a8"
             ],
             [
              0.3333333333333333,
              "#9c179e"
             ],
             [
              0.4444444444444444,
              "#bd3786"
             ],
             [
              0.5555555555555556,
              "#d8576b"
             ],
             [
              0.6666666666666666,
              "#ed7953"
             ],
             [
              0.7777777777777778,
              "#fb9f3a"
             ],
             [
              0.8888888888888888,
              "#fdca26"
             ],
             [
              1,
              "#f0f921"
             ]
            ],
            "type": "contour"
           }
          ],
          "contourcarpet": [
           {
            "colorbar": {
             "outlinewidth": 0,
             "ticks": ""
            },
            "type": "contourcarpet"
           }
          ],
          "heatmap": [
           {
            "colorbar": {
             "outlinewidth": 0,
             "ticks": ""
            },
            "colorscale": [
             [
              0,
              "#0d0887"
             ],
             [
              0.1111111111111111,
              "#46039f"
             ],
             [
              0.2222222222222222,
              "#7201a8"
             ],
             [
              0.3333333333333333,
              "#9c179e"
             ],
             [
              0.4444444444444444,
              "#bd3786"
             ],
             [
              0.5555555555555556,
              "#d8576b"
             ],
             [
              0.6666666666666666,
              "#ed7953"
             ],
             [
              0.7777777777777778,
              "#fb9f3a"
             ],
             [
              0.8888888888888888,
              "#fdca26"
             ],
             [
              1,
              "#f0f921"
             ]
            ],
            "type": "heatmap"
           }
          ],
          "heatmapgl": [
           {
            "colorbar": {
             "outlinewidth": 0,
             "ticks": ""
            },
            "colorscale": [
             [
              0,
              "#0d0887"
             ],
             [
              0.1111111111111111,
              "#46039f"
             ],
             [
              0.2222222222222222,
              "#7201a8"
             ],
             [
              0.3333333333333333,
              "#9c179e"
             ],
             [
              0.4444444444444444,
              "#bd3786"
             ],
             [
              0.5555555555555556,
              "#d8576b"
             ],
             [
              0.6666666666666666,
              "#ed7953"
             ],
             [
              0.7777777777777778,
              "#fb9f3a"
             ],
             [
              0.8888888888888888,
              "#fdca26"
             ],
             [
              1,
              "#f0f921"
             ]
            ],
            "type": "heatmapgl"
           }
          ],
          "histogram": [
           {
            "marker": {
             "pattern": {
              "fillmode": "overlay",
              "size": 10,
              "solidity": 0.2
             }
            },
            "type": "histogram"
           }
          ],
          "histogram2d": [
           {
            "colorbar": {
             "outlinewidth": 0,
             "ticks": ""
            },
            "colorscale": [
             [
              0,
              "#0d0887"
             ],
             [
              0.1111111111111111,
              "#46039f"
             ],
             [
              0.2222222222222222,
              "#7201a8"
             ],
             [
              0.3333333333333333,
              "#9c179e"
             ],
             [
              0.4444444444444444,
              "#bd3786"
             ],
             [
              0.5555555555555556,
              "#d8576b"
             ],
             [
              0.6666666666666666,
              "#ed7953"
             ],
             [
              0.7777777777777778,
              "#fb9f3a"
             ],
             [
              0.8888888888888888,
              "#fdca26"
             ],
             [
              1,
              "#f0f921"
             ]
            ],
            "type": "histogram2d"
           }
          ],
          "histogram2dcontour": [
           {
            "colorbar": {
             "outlinewidth": 0,
             "ticks": ""
            },
            "colorscale": [
             [
              0,
              "#0d0887"
             ],
             [
              0.1111111111111111,
              "#46039f"
             ],
             [
              0.2222222222222222,
              "#7201a8"
             ],
             [
              0.3333333333333333,
              "#9c179e"
             ],
             [
              0.4444444444444444,
              "#bd3786"
             ],
             [
              0.5555555555555556,
              "#d8576b"
             ],
             [
              0.6666666666666666,
              "#ed7953"
             ],
             [
              0.7777777777777778,
              "#fb9f3a"
             ],
             [
              0.8888888888888888,
              "#fdca26"
             ],
             [
              1,
              "#f0f921"
             ]
            ],
            "type": "histogram2dcontour"
           }
          ],
          "mesh3d": [
           {
            "colorbar": {
             "outlinewidth": 0,
             "ticks": ""
            },
            "type": "mesh3d"
           }
          ],
          "parcoords": [
           {
            "line": {
             "colorbar": {
              "outlinewidth": 0,
              "ticks": ""
             }
            },
            "type": "parcoords"
           }
          ],
          "pie": [
           {
            "automargin": true,
            "type": "pie"
           }
          ],
          "scatter": [
           {
            "fillpattern": {
             "fillmode": "overlay",
             "size": 10,
             "solidity": 0.2
            },
            "type": "scatter"
           }
          ],
          "scatter3d": [
           {
            "line": {
             "colorbar": {
              "outlinewidth": 0,
              "ticks": ""
             }
            },
            "marker": {
             "colorbar": {
              "outlinewidth": 0,
              "ticks": ""
             }
            },
            "type": "scatter3d"
           }
          ],
          "scattercarpet": [
           {
            "marker": {
             "colorbar": {
              "outlinewidth": 0,
              "ticks": ""
             }
            },
            "type": "scattercarpet"
           }
          ],
          "scattergeo": [
           {
            "marker": {
             "colorbar": {
              "outlinewidth": 0,
              "ticks": ""
             }
            },
            "type": "scattergeo"
           }
          ],
          "scattergl": [
           {
            "marker": {
             "colorbar": {
              "outlinewidth": 0,
              "ticks": ""
             }
            },
            "type": "scattergl"
           }
          ],
          "scattermapbox": [
           {
            "marker": {
             "colorbar": {
              "outlinewidth": 0,
              "ticks": ""
             }
            },
            "type": "scattermapbox"
           }
          ],
          "scatterpolar": [
           {
            "marker": {
             "colorbar": {
              "outlinewidth": 0,
              "ticks": ""
             }
            },
            "type": "scatterpolar"
           }
          ],
          "scatterpolargl": [
           {
            "marker": {
             "colorbar": {
              "outlinewidth": 0,
              "ticks": ""
             }
            },
            "type": "scatterpolargl"
           }
          ],
          "scatterternary": [
           {
            "marker": {
             "colorbar": {
              "outlinewidth": 0,
              "ticks": ""
             }
            },
            "type": "scatterternary"
           }
          ],
          "surface": [
           {
            "colorbar": {
             "outlinewidth": 0,
             "ticks": ""
            },
            "colorscale": [
             [
              0,
              "#0d0887"
             ],
             [
              0.1111111111111111,
              "#46039f"
             ],
             [
              0.2222222222222222,
              "#7201a8"
             ],
             [
              0.3333333333333333,
              "#9c179e"
             ],
             [
              0.4444444444444444,
              "#bd3786"
             ],
             [
              0.5555555555555556,
              "#d8576b"
             ],
             [
              0.6666666666666666,
              "#ed7953"
             ],
             [
              0.7777777777777778,
              "#fb9f3a"
             ],
             [
              0.8888888888888888,
              "#fdca26"
             ],
             [
              1,
              "#f0f921"
             ]
            ],
            "type": "surface"
           }
          ],
          "table": [
           {
            "cells": {
             "fill": {
              "color": "#EBF0F8"
             },
             "line": {
              "color": "white"
             }
            },
            "header": {
             "fill": {
              "color": "#C8D4E3"
             },
             "line": {
              "color": "white"
             }
            },
            "type": "table"
           }
          ]
         },
         "layout": {
          "annotationdefaults": {
           "arrowcolor": "#2a3f5f",
           "arrowhead": 0,
           "arrowwidth": 1
          },
          "autotypenumbers": "strict",
          "coloraxis": {
           "colorbar": {
            "outlinewidth": 0,
            "ticks": ""
           }
          },
          "colorscale": {
           "diverging": [
            [
             0,
             "#8e0152"
            ],
            [
             0.1,
             "#c51b7d"
            ],
            [
             0.2,
             "#de77ae"
            ],
            [
             0.3,
             "#f1b6da"
            ],
            [
             0.4,
             "#fde0ef"
            ],
            [
             0.5,
             "#f7f7f7"
            ],
            [
             0.6,
             "#e6f5d0"
            ],
            [
             0.7,
             "#b8e186"
            ],
            [
             0.8,
             "#7fbc41"
            ],
            [
             0.9,
             "#4d9221"
            ],
            [
             1,
             "#276419"
            ]
           ],
           "sequential": [
            [
             0,
             "#0d0887"
            ],
            [
             0.1111111111111111,
             "#46039f"
            ],
            [
             0.2222222222222222,
             "#7201a8"
            ],
            [
             0.3333333333333333,
             "#9c179e"
            ],
            [
             0.4444444444444444,
             "#bd3786"
            ],
            [
             0.5555555555555556,
             "#d8576b"
            ],
            [
             0.6666666666666666,
             "#ed7953"
            ],
            [
             0.7777777777777778,
             "#fb9f3a"
            ],
            [
             0.8888888888888888,
             "#fdca26"
            ],
            [
             1,
             "#f0f921"
            ]
           ],
           "sequentialminus": [
            [
             0,
             "#0d0887"
            ],
            [
             0.1111111111111111,
             "#46039f"
            ],
            [
             0.2222222222222222,
             "#7201a8"
            ],
            [
             0.3333333333333333,
             "#9c179e"
            ],
            [
             0.4444444444444444,
             "#bd3786"
            ],
            [
             0.5555555555555556,
             "#d8576b"
            ],
            [
             0.6666666666666666,
             "#ed7953"
            ],
            [
             0.7777777777777778,
             "#fb9f3a"
            ],
            [
             0.8888888888888888,
             "#fdca26"
            ],
            [
             1,
             "#f0f921"
            ]
           ]
          },
          "colorway": [
           "#636efa",
           "#EF553B",
           "#00cc96",
           "#ab63fa",
           "#FFA15A",
           "#19d3f3",
           "#FF6692",
           "#B6E880",
           "#FF97FF",
           "#FECB52"
          ],
          "font": {
           "color": "#2a3f5f"
          },
          "geo": {
           "bgcolor": "white",
           "lakecolor": "white",
           "landcolor": "#E5ECF6",
           "showlakes": true,
           "showland": true,
           "subunitcolor": "white"
          },
          "hoverlabel": {
           "align": "left"
          },
          "hovermode": "closest",
          "mapbox": {
           "style": "light"
          },
          "paper_bgcolor": "white",
          "plot_bgcolor": "#E5ECF6",
          "polar": {
           "angularaxis": {
            "gridcolor": "white",
            "linecolor": "white",
            "ticks": ""
           },
           "bgcolor": "#E5ECF6",
           "radialaxis": {
            "gridcolor": "white",
            "linecolor": "white",
            "ticks": ""
           }
          },
          "scene": {
           "xaxis": {
            "backgroundcolor": "#E5ECF6",
            "gridcolor": "white",
            "gridwidth": 2,
            "linecolor": "white",
            "showbackground": true,
            "ticks": "",
            "zerolinecolor": "white"
           },
           "yaxis": {
            "backgroundcolor": "#E5ECF6",
            "gridcolor": "white",
            "gridwidth": 2,
            "linecolor": "white",
            "showbackground": true,
            "ticks": "",
            "zerolinecolor": "white"
           },
           "zaxis": {
            "backgroundcolor": "#E5ECF6",
            "gridcolor": "white",
            "gridwidth": 2,
            "linecolor": "white",
            "showbackground": true,
            "ticks": "",
            "zerolinecolor": "white"
           }
          },
          "shapedefaults": {
           "line": {
            "color": "#2a3f5f"
           }
          },
          "ternary": {
           "aaxis": {
            "gridcolor": "white",
            "linecolor": "white",
            "ticks": ""
           },
           "baxis": {
            "gridcolor": "white",
            "linecolor": "white",
            "ticks": ""
           },
           "bgcolor": "#E5ECF6",
           "caxis": {
            "gridcolor": "white",
            "linecolor": "white",
            "ticks": ""
           }
          },
          "title": {
           "x": 0.05
          },
          "xaxis": {
           "automargin": true,
           "gridcolor": "white",
           "linecolor": "white",
           "ticks": "",
           "title": {
            "standoff": 15
           },
           "zerolinecolor": "white",
           "zerolinewidth": 2
          },
          "yaxis": {
           "automargin": true,
           "gridcolor": "white",
           "linecolor": "white",
           "ticks": "",
           "title": {
            "standoff": 15
           },
           "zerolinecolor": "white",
           "zerolinewidth": 2
          }
         }
        },
        "title": {
         "text": "Standardized Distribution of Movie Themes: romance",
         "x": 0.5
        },
        "xaxis": {
         "anchor": "y",
         "domain": [
          0,
          1
         ],
         "title": {
          "text": "Countries"
         }
        },
        "yaxis": {
         "anchor": "x",
         "domain": [
          0,
          1
         ],
         "title": {
          "text": "Percentage (%)"
         }
        }
       }
      }
     },
     "metadata": {},
     "output_type": "display_data"
    }
   ],
   "source": [
    "\n",
    "figures = []\n",
    "\n",
    "for genre in selected_models:\n",
    "    merged_df = top_themes_per_document_by_genre[genre]\n",
    "    theme_data = merged_df[['Movie country', 'Theme 1']]\n",
    "    theme_counts = theme_data.groupby(['Movie country', 'Theme 1']).size().unstack(fill_value=0)\n",
    "    theme_proportions = theme_counts.div(theme_counts.sum(axis=1), axis=0) * 100  # Convert to percentage\n",
    "    \n",
    "    # Filter for focus countries\n",
    "    theme_proportions = theme_proportions.loc[focus_countries]\n",
    "    \n",
    "    # Reset index for Plotly compatibility\n",
    "    theme_proportions.reset_index(inplace=True)\n",
    "    melted_df = theme_proportions.melt(id_vars='Movie country', var_name='Theme', value_name='Percentage')\n",
    "    \n",
    "    # Create a stacked bar chart\n",
    "    fig = px.bar(\n",
    "        melted_df,\n",
    "        x='Movie country',\n",
    "        y='Percentage',\n",
    "        color='Theme',\n",
    "        title=f'Standardized Distribution of Movie Themes: {genre}',\n",
    "        text_auto='.2f',\n",
    "    )\n",
    "    \n",
    "    # Update layout to remove background\n",
    "    fig.update_layout(\n",
    "        plot_bgcolor=\"white\",\n",
    "        paper_bgcolor=\"white\",\n",
    "        xaxis_title=\"Countries\",\n",
    "        yaxis_title=\"Percentage (%)\",\n",
    "        legend_title=\"Themes\",\n",
    "        title_x=0.5\n",
    "    )\n",
    "    \n",
    "    # Append to the figures list\n",
    "    figures.append(fig)\n",
    "\n",
    "# Show all figures\n",
    "for fig in figures:\n",
    "    fig.show()"
   ]
  },
  {
   "cell_type": "code",
   "execution_count": 23,
   "id": "cb85ee26-44a8-43e1-9371-30daf449fe6c",
   "metadata": {},
   "outputs": [
    {
     "name": "stdout",
     "output_type": "stream",
     "text": [
      "Plot saved for genre 'thriller' at: thriller_theme_distribution.html\n",
      "Plot saved for genre 'drama' at: drama_theme_distribution.html\n",
      "Plot saved for genre 'romance' at: romance_theme_distribution.html\n"
     ]
    }
   ],
   "source": [
    "import plotly.express as px\n",
    "import pandas as pd\n",
    "\n",
    "# Chemin pour sauvegarder les fichiers HTML\n",
    "output_directory = \"\"  # Remplacez par un dossier valide\n",
    "\n",
    "figures = []\n",
    "\n",
    "for genre in selected_models:\n",
    "    merged_df = top_themes_per_document_by_genre[genre]\n",
    "    theme_data = merged_df[['Movie country', 'Theme 1']]\n",
    "    theme_counts = theme_data.groupby(['Movie country', 'Theme 1']).size().unstack(fill_value=0)\n",
    "    theme_proportions = theme_counts.div(theme_counts.sum(axis=1), axis=0) * 100  # Convert to percentage\n",
    "    \n",
    "    # Filter for focus countries\n",
    "    theme_proportions = theme_proportions.loc[focus_countries]\n",
    "    \n",
    "    # Reset index for Plotly compatibility\n",
    "    theme_proportions.reset_index(inplace=True)\n",
    "    melted_df = theme_proportions.melt(id_vars='Movie country', var_name='Theme', value_name='Percentage')\n",
    "    \n",
    "    # Create a stacked bar chart\n",
    "    fig = px.bar(\n",
    "        melted_df,\n",
    "        x='Movie country',\n",
    "        y='Percentage',\n",
    "        color='Theme',\n",
    "        title=f'Standardized Distribution of Movie Themes: {genre}',\n",
    "        text_auto='.2f',\n",
    "    )\n",
    "    \n",
    "    # Update layout to remove background\n",
    "    fig.update_layout(\n",
    "        plot_bgcolor=\"white\",\n",
    "        paper_bgcolor=\"white\",\n",
    "        xaxis_title=\"Countries\",\n",
    "        yaxis_title=\"Percentage (%)\",\n",
    "        legend_title=\"Themes\",\n",
    "        title_x=0.5\n",
    "    )\n",
    "    \n",
    "    # Save the figure to an HTML file\n",
    "    output_path = f\"{output_directory}{genre}_theme_distribution.html\"\n",
    "    fig.write_html(output_path)\n",
    "    print(f\"Plot saved for genre '{genre}' at: {output_path}\")\n",
    "\n",
    "    # Append to the figures list for potential future use\n",
    "    figures.append(fig)\n"
   ]
  },
  {
   "cell_type": "code",
   "execution_count": null,
   "id": "1188439a-d037-41f6-bd07-55591bfb658a",
   "metadata": {},
   "outputs": [],
   "source": []
  }
 ],
 "metadata": {
  "kernelspec": {
   "display_name": "ADAmilestone2",
   "language": "python",
   "name": "python3"
  },
  "language_info": {
   "codemirror_mode": {
    "name": "ipython",
    "version": 3
   },
   "file_extension": ".py",
   "mimetype": "text/x-python",
   "name": "python",
   "nbconvert_exporter": "python",
   "pygments_lexer": "ipython3",
   "version": "3.8.20"
  }
 },
 "nbformat": 4,
 "nbformat_minor": 5
}
