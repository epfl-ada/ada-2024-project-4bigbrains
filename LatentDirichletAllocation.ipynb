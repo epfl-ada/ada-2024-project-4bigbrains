{
 "cells": [
  {
   "cell_type": "code",
   "execution_count": 1,
   "id": "27067932-921c-47eb-9614-bde6e2c1f843",
   "metadata": {},
   "outputs": [],
   "source": [
    "import os\n",
    "import pandas as pd\n",
    "import re\n",
    "import nltk\n",
    "from nltk.corpus import stopwords  # Import des stopwords\n",
    "from nltk.corpus import wordnet\n",
    "from nltk.tokenize import RegexpTokenizer\n",
    "from nltk.stem import WordNetLemmatizer  # Import du lemmatizer\n",
    "from sklearn.feature_extraction.text import TfidfVectorizer\n",
    "from sklearn.decomposition import LatentDirichletAllocation\n",
    "\n",
    "# Load Dataset\n",
    "PATH = 'src'\n",
    "data = pd.read_csv(PATH + '/plot_summaries.txt', sep='\\t', names=['ID', 'Plot'])\n",
    "documents_list= data['Plot'].tolist()"
   ]
  },
  {
   "cell_type": "code",
   "execution_count": 2,
   "id": "ed7854cc-c62d-4299-9b30-323a4f3a6b76",
   "metadata": {},
   "outputs": [
    {
     "data": {
      "text/html": [
       "<div>\n",
       "<style scoped>\n",
       "    .dataframe tbody tr th:only-of-type {\n",
       "        vertical-align: middle;\n",
       "    }\n",
       "\n",
       "    .dataframe tbody tr th {\n",
       "        vertical-align: top;\n",
       "    }\n",
       "\n",
       "    .dataframe thead th {\n",
       "        text-align: right;\n",
       "    }\n",
       "</style>\n",
       "<table border=\"1\" class=\"dataframe\">\n",
       "  <thead>\n",
       "    <tr style=\"text-align: right;\">\n",
       "      <th></th>\n",
       "      <th>ID</th>\n",
       "      <th>Plot</th>\n",
       "    </tr>\n",
       "  </thead>\n",
       "  <tbody>\n",
       "    <tr>\n",
       "      <th>0</th>\n",
       "      <td>23890098</td>\n",
       "      <td>Shlykov, a hard-working taxi driver and Lyosha...</td>\n",
       "    </tr>\n",
       "    <tr>\n",
       "      <th>1</th>\n",
       "      <td>31186339</td>\n",
       "      <td>The nation of Panem consists of a wealthy Capi...</td>\n",
       "    </tr>\n",
       "    <tr>\n",
       "      <th>2</th>\n",
       "      <td>20663735</td>\n",
       "      <td>Poovalli Induchoodan  is sentenced for six yea...</td>\n",
       "    </tr>\n",
       "    <tr>\n",
       "      <th>3</th>\n",
       "      <td>2231378</td>\n",
       "      <td>The Lemon Drop Kid , a New York City swindler,...</td>\n",
       "    </tr>\n",
       "    <tr>\n",
       "      <th>4</th>\n",
       "      <td>595909</td>\n",
       "      <td>Seventh-day Adventist Church pastor Michael Ch...</td>\n",
       "    </tr>\n",
       "  </tbody>\n",
       "</table>\n",
       "</div>"
      ],
      "text/plain": [
       "         ID                                               Plot\n",
       "0  23890098  Shlykov, a hard-working taxi driver and Lyosha...\n",
       "1  31186339  The nation of Panem consists of a wealthy Capi...\n",
       "2  20663735  Poovalli Induchoodan  is sentenced for six yea...\n",
       "3   2231378  The Lemon Drop Kid , a New York City swindler,...\n",
       "4    595909  Seventh-day Adventist Church pastor Michael Ch..."
      ]
     },
     "execution_count": 2,
     "metadata": {},
     "output_type": "execute_result"
    }
   ],
   "source": [
    "data.head()"
   ]
  },
  {
   "cell_type": "code",
   "execution_count": 3,
   "id": "5416e904-cb63-4f43-96bb-58c8fd868b12",
   "metadata": {},
   "outputs": [],
   "source": [
    "# Télécharger les ressources nécessaires\n",
    "# nltk.download('stopwords')\n",
    "# nltk.download('wordnet')\n",
    "\n",
    "# Initialiser le lemmatizer et les mots vides\n",
    "lemmatizer = WordNetLemmatizer()\n",
    "stop_words = set(stopwords.words('english'))  # Utilisez 'french' si nécessaire\n",
    "\n",
    "# Fonction de prétraitement qui inclut nettoyage, tokenisation, et lemmatisation\n",
    "def custom_tokenizer(text):\n",
    "    # Mise en minuscules\n",
    "    text = text.lower()\n",
    "    # Tokenisation\n",
    "    tokenizer = RegexpTokenizer(r'\\w+')\n",
    "    tokens = tokenizer.tokenize(text)\n",
    "    # Supprimer mots vides (stopwords) et lemmatisation\n",
    "    tokens = [lemmatizer.lemmatize(word) for word in tokens if word not in stop_words]\n",
    "    return tokens\n",
    "\n",
    "# Vectorisation TF-IDF avec le tokenizer personnalisé\n",
    "tfidf = TfidfVectorizer(lowercase=False,  # Déjà mis en minuscules dans custom_tokenizer\n",
    "                        tokenizer=custom_tokenizer,\n",
    "                        token_pattern=None)  # None pour éviter l'avertissement\n",
    "\n",
    "# Appliquer le fit_transform aux documents\n",
    "train_data = tfidf.fit_transform(documents_list)"
   ]
  },
  {
   "cell_type": "code",
   "execution_count": 4,
   "id": "3b9ed862-dfbc-464b-8d45-8666e436b19e",
   "metadata": {},
   "outputs": [],
   "source": [
    "# Define the number of topics or components\n",
    "num_components=6\n",
    "\n",
    "# Create LDA object\n",
    "model=LatentDirichletAllocation(n_components=num_components)\n",
    "\n",
    "# Fit and Transform SVD model on data\n",
    "lda_matrix = model.fit_transform(train_data)\n",
    "\n",
    "# Get Components \n",
    "lda_components=model.components_"
   ]
  },
  {
   "cell_type": "code",
   "execution_count": 5,
   "id": "8534cf1b-0d9c-458c-ae7b-b06830db1615",
   "metadata": {},
   "outputs": [
    {
     "name": "stdout",
     "output_type": "stream",
     "text": [
      "Topic 0:  ['film', 'one', 'life', 'find', 'man', 'get', 'woman']\n",
      "Topic 1:  ['kmdb', 'goku', 'eng', 'kr', 'md_basic', 'pudgy', 'title2009']\n",
      "Topic 2:  ['cheech', 'fantaghirò', 'mcquade', 'anakin', 'shivan', 'ahab', 'fogg']\n",
      "Topic 3:  ['love', 'family', 'father', 'son', 'story', 'life', 'get']\n",
      "Topic 4:  ['uuno', 'vamsi', 'laure', 'sanju', 'quantrill', 'giovanna', 'aby']\n",
      "Topic 5:  ['tora', 'bfi', 'ftvdb', 'sift', 'org', 'uk', '01']\n"
     ]
    }
   ],
   "source": [
    "# Print the topics with their terms\n",
    "terms = tfidf.get_feature_names_out()\n",
    "\n",
    "for index, component in enumerate(lda_components):\n",
    "    zipped = zip(terms, component)\n",
    "    top_terms_key=sorted(zipped, key = lambda t: t[1], reverse=True)[:7]\n",
    "    top_terms_list=list(dict(top_terms_key).keys())\n",
    "    print(\"Topic \"+str(index)+\": \",top_terms_list)"
   ]
  },
  {
   "cell_type": "code",
   "execution_count": null,
   "id": "d26cc320-e2a0-429f-8f4f-e38ec5003986",
   "metadata": {},
   "outputs": [],
   "source": []
  }
 ],
 "metadata": {
  "kernelspec": {
   "display_name": "Python 3 (ipykernel)",
   "language": "python",
   "name": "python3"
  },
  "language_info": {
   "codemirror_mode": {
    "name": "ipython",
    "version": 3
   },
   "file_extension": ".py",
   "mimetype": "text/x-python",
   "name": "python",
   "nbconvert_exporter": "python",
   "pygments_lexer": "ipython3",
   "version": "3.11.10"
  }
 },
 "nbformat": 4,
 "nbformat_minor": 5
}
