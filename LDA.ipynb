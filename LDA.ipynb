{
 "cells": [
  {
   "cell_type": "markdown",
   "id": "ac9dcc16",
   "metadata": {},
   "source": [
    "## Imports"
   ]
  },
  {
   "cell_type": "code",
   "execution_count": 2,
   "id": "520d7c05-ba1b-45c7-a7fd-93f3ec09a55d",
   "metadata": {},
   "outputs": [],
   "source": [
    "import pandas as pd\n",
    "from datetime import datetime\n",
    "import ast\n",
    "import numpy as np\n",
    "import matplotlib\n",
    "import matplotlib.pyplot as plt\n",
    "import seaborn as sns\n",
    "import os\n",
    "import sys\n",
    "import plotly.express as px\n",
    "from scipy import stats\n",
    "import random\n",
    "\n",
    "from gensim.corpora import Dictionary\n",
    "from gensim.models import LdaMulticore\n",
    "from gensim.models import CoherenceModel\n",
    "\n",
    "from src.utils.LDA_functions import *\n",
    "\n",
    "colors = [\n",
    "    \"#FF6B6B\", \"#F4A261\", \"#2A9D8F\", \"#264653\", \"#E9C46A\", \"#E76F51\", \"#A8DADC\", \"#457B9D\", \"#1D3557\", \"#FFE8D6\", \n",
    "    \"#FFB4A2\",  \n",
    "    \"#CB997E\",  \n",
    "    \"#A5A58D\",  \n",
    "    \"#6D6875\",  \n",
    "    \"#B5838D\",  \n",
    "    \"#81B29A\",  \n",
    "    \"#F2CC8F\",  \n",
    "    \"#606C38\" \n",
    "]\n",
    "\n",
    "seed = 42\n",
    "random.seed(seed)\n",
    "np.random.seed(seed)\n",
    "\n",
    "focus_countries = ['United States of America', 'India', 'United Kingdom', 'Japan', 'Argentina', 'Iran']\n",
    "\n",
    "color_dict = dict(zip(focus_countries, colors))\n",
    "\n",
    "output_directory = r\"docs/assets/graphs/\"\n",
    "\n",
    "DATA_PATH = 'data'\n",
    "df_date_clean = pd.read_csv(DATA_PATH + '/df_date_clean.csv')\n",
    "df_date_clean['Movie genres'] = df_date_clean['Movie genres'].str.lower().str.strip() # a faire plutot dans la fcto qui fait df_date_clean"
   ]
  },
  {
   "cell_type": "markdown",
   "id": "f788527b-4c33-4198-ab8a-62fc2dc3a927",
   "metadata": {},
   "source": [
    "## Processing the CoreNLP Files\n",
    "\n",
    "To enhance the interpretability of the identified topics, we leveraged ChatGPT to generate an initial list of words deemed irrelevant to movie themes. This list was then manually refined by selectively adding or removing certain words to better align with our analysis goals."
   ]
  },
  {
   "cell_type": "code",
   "execution_count": 3,
   "id": "e7c9a332-a701-49f0-b639-08969e089331",
   "metadata": {},
   "outputs": [],
   "source": [
    "weak_words = {\n",
    "    \"accept\", \"achieve\", \"act\", \"add\", \"admit\", \"affect\", \"afford\", \"agree\", \"aim\", \"allow\", \"appear\", \"apply\", \"argue\",\n",
    "    \"arrange\", \"arrive\", \"ask\", \"assume\", \"avoid\", \"be\", \"become\", \"begin\", \"believe\", \"belong\", \"bring\", \"build\", \"buy\", \"call\",\n",
    "    \"carry\", \"cause\", \"change\", \"choose\", \"claim\", \"close\", \"collect\", \"come\", \"commit\", \"compare\", \"complete\",\n",
    "    \"consider\", \"consist\", \"continue\", \"contribute\", \"control\", \"cope\", \"create\", \"cut\", \"day\", \"deal\", \"decide\", \"decline\",\n",
    "    \"deliver\", \"demand\", \"depend\", \"describe\", \"design\", \"determine\", \"develop\", \"differ\", \"discover\",\n",
    "    \"discuss\", \"display\", \"do\", \"draw\", \"dress\", \"drink\", \"drive\", \"eat\", \"encourage\", \"end\", \"enjoy\",\n",
    "    \"enter\", \"establish\", \"examine\", \"exist\", \"expect\", \"experience\", \"explain\", \"express\", \"fail\", \"fall\", \"feel\", \"film\",\n",
    "    \"find\", \"follow\", \"form\", \"function\", \"gain\", \"get\", \"give\", \"go\", \"grow\", \"guess\", \"handle\", \"happen\",\n",
    "    \"have\", \"hear\", \"help\", \"hold\", \"hope\", \"identify\", \"imagine\", \"implement\", \"improve\", \"include\", \"increase\",\n",
    "    \"influence\", \"inform\", \"initiate\", \"insist\", \"intend\", \"introduce\", \"involve\", \"join\", \"keep\",\"kill\", \"know\",\n",
    "    \"lead\", \"learn\", \"leave\", \"let\", \"like\", \"listen\", \"live\", \"look\", \"lose\", \"maintain\",\n",
    "    \"make\" , \"manage\", \"matter\", \"mean\", \"measure\", \"meet\", \"mention\", \"mind\", \"miss\", \"move\", \"name\", \"need\",\"new\", \"note\", \"notice\",\n",
    "    \"observe\", \"obtain\", \"occur\", \"offer\", \"open\", \"operate\", \"organize\", \"other\", \"own\", \"participate\", \"pass\", \"pay\", \"perform\",\n",
    "    \"plan\", \"play\", \"possess\", \"prefer\", \"prepare\", \"present\", \"prevent\", \"proceed\", \"produce\", \"provide\", \"pull\", \"put\",\n",
    "    \"raise\", \"reach\", \"read\", \"realize\", \"receive\", \"recognize\", \"record\", \"reduce\", \"refer\", \"reflect\", \"refuse\",\n",
    "    \"regard\", \"relate\", \"remain\", \"remember\", \"remove\", \"report\", \"represent\", \"require\", \"resolve\", \"respond\",\n",
    "    \"result\", \"reveal\", \"rise\", \"run\", \"save\", \"say\", \"see\", \"seem\", \"select\", \"sell\", \"send\", \"serve\", \"set\", \"share\",\n",
    "    \"show\", \"sit\", \"sleep\", \"solve\", \"speak\", \"spend\", \"stand\", \"start\", \"state\", \"stay\", \"stop\", \"study\", \"suggest\",\n",
    "    \"supply\", \"support\", \"suppose\", \"take\", \"talk\", \"teach\", \"tell\", \"tend\", \"test\", \"think\", \"touch\",\n",
    "    \"train\", \"try\", \"turn\", \"understand\", \"use\", \"vary\", \"view\", \"visit\", \"wait\", \"walk\", \"want\", \"watch\", \"wear\",\n",
    "    \"win\", \"wish\", \"work\", \"write\"\n",
    "}"
   ]
  },
  {
   "cell_type": "code",
   "execution_count": 4,
   "id": "a188b162-c2f2-4759-b7c9-d976994d2b18",
   "metadata": {},
   "outputs": [],
   "source": [
    "tar_path = 'data/corenlp_plot_summaries.tar'\n",
    "\n",
    "documents = []\n",
    "ids = []\n",
    "\n",
    "\n",
    "with tarfile.open(tar_path, 'r') as tar:\n",
    "    for member in tar.getmembers():\n",
    "        if member.name.endswith('.xml.gz'):\n",
    "            with tar.extractfile(member) as xml_gz_file:\n",
    "                film_id = member.name.split('/')[-1].replace('.xml.gz', '')\n",
    "                film_id = int(film_id)\n",
    "                ids.append(film_id)\n",
    "                document = parse_corenlp_file(xml_gz_file,weak_words)\n",
    "                documents.append(document)"
   ]
  },
  {
   "cell_type": "markdown",
   "id": "744247c3-d95c-49f0-b5b8-a4fa3005251b",
   "metadata": {},
   "source": [
    "## General LDA analysis\n",
    "We begin by conducting an LDA analysis on the complete corpus, encompassing all the plots."
   ]
  },
  {
   "cell_type": "code",
   "execution_count": 5,
   "id": "ab275333-b52b-436d-9974-affc46d4986e",
   "metadata": {},
   "outputs": [],
   "source": [
    "#general dictionnary and corpus\n",
    "tokenized_documents_general = [[word for word in doc.lower().split() if len(word) >= 2] for doc in documents]\n",
    "dictionary_general = Dictionary(tokenized_documents_general)\n",
    "\n",
    "max_freq = 0.3\n",
    "min_wordcount = 5\n",
    "dictionary_general.filter_extremes(no_below=min_wordcount, no_above=max_freq)\n",
    "\n",
    "corpus_general = [dictionary_general.doc2bow(doc) for doc in tokenized_documents_general]"
   ]
  },
  {
   "cell_type": "markdown",
   "id": "fb1950c7",
   "metadata": {},
   "source": [
    "\n",
    "We fine-tune the LDA model to optimize the number of topics for improved results. \n",
    "\n",
    "To maintain interpretability, we limit the maximum number of topics to 6, striking a balance between topic coherence and clarity. For example, a model with 20 topics might yield more specific themes with more coherent words, but it would make it harder to synthesize and interpret the results as a whole."
   ]
  },
  {
   "cell_type": "code",
   "execution_count": 6,
   "id": "85231946",
   "metadata": {},
   "outputs": [
    {
     "data": {
      "image/png": "[encoded data removed]",
      "text/plain": [
       "<Figure size 640x480 with 1 Axes>"
      ]
     },
     "metadata": {},
     "output_type": "display_data"
    }
   ],
   "source": [
    "start = 2\n",
    "limit = 28\n",
    "step = 5\n",
    "models_general, coherences_general = compute_coherence_values(dictionary=dictionary_general, corpus=corpus_general, texts=tokenized_documents_general, start=start, limit=limit, step=step)\n",
    "\n",
    "x = range(start, limit, step)\n",
    "plt.plot(x, coherences_general)\n",
    "plt.xlabel(\"Number of topics\")\n",
    "plt.ylabel(\"Coherence score\")\n",
    "plt.title(\"Optimization of the number of topics\")\n",
    "plt.show()"
   ]
  },
  {
   "cell_type": "code",
   "execution_count": 7,
   "id": "fbf3d940-4ed1-4380-848d-2e15238b3fcf",
   "metadata": {},
   "outputs": [],
   "source": [
    "start = 2\n",
    "limit = 6\n",
    "step = 1\n",
    "models_general, coherences_general = compute_coherence_values(dictionary=dictionary_general, corpus=corpus_general, texts=tokenized_documents_general, start=start, limit=limit, step=step)"
   ]
  },
  {
   "cell_type": "code",
   "execution_count": 8,
   "id": "8cd0fabf-183f-46a5-bea5-8254f7296590",
   "metadata": {},
   "outputs": [
    {
     "data": {
      "image/png": "[encoded data removed]",
      "text/plain": [
       "<Figure size 640x480 with 1 Axes>"
      ]
     },
     "metadata": {},
     "output_type": "display_data"
    }
   ],
   "source": [
    "x = range(start, limit, step)\n",
    "plt.plot(x, coherences_general)\n",
    "plt.xlabel(\"Number of topics\")\n",
    "plt.ylabel(\"Coherence score\")\n",
    "plt.title(\"Optimization of the number of topics\")\n",
    "plt.show()"
   ]
  },
  {
   "cell_type": "code",
   "execution_count": 9,
   "id": "890ec122-2fd3-4583-b484-f495b69956ed",
   "metadata": {},
   "outputs": [],
   "source": [
    "# We take the model that gives the highest coherence\n",
    "selected_coherences = np.max(coherences_general)\n",
    "best_model_general= models_general[np.argmax(coherences_general)]"
   ]
  },
  {
   "cell_type": "markdown",
   "id": "280bd628",
   "metadata": {},
   "source": [
    "To understand the chosen model, we display its coherence score and, for each topic, we provide:\n",
    "\n",
    "The top 10 words associated with the topic\n",
    "The most representative movie, identified as the one with the highest score for that topic"
   ]
  },
  {
   "cell_type": "code",
   "execution_count": 10,
   "id": "d1eae46f-4478-4313-b3fd-d5fe4cd7a224",
   "metadata": {},
   "outputs": [
    {
     "name": "stdout",
     "output_type": "stream",
     "text": [
      "\n",
      "Coherence of the selected model: 0.4405771276986953\n",
      "\n",
      "Topic 0: 0.014*\"father\" + 0.013*\"family\" + 0.013*\"love\" + 0.010*\"son\" + 0.009*\"child\" + 0.009*\"mother\" + 0.008*\"marry\" + 0.007*\"young\" + 0.007*\"daughter\" + 0.007*\"story\"\n",
      "Best representative movie: Henry VIII (Proportion: 0.9972)\n",
      "\n",
      "Topic 1: 0.011*\"friend\" + 0.008*\"love\" + 0.008*\"money\" + 0.007*\"home\" + 0.006*\"time\" + 0.006*\"father\" + 0.006*\"school\" + 0.006*\"mother\" + 0.005*\"return\" + 0.005*\"woman\"\n",
      "Best representative movie: Main Aur Mrs Khanna (Proportion: 0.9979)\n",
      "\n",
      "Topic 2: 0.008*\"police\" + 0.008*\"house\" + 0.008*\"car\" + 0.006*\"shoot\" + 0.005*\"room\" + 0.005*\"head\" + 0.005*\"escape\" + 0.005*\"murder\" + 0.005*\"body\" + 0.004*\"night\"\n",
      "Best representative movie: Film (Proportion: 0.9982)\n",
      "\n",
      "Topic 3: 0.007*\"escape\" + 0.006*\"attack\" + 0.005*\"ship\" + 0.005*\"return\" + 0.005*\"group\" + 0.005*\"order\" + 0.005*\"force\" + 0.005*\"destroy\" + 0.005*\"fight\" + 0.004*\"soldier\"\n",
      "Best representative movie: Stargate (Proportion: 0.9979)\n",
      "\n"
     ]
    }
   ],
   "source": [
    "top_themes_per_document = []\n",
    "for i, doc in enumerate(corpus_general):\n",
    "    doc_topics = best_model_general.get_document_topics(doc, minimum_probability=0)\n",
    "    sorted_doc_topics = sorted(doc_topics, key=lambda x: x[1], reverse=True)\n",
    "    \n",
    "    top_indices = [topic_id for topic_id, _ in sorted_doc_topics[:3]]\n",
    "    top_proportions = [proportion for _, proportion in sorted_doc_topics[:3]]\n",
    "\n",
    "    top_themes_per_document.append({\n",
    "        \"Wikipedia movie ID\": ids[i],\n",
    "        \"Theme 1\": top_indices[0],\n",
    "        \"Prop Theme 1\": top_proportions[0],\n",
    "    })\n",
    "\n",
    "df_top_themes = pd.DataFrame(top_themes_per_document)\n",
    "\n",
    "df_date_clean['Wikipedia movie ID'] = df_date_clean['Wikipedia movie ID'].astype(str)\n",
    "df_top_themes['Wikipedia movie ID'] = df_top_themes['Wikipedia movie ID'].astype(str)\n",
    "merged_df = pd.merge(df_date_clean, df_top_themes, on='Wikipedia movie ID', how='inner')\n",
    "\n",
    "best_movies_per_theme = merged_df.loc[merged_df.groupby(\"Theme 1\")[\"Prop Theme 1\"].idxmax()]\n",
    "best_movies_per_theme.head()\n",
    "\n",
    "print(f\"\\nCoherence of the selected model: {selected_coherences}\\n\")\n",
    "for idx, topic in best_model_general.print_topics(-1):\n",
    "    best_movie_data = best_movies_per_theme.loc[best_movies_per_theme['Theme 1'] == idx]\n",
    "    movie_name = best_movie_data['Movie name'].values[0]\n",
    "    proportion = best_movie_data['Prop Theme 1'].values[0]\n",
    "    print(f\"Topic {idx}: {topic}\")\n",
    "    print(f\"Best representative movie: {movie_name} (Proportion: {proportion:.4f})\\n\")"
   ]
  },
  {
   "cell_type": "markdown",
   "id": "abca15a1",
   "metadata": {},
   "source": [
    "Now, we want to plot the distribution of movie themes across the focus countries"
   ]
  },
  {
   "cell_type": "code",
   "execution_count": 11,
   "id": "2415c425",
   "metadata": {},
   "outputs": [
    {
     "data": {
      "image/png": "[encoded data removed]",
      "text/plain": [
       "<Figure size 1200x1500 with 6 Axes>"
      ]
     },
     "metadata": {},
     "output_type": "display_data"
    }
   ],
   "source": [
    "num_columns = 3\n",
    "num_rows = 2\n",
    "fig, axes = plt.subplots(num_rows, num_columns, figsize=(12, 15))\n",
    "fig.suptitle('Standardized Distribution of Movie Themes Across Countries')\n",
    "axes = axes.flatten()\n",
    "\n",
    "for idx, country in enumerate(focus_countries):\n",
    "    movies = merged_df[merged_df['Movie country'] == country]\n",
    "    theme_counts = movies['Theme 1'].value_counts()\n",
    "    theme_counts_stand = theme_counts / theme_counts.sum()\n",
    "\n",
    "    axes[idx].bar(theme_counts_stand.index, theme_counts_stand.values,color=color_dict[country])\n",
    "    axes[idx].set_title(f\"{country}\")\n",
    "    axes[idx].set_xlabel(\"Main topic\")\n",
    "    axes[idx].set_ylabel(\"Standardized Distribution\")\n",
    "    axes[idx].set_xticks(theme_counts_stand.index)  # Ensure theme indices show up correctly on x-axis\n",
    "    axes[idx].set_xticklabels(theme_counts_stand.index)\n",
    "\n",
    "for ax in axes:\n",
    "    ax.set_ylim(0, 0.7)\n",
    "\n",
    "plt.tight_layout()\n",
    "plt.show()"
   ]
  },
  {
   "cell_type": "markdown",
   "id": "bb58e258-e99a-43f0-a959-1f170336345b",
   "metadata": {},
   "source": [
    "## Genre specific LDA analysis \n",
    "We focus our LDA analysis on specific movie genres to explore whether notable thematic differences exist across countries. "
   ]
  },
  {
   "cell_type": "code",
   "execution_count": 12,
   "id": "d12d14bc",
   "metadata": {},
   "outputs": [],
   "source": [
    "movie_genres=df_date_clean[\"Movie genres\"].unique()\n",
    "genre_documents = {genre: [] for genre in movie_genres}\n",
    "ids_documents = {genre: [] for genre in movie_genres}\n",
    "number_films_minimum = 1000 # treshold for the number of films\n",
    "\n",
    "for i, doc in enumerate(documents):\n",
    "    row = df_date_clean[df_date_clean['Wikipedia movie ID'].astype(int) == ids[i]]\n",
    "    if not row.empty:\n",
    "        genre = row['Movie genres'].iloc[0]\n",
    "        genre_documents[genre].append(doc)\n",
    "        ids_documents[genre].append(ids[i])\n",
    "    else:\n",
    "        # Skip if no matching row is found: this indicates that the plot belongs to a movie for which we lack corresponding data in df_date_clean.\n",
    "        continue"
   ]
  },
  {
   "cell_type": "code",
   "execution_count": 13,
   "id": "35dd20ec-5719-4752-af1c-01edf1a1f00f",
   "metadata": {},
   "outputs": [],
   "source": [
    "# We consider only the genres with more than 1000 plots.\n",
    "filter_genre_documents = {key: value for key, value in genre_documents.items() if len(value) > number_films_minimum}"
   ]
  },
  {
   "cell_type": "code",
   "execution_count": 14,
   "id": "baa4b651-0e92-4b4e-83be-7cf8598f6bff",
   "metadata": {},
   "outputs": [
    {
     "data": {
      "image/png": "[encoded data removed]",
      "text/plain": [
       "<Figure size 1200x600 with 1 Axes>"
      ]
     },
     "metadata": {},
     "output_type": "display_data"
    }
   ],
   "source": [
    "genre_counts = {genre: len(docs) for genre, docs in filter_genre_documents.items()}\n",
    "genre_counts = dict(sorted(genre_counts.items(), key=lambda item: item[1], reverse=True))\n",
    "\n",
    "plt.figure(figsize=(12, 6))\n",
    "plt.bar(genre_counts.keys(), genre_counts.values())\n",
    "plt.xlabel('Movie genres')\n",
    "plt.ylabel('Number of movies')\n",
    "plt.title('Number of movies per genre')\n",
    "plt.xticks(rotation=45, ha='right')\n",
    "plt.tight_layout()\n",
    "plt.show()"
   ]
  },
  {
   "cell_type": "markdown",
   "id": "bb2d4834",
   "metadata": {},
   "source": [
    "To focus on genres with substantial data, we treat ['romantic comedy', 'romance film'] as a single \"romance\" genre, as the topics in these two types of movies are not significantly different."
   ]
  },
  {
   "cell_type": "code",
   "execution_count": 15,
   "id": "36317469-9b34-4319-b9fb-5f37b3188ad0",
   "metadata": {},
   "outputs": [
    {
     "data": {
      "image/png": "[encoded data removed]",
      "text/plain": [
       "<Figure size 1200x600 with 1 Axes>"
      ]
     },
     "metadata": {},
     "output_type": "display_data"
    }
   ],
   "source": [
    "merged_genres = {}\n",
    "merged_ids = {}\n",
    "merged_genres['romance'] = []\n",
    "merged_ids['romance'] = []\n",
    "\n",
    "for genre, docs in filter_genre_documents.items():\n",
    "    if genre in ['romantic comedy', 'romance film']:\n",
    "        merged_genres['romance'].extend(docs)\n",
    "        merged_ids['romance'].extend(ids_documents[genre])\n",
    "    else:\n",
    "        if genre not in merged_genres:\n",
    "            merged_genres[genre] = []\n",
    "            merged_ids[genre] = []\n",
    "        merged_genres[genre].extend(docs)\n",
    "        merged_ids[genre].extend(ids_documents[genre])\n",
    "\n",
    "\n",
    "genre_counts2 = {genre: len(docs) for genre, docs in merged_genres.items()}\n",
    "genre_counts2 = dict(sorted(genre_counts2.items(), key=lambda item: item[1], reverse=True))\n",
    "\n",
    "\n",
    "plt.figure(figsize=(12, 6))\n",
    "plt.bar(genre_counts2.keys(), genre_counts2.values())\n",
    "plt.xlabel('Movie genres')\n",
    "plt.ylabel('Number of movies')\n",
    "plt.title('Number of movies per genre, with Romantic comedy and Romance film merged as Romance')\n",
    "plt.xticks(rotation=45, ha='right')\n",
    "plt.tight_layout()\n",
    "plt.show()"
   ]
  },
  {
   "cell_type": "markdown",
   "id": "2e115a0a-d968-46ec-8d91-92bcc0bea31f",
   "metadata": {},
   "source": [
    "So we can study the topics in those top 3 genres: Thriller, Drama and Romance"
   ]
  },
  {
   "cell_type": "code",
   "execution_count": 16,
   "id": "d3184eb5",
   "metadata": {},
   "outputs": [],
   "source": [
    "top_3_genres = list(genre_counts2.keys())[:3]\n",
    "\n",
    "top_3_genres_dict = {genre: merged_genres[genre] for genre in top_3_genres}\n",
    "top_3_genres_ids = {genre: merged_ids[genre] for genre in top_3_genres}"
   ]
  },
  {
   "cell_type": "code",
   "execution_count": 17,
   "id": "04f4c7d8",
   "metadata": {},
   "outputs": [],
   "source": [
    "# We create specific dictionnary and corpus per genres\n",
    "genre_tokenized_documents = {genre: [] for genre in top_3_genres_dict}\n",
    "genre_dictionary = {genre: [] for genre in top_3_genres_dict}\n",
    "genre_corpus = {genre: [] for genre in top_3_genres_dict}\n",
    "\n",
    "for genre in top_3_genres_dict:\n",
    "    tokenized_documents = [[word for word in doc.lower().split() if len(word) >= 2] for doc in top_3_genres_dict[genre]]\n",
    "    dictionary = Dictionary(tokenized_documents)\n",
    "    dictionary.filter_extremes(no_below=min_wordcount, no_above=max_freq)\n",
    "    genre_tokenized_documents[genre] = tokenized_documents\n",
    "    genre_dictionary[genre] = dictionary\n",
    "    corpus = [dictionary.doc2bow(doc) for doc in tokenized_documents]\n",
    "    genre_corpus[genre] = corpus"
   ]
  },
  {
   "cell_type": "code",
   "execution_count": 18,
   "id": "d7ccfb8e-75ca-4cf3-b0e5-729aef208b65",
   "metadata": {},
   "outputs": [],
   "source": [
    "# Similar to the general case, but this time for each genre, we fine-tune the number of topics, limiting it to 6.\n",
    "genre_models = {genre: [] for genre in top_3_genres_dict}\n",
    "coherence_values = {genre: [] for genre in top_3_genres_dict}\n",
    "for genre in top_3_genres_dict:\n",
    "    genre_models[genre], coherence_values[genre] = compute_coherence_values(dictionary=genre_dictionary[genre], corpus=genre_corpus[genre], texts=genre_tokenized_documents[genre], start=start, limit=limit, step=step)"
   ]
  },
  {
   "cell_type": "code",
   "execution_count": 19,
   "id": "5def0df0",
   "metadata": {},
   "outputs": [
    {
     "data": {
      "image/png": "[encoded data removed]",
      "text/plain": [
       "<Figure size 1000x600 with 1 Axes>"
      ]
     },
     "metadata": {},
     "output_type": "display_data"
    }
   ],
   "source": [
    "plt.figure(figsize=(10, 6))\n",
    "for genre, values in coherence_values.items():\n",
    "    plt.plot(x, values, label=genre)\n",
    "    \n",
    "plt.xlabel(\"Number of topics\")\n",
    "plt.ylabel(\"Coherence score\")\n",
    "plt.title(\"Optimization of the number of topics by genre\")\n",
    "plt.legend(title=\"Genres\") \n",
    "plt.tight_layout()\n",
    "plt.show()"
   ]
  },
  {
   "cell_type": "code",
   "execution_count": 20,
   "id": "99121ac4",
   "metadata": {},
   "outputs": [],
   "source": [
    "# We select the models that give the highest coherence\n",
    "selected_models = {}\n",
    "selected_coherences = {}\n",
    "\n",
    "for genre, models in genre_models.items():\n",
    "    selected_coherences[genre] = np.max(coherence_values[genre])\n",
    "    selected_models[genre] = models[np.argmax(coherence_values[genre])]\n"
   ]
  },
  {
   "cell_type": "code",
   "execution_count": 21,
   "id": "a533e75e-7f7e-4fad-bcdf-88f4aaa42ec9",
   "metadata": {},
   "outputs": [
    {
     "name": "stdout",
     "output_type": "stream",
     "text": [
      "Genre:thriller\n",
      "Coherence of the selected model: 0.36697422701330573\n",
      "\n",
      "Topic 0: 0.008*\"attack\" + 0.007*\"car\" + 0.007*\"body\" + 0.006*\"house\" + 0.006*\"room\" + 0.006*\"group\" + 0.005*\"head\" + 0.005*\"attempt\" + 0.005*\"dead\" + 0.004*\"die\"\n",
      "Best representative movie: White Of The Eye (Proportion: 0.4554)\n",
      "\n",
      "Topic 1: 0.007*\"woman\" + 0.006*\"apartment\" + 0.006*\"killer\" + 0.005*\"case\" + 0.005*\"room\" + 0.004*\"wife\" + 0.004*\"house\" + 0.004*\"home\" + 0.004*\"night\" + 0.004*\"shoot\"\n",
      "Best representative movie: ...And Justice for All (Proportion: 0.8097)\n",
      "\n",
      "Topic 2: 0.006*\"order\" + 0.005*\"agent\" + 0.005*\"attempt\" + 0.005*\"attack\" + 0.005*\"force\" + 0.004*\"bomb\" + 0.004*\"group\" + 0.004*\"destroy\" + 0.004*\"team\" + 0.004*\"mission\"\n",
      "Best representative movie: Ghosts of Mars (Proportion: 0.6785)\n",
      "\n",
      "Topic 3: 0.012*\"shoot\" + 0.011*\"car\" + 0.009*\"money\" + 0.008*\"gang\" + 0.008*\"gun\" + 0.006*\"officer\" + 0.005*\"head\" + 0.005*\"drug\" + 0.005*\"steal\" + 0.004*\"attempt\"\n",
      "Best representative movie: Perrier's Bounty (Proportion: 0.9192)\n",
      "\n",
      "Topic 4: 0.011*\"father\" + 0.010*\"house\" + 0.010*\"mother\" + 0.009*\"family\" + 0.008*\"love\" + 0.008*\"wife\" + 0.007*\"home\" + 0.007*\"child\" + 0.007*\"son\" + 0.006*\"young\"\n",
      "Best representative movie: Midnight Express (Proportion: 0.4635)\n",
      "\n",
      "\n",
      "\n",
      "\n",
      "Genre:drama\n",
      "Coherence of the selected model: 0.3778484301509787\n",
      "\n",
      "Topic 0: 0.015*\"love\" + 0.014*\"family\" + 0.012*\"marry\" + 0.011*\"father\" + 0.011*\"mother\" + 0.010*\"child\" + 0.010*\"son\" + 0.009*\"daughter\" + 0.008*\"friend\" + 0.008*\"man\"\n",
      "Best representative movie: A Woman in Flames (Proportion: 0.8647)\n",
      "\n",
      "Topic 1: 0.008*\"man\" + 0.007*\"village\" + 0.007*\"son\" + 0.006*\"return\" + 0.005*\"family\" + 0.005*\"father\" + 0.005*\"story\" + 0.005*\"wife\" + 0.005*\"local\" + 0.005*\"young\"\n",
      "Best representative movie: Karayilekku Oru Kadal Dooram (Proportion: 0.4371)\n",
      "\n",
      "Topic 2: 0.012*\"school\" + 0.011*\"friend\" + 0.010*\"boy\" + 0.008*\"mother\" + 0.006*\"time\" + 0.005*\"girl\" + 0.005*\"man\" + 0.005*\"child\" + 0.005*\"story\" + 0.005*\"home\"\n",
      "Best representative movie: The High Cost of Living (Proportion: 0.5557)\n",
      "\n",
      "Topic 3: 0.010*\"father\" + 0.010*\"man\" + 0.007*\"home\" + 0.007*\"mother\" + 0.006*\"return\" + 0.006*\"time\" + 0.006*\"love\" + 0.006*\"friend\" + 0.005*\"woman\" + 0.005*\"family\"\n",
      "Best representative movie: The Great New Wonderful (Proportion: 0.9025)\n",
      "\n",
      "\n",
      "\n",
      "\n",
      "Genre:romance\n",
      "Coherence of the selected model: 0.34915415813241363\n",
      "\n",
      "Topic 0: 0.008*\"return\" + 0.007*\"money\" + 0.006*\"job\" + 0.005*\"woman\" + 0.005*\"home\" + 0.005*\"wife\" + 0.005*\"father\" + 0.004*\"night\" + 0.004*\"way\" + 0.004*\"husband\"\n",
      "Best representative movie: Black Cat, White Cat (Proportion: 0.7373)\n",
      "\n",
      "Topic 1: 0.012*\"father\" + 0.010*\"family\" + 0.010*\"mother\" + 0.009*\"relationship\" + 0.009*\"school\" + 0.008*\"home\" + 0.007*\"parent\" + 0.007*\"house\" + 0.006*\"date\" + 0.006*\"wedding\"\n",
      "Best representative movie: Little city (Proportion: 0.9835)\n",
      "\n",
      "Topic 2: 0.009*\"woman\" + 0.009*\"girl\" + 0.009*\"father\" + 0.007*\"daughter\" + 0.007*\"son\" + 0.007*\"story\" + 0.007*\"marriage\" + 0.007*\"family\" + 0.007*\"wife\" + 0.007*\"young\"\n",
      "Best representative movie: Anbu Thozhi (Proportion: 0.9848)\n",
      "\n",
      "\n",
      "\n",
      "\n"
     ]
    }
   ],
   "source": [
    "# Same display of the topics for each genre\n",
    "top_themes_per_document_by_genre = {}\n",
    "\n",
    "for genre in top_3_genres:\n",
    "    top_theme = []\n",
    "    top_proportion = []\n",
    "    model = selected_models[genre]\n",
    "    corpus = genre_corpus[genre]\n",
    "\n",
    "    for i, doc in enumerate(corpus):\n",
    "        doc_topics = model.get_document_topics(doc, minimum_probability=0)\n",
    "        top_topic = max(doc_topics, key=lambda x: x[1])\n",
    "        top_theme.append(top_topic[0])\n",
    "        top_proportion.append(top_topic[1])\n",
    "\n",
    "    genre_df = pd.DataFrame({\n",
    "        \"Wikipedia movie ID\": merged_ids[genre],\n",
    "        \"Theme 1\": top_theme,\n",
    "        \"Prop Theme 1\": top_proportion,\n",
    "    })\n",
    "\n",
    "    df_date_clean['Wikipedia movie ID'] = df_date_clean['Wikipedia movie ID'].astype(int)\n",
    "    genre_df['Wikipedia movie ID'] = genre_df['Wikipedia movie ID'].astype(int)\n",
    "    genre_df = pd.merge(df_date_clean, genre_df, on=\"Wikipedia movie ID\", how=\"inner\")\n",
    "    top_themes_per_document_by_genre[genre] = genre_df\n",
    "    print(f'Genre:{genre}')\n",
    "    print(f\"Coherence of the selected model: {selected_coherences[genre]}\\n\")\n",
    "    for idx, topic in model.print_topics(-1):\n",
    "        best_movie_data = genre_df.loc[genre_df['Theme 1'] == idx]\n",
    "        movie_name = best_movie_data['Movie name'].values[0]\n",
    "        proportion = best_movie_data['Prop Theme 1'].values[0]\n",
    "        print(f\"Topic {idx}: {topic}\")\n",
    "        print(f\"Best representative movie: {movie_name} (Proportion: {proportion:.4f})\\n\")\n",
    "    print(\"\\n\\n\")\n"
   ]
  },
  {
   "cell_type": "code",
   "execution_count": 22,
   "id": "60e03d22",
   "metadata": {},
   "outputs": [
    {
     "data": {
      "image/png": "[encoded data removed]",
      "text/plain": [
       "<Figure size 1000x500 with 1 Axes>"
      ]
     },
     "metadata": {},
     "output_type": "display_data"
    },
    {
     "data": {
      "image/png": "[encoded data removed]",
      "text/plain": [
       "<Figure size 1000x500 with 1 Axes>"
      ]
     },
     "metadata": {},
     "output_type": "display_data"
    },
    {
     "data": {
      "image/png": "[encoded data removed]",
      "text/plain": [
       "<Figure size 1000x500 with 1 Axes>"
      ]
     },
     "metadata": {},
     "output_type": "display_data"
    }
   ],
   "source": [
    "for idx, genre in enumerate(selected_models):\n",
    "    # Créer une nouvelle figure\n",
    "    fig, ax = plt.subplots(figsize=(10, 5))\n",
    "    fig.suptitle(f'Distribution of movie topics for the genre: {genre}')\n",
    "\n",
    "    # Données pour le genre courant\n",
    "    merged_df = top_themes_per_document_by_genre[genre]\n",
    "    theme_data = merged_df[['Movie country', 'Theme 1']]\n",
    "    theme_counts = theme_data.groupby(['Movie country', 'Theme 1']).size().unstack(fill_value=0)\n",
    "    theme_proportions = theme_counts.div(theme_counts.sum(axis=1), axis=0)\n",
    "\n",
    "    # Graphique pour le genre courant\n",
    "    theme_proportions.loc[focus_countries].plot(kind='bar', stacked=True, ax=ax, colormap='viridis')\n",
    "    ax.set_xlabel(\"Countries\")\n",
    "    ax.set_ylabel(\"Proportion\")\n",
    "    ax.legend(title=\"Themes\", bbox_to_anchor=(1.02, 1), loc='upper left', frameon=False)\n",
    "\n",
    "    plt.tight_layout()\n",
    "    output_path = f\"{output_directory}{genre}_topic_distribution.png\"\n",
    "    fig.savefig(output_path, bbox_inches='tight')\n",
    "    plt.show()"
   ]
  },
  {
   "cell_type": "code",
   "execution_count": 23,
   "id": "a93065b2-a856-4888-a5fb-2dc6b9e73151",
   "metadata": {},
   "outputs": [
    {
     "name": "stdout",
     "output_type": "stream",
     "text": [
      "Plot saved for genre 'thriller' at: docs/assets/graphs/thriller_topic_distribution.html\n",
      "Plot saved for genre 'drama' at: docs/assets/graphs/drama_topic_distribution.html\n",
      "Plot saved for genre 'romance' at: docs/assets/graphs/romance_topic_distribution.html\n"
     ]
    },
    {
     "data": {
      "application/vnd.plotly.v1+json": {
       "config": {
        "plotlyServerURL": "https://plot.ly"
       },
       "data": [
        {
         "alignmentgroup": "True",
         "hovertemplate": "Theme=0<br>Movie country=%{x}<br>Percentage=%{y}<extra></extra>",
         "legendgroup": "0",
         "marker": {
          "color": "#636efa",
          "pattern": {
           "shape": ""
          }
         },
         "name": "0",
         "offsetgroup": "0",
         "orientation": "v",
         "showlegend": true,
         "textposition": "auto",
         "texttemplate": "%{y:.2f}",
         "type": "bar",
         "x": [
          "United States of America",
          "India",
          "United Kingdom",
          "Japan",
          "Argentina",
          "Iran"
         ],
         "xaxis": "x",
         "y": [
          17.38405071738405,
          1.5250544662309369,
          13.167259786476867,
          10.679611650485436,
          0,
          0
         ],
         "yaxis": "y"
        },
        {
         "alignmentgroup": "True",
         "hovertemplate": "Theme=1<br>Movie country=%{x}<br>Percentage=%{y}<extra></extra>",
         "legendgroup": "1",
         "marker": {
          "color": "#EF553B",
          "pattern": {
           "shape": ""
          }
         },
         "name": "1",
         "offsetgroup": "1",
         "orientation": "v",
         "showlegend": true,
         "textposition": "auto",
         "texttemplate": "%{y:.2f}",
         "type": "bar",
         "x": [
          "United States of America",
          "India",
          "United Kingdom",
          "Japan",
          "Argentina",
          "Iran"
         ],
         "xaxis": "x",
         "y": [
          22.555889222555887,
          12.854030501089325,
          18.86120996441281,
          16.50485436893204,
          22.22222222222222,
          100
         ],
         "yaxis": "y"
        },
        {
         "alignmentgroup": "True",
         "hovertemplate": "Theme=2<br>Movie country=%{x}<br>Percentage=%{y}<extra></extra>",
         "legendgroup": "2",
         "marker": {
          "color": "#00cc96",
          "pattern": {
           "shape": ""
          }
         },
         "name": "2",
         "offsetgroup": "2",
         "orientation": "v",
         "showlegend": true,
         "textposition": "auto",
         "texttemplate": "%{y:.2f}",
         "type": "bar",
         "x": [
          "United States of America",
          "India",
          "United Kingdom",
          "Japan",
          "Argentina",
          "Iran"
         ],
         "xaxis": "x",
         "y": [
          21.955288621955287,
          10.239651416122005,
          28.825622775800714,
          25.24271844660194,
          11.11111111111111,
          0
         ],
         "yaxis": "y"
        },
        {
         "alignmentgroup": "True",
         "hovertemplate": "Theme=3<br>Movie country=%{x}<br>Percentage=%{y}<extra></extra>",
         "legendgroup": "3",
         "marker": {
          "color": "#ab63fa",
          "pattern": {
           "shape": ""
          }
         },
         "name": "3",
         "offsetgroup": "3",
         "orientation": "v",
         "showlegend": true,
         "textposition": "auto",
         "texttemplate": "%{y:.2f}",
         "type": "bar",
         "x": [
          "United States of America",
          "India",
          "United Kingdom",
          "Japan",
          "Argentina",
          "Iran"
         ],
         "xaxis": "x",
         "y": [
          15.815815815815814,
          10.893246187363834,
          11.743772241992882,
          20.388349514563107,
          0,
          0
         ],
         "yaxis": "y"
        },
        {
         "alignmentgroup": "True",
         "hovertemplate": "Theme=4<br>Movie country=%{x}<br>Percentage=%{y}<extra></extra>",
         "legendgroup": "4",
         "marker": {
          "color": "#FFA15A",
          "pattern": {
           "shape": ""
          }
         },
         "name": "4",
         "offsetgroup": "4",
         "orientation": "v",
         "showlegend": true,
         "textposition": "auto",
         "texttemplate": "%{y:.2f}",
         "type": "bar",
         "x": [
          "United States of America",
          "India",
          "United Kingdom",
          "Japan",
          "Argentina",
          "Iran"
         ],
         "xaxis": "x",
         "y": [
          22.288955622288956,
          64.4880174291939,
          27.402135231316727,
          27.184466019417474,
          66.66666666666666,
          0
         ],
         "yaxis": "y"
        }
       ],
       "layout": {
        "barmode": "relative",
        "legend": {
         "title": {
          "text": "Themes"
         },
         "tracegroupgap": 0
        },
        "paper_bgcolor": "white",
        "plot_bgcolor": "white",
        "template": {
         "data": {
          "bar": [
           {
            "error_x": {
             "color": "#2a3f5f"
            },
            "error_y": {
             "color": "#2a3f5f"
            },
            "marker": {
             "line": {
              "color": "#E5ECF6",
              "width": 0.5
             },
             "pattern": {
              "fillmode": "overlay",
              "size": 10,
              "solidity": 0.2
             }
            },
            "type": "bar"
           }
          ],
          "barpolar": [
           {
            "marker": {
             "line": {
              "color": "#E5ECF6",
              "width": 0.5
             },
             "pattern": {
              "fillmode": "overlay",
              "size": 10,
              "solidity": 0.2
             }
            },
            "type": "barpolar"
           }
          ],
          "carpet": [
           {
            "aaxis": {
             "endlinecolor": "#2a3f5f",
             "gridcolor": "white",
             "linecolor": "white",
             "minorgridcolor": "white",
             "startlinecolor": "#2a3f5f"
            },
            "baxis": {
             "endlinecolor": "#2a3f5f",
             "gridcolor": "white",
             "linecolor": "white",
             "minorgridcolor": "white",
             "startlinecolor": "#2a3f5f"
            },
            "type": "carpet"
           }
          ],
          "choropleth": [
           {
            "colorbar": {
             "outlinewidth": 0,
             "ticks": ""
            },
            "type": "choropleth"
           }
          ],
          "contour": [
           {
            "colorbar": {
             "outlinewidth": 0,
             "ticks": ""
            },
            "colorscale": [
             [
              0,
              "#0d0887"
             ],
             [
              0.1111111111111111,
              "#46039f"
             ],
             [
              0.2222222222222222,
              "#7201a8"
             ],
             [
              0.3333333333333333,
              "#9c179e"
             ],
             [
              0.4444444444444444,
              "#bd3786"
             ],
             [
              0.5555555555555556,
              "#d8576b"
             ],
             [
              0.6666666666666666,
              "#ed7953"
             ],
             [
              0.7777777777777778,
              "#fb9f3a"
             ],
             [
              0.8888888888888888,
              "#fdca26"
             ],
             [
              1,
              "#f0f921"
             ]
            ],
            "type": "contour"
           }
          ],
          "contourcarpet": [
           {
            "colorbar": {
             "outlinewidth": 0,
             "ticks": ""
            },
            "type": "contourcarpet"
           }
          ],
          "heatmap": [
           {
            "colorbar": {
             "outlinewidth": 0,
             "ticks": ""
            },
            "colorscale": [
             [
              0,
              "#0d0887"
             ],
             [
              0.1111111111111111,
              "#46039f"
             ],
             [
              0.2222222222222222,
              "#7201a8"
             ],
             [
              0.3333333333333333,
              "#9c179e"
             ],
             [
              0.4444444444444444,
              "#bd3786"
             ],
             [
              0.5555555555555556,
              "#d8576b"
             ],
             [
              0.6666666666666666,
              "#ed7953"
             ],
             [
              0.7777777777777778,
              "#fb9f3a"
             ],
             [
              0.8888888888888888,
              "#fdca26"
             ],
             [
              1,
              "#f0f921"
             ]
            ],
            "type": "heatmap"
           }
          ],
          "heatmapgl": [
           {
            "colorbar": {
             "outlinewidth": 0,
             "ticks": ""
            },
            "colorscale": [
             [
              0,
              "#0d0887"
             ],
             [
              0.1111111111111111,
              "#46039f"
             ],
             [
              0.2222222222222222,
              "#7201a8"
             ],
             [
              0.3333333333333333,
              "#9c179e"
             ],
             [
              0.4444444444444444,
              "#bd3786"
             ],
             [
              0.5555555555555556,
              "#d8576b"
             ],
             [
              0.6666666666666666,
              "#ed7953"
             ],
             [
              0.7777777777777778,
              "#fb9f3a"
             ],
             [
              0.8888888888888888,
              "#fdca26"
             ],
             [
              1,
              "#f0f921"
             ]
            ],
            "type": "heatmapgl"
           }
          ],
          "histogram": [
           {
            "marker": {
             "pattern": {
              "fillmode": "overlay",
              "size": 10,
              "solidity": 0.2
             }
            },
            "type": "histogram"
           }
          ],
          "histogram2d": [
           {
            "colorbar": {
             "outlinewidth": 0,
             "ticks": ""
            },
            "colorscale": [
             [
              0,
              "#0d0887"
             ],
             [
              0.1111111111111111,
              "#46039f"
             ],
             [
              0.2222222222222222,
              "#7201a8"
             ],
             [
              0.3333333333333333,
              "#9c179e"
             ],
             [
              0.4444444444444444,
              "#bd3786"
             ],
             [
              0.5555555555555556,
              "#d8576b"
             ],
             [
              0.6666666666666666,
              "#ed7953"
             ],
             [
              0.7777777777777778,
              "#fb9f3a"
             ],
             [
              0.8888888888888888,
              "#fdca26"
             ],
             [
              1,
              "#f0f921"
             ]
            ],
            "type": "histogram2d"
           }
          ],
          "histogram2dcontour": [
           {
            "colorbar": {
             "outlinewidth": 0,
             "ticks": ""
            },
            "colorscale": [
             [
              0,
              "#0d0887"
             ],
             [
              0.1111111111111111,
              "#46039f"
             ],
             [
              0.2222222222222222,
              "#7201a8"
             ],
             [
              0.3333333333333333,
              "#9c179e"
             ],
             [
              0.4444444444444444,
              "#bd3786"
             ],
             [
              0.5555555555555556,
              "#d8576b"
             ],
             [
              0.6666666666666666,
              "#ed7953"
             ],
             [
              0.7777777777777778,
              "#fb9f3a"
             ],
             [
              0.8888888888888888,
              "#fdca26"
             ],
             [
              1,
              "#f0f921"
             ]
            ],
            "type": "histogram2dcontour"
           }
          ],
          "mesh3d": [
           {
            "colorbar": {
             "outlinewidth": 0,
             "ticks": ""
            },
            "type": "mesh3d"
           }
          ],
          "parcoords": [
           {
            "line": {
             "colorbar": {
              "outlinewidth": 0,
              "ticks": ""
             }
            },
            "type": "parcoords"
           }
          ],
          "pie": [
           {
            "automargin": true,
            "type": "pie"
           }
          ],
          "scatter": [
           {
            "fillpattern": {
             "fillmode": "overlay",
             "size": 10,
             "solidity": 0.2
            },
            "type": "scatter"
           }
          ],
          "scatter3d": [
           {
            "line": {
             "colorbar": {
              "outlinewidth": 0,
              "ticks": ""
             }
            },
            "marker": {
             "colorbar": {
              "outlinewidth": 0,
              "ticks": ""
             }
            },
            "type": "scatter3d"
           }
          ],
          "scattercarpet": [
           {
            "marker": {
             "colorbar": {
              "outlinewidth": 0,
              "ticks": ""
             }
            },
            "type": "scattercarpet"
           }
          ],
          "scattergeo": [
           {
            "marker": {
             "colorbar": {
              "outlinewidth": 0,
              "ticks": ""
             }
            },
            "type": "scattergeo"
           }
          ],
          "scattergl": [
           {
            "marker": {
             "colorbar": {
              "outlinewidth": 0,
              "ticks": ""
             }
            },
            "type": "scattergl"
           }
          ],
          "scattermapbox": [
           {
            "marker": {
             "colorbar": {
              "outlinewidth": 0,
              "ticks": ""
             }
            },
            "type": "scattermapbox"
           }
          ],
          "scatterpolar": [
           {
            "marker": {
             "colorbar": {
              "outlinewidth": 0,
              "ticks": ""
             }
            },
            "type": "scatterpolar"
           }
          ],
          "scatterpolargl": [
           {
            "marker": {
             "colorbar": {
              "outlinewidth": 0,
              "ticks": ""
             }
            },
            "type": "scatterpolargl"
           }
          ],
          "scatterternary": [
           {
            "marker": {
             "colorbar": {
              "outlinewidth": 0,
              "ticks": ""
             }
            },
            "type": "scatterternary"
           }
          ],
          "surface": [
           {
            "colorbar": {
             "outlinewidth": 0,
             "ticks": ""
            },
            "colorscale": [
             [
              0,
              "#0d0887"
             ],
             [
              0.1111111111111111,
              "#46039f"
             ],
             [
              0.2222222222222222,
              "#7201a8"
             ],
             [
              0.3333333333333333,
              "#9c179e"
             ],
             [
              0.4444444444444444,
              "#bd3786"
             ],
             [
              0.5555555555555556,
              "#d8576b"
             ],
             [
              0.6666666666666666,
              "#ed7953"
             ],
             [
              0.7777777777777778,
              "#fb9f3a"
             ],
             [
              0.8888888888888888,
              "#fdca26"
             ],
             [
              1,
              "#f0f921"
             ]
            ],
            "type": "surface"
           }
          ],
          "table": [
           {
            "cells": {
             "fill": {
              "color": "#EBF0F8"
             },
             "line": {
              "color": "white"
             }
            },
            "header": {
             "fill": {
              "color": "#C8D4E3"
             },
             "line": {
              "color": "white"
             }
            },
            "type": "table"
           }
          ]
         },
         "layout": {
          "annotationdefaults": {
           "arrowcolor": "#2a3f5f",
           "arrowhead": 0,
           "arrowwidth": 1
          },
          "autotypenumbers": "strict",
          "coloraxis": {
           "colorbar": {
            "outlinewidth": 0,
            "ticks": ""
           }
          },
          "colorscale": {
           "diverging": [
            [
             0,
             "#8e0152"
            ],
            [
             0.1,
             "#c51b7d"
            ],
            [
             0.2,
             "#de77ae"
            ],
            [
             0.3,
             "#f1b6da"
            ],
            [
             0.4,
             "#fde0ef"
            ],
            [
             0.5,
             "#f7f7f7"
            ],
            [
             0.6,
             "#e6f5d0"
            ],
            [
             0.7,
             "#b8e186"
            ],
            [
             0.8,
             "#7fbc41"
            ],
            [
             0.9,
             "#4d9221"
            ],
            [
             1,
             "#276419"
            ]
           ],
           "sequential": [
            [
             0,
             "#0d0887"
            ],
            [
             0.1111111111111111,
             "#46039f"
            ],
            [
             0.2222222222222222,
             "#7201a8"
            ],
            [
             0.3333333333333333,
             "#9c179e"
            ],
            [
             0.4444444444444444,
             "#bd3786"
            ],
            [
             0.5555555555555556,
             "#d8576b"
            ],
            [
             0.6666666666666666,
             "#ed7953"
            ],
            [
             0.7777777777777778,
             "#fb9f3a"
            ],
            [
             0.8888888888888888,
             "#fdca26"
            ],
            [
             1,
             "#f0f921"
            ]
           ],
           "sequentialminus": [
            [
             0,
             "#0d0887"
            ],
            [
             0.1111111111111111,
             "#46039f"
            ],
            [
             0.2222222222222222,
             "#7201a8"
            ],
            [
             0.3333333333333333,
             "#9c179e"
            ],
            [
             0.4444444444444444,
             "#bd3786"
            ],
            [
             0.5555555555555556,
             "#d8576b"
            ],
            [
             0.6666666666666666,
             "#ed7953"
            ],
            [
             0.7777777777777778,
             "#fb9f3a"
            ],
            [
             0.8888888888888888,
             "#fdca26"
            ],
            [
             1,
             "#f0f921"
            ]
           ]
          },
          "colorway": [
           "#636efa",
           "#EF553B",
           "#00cc96",
           "#ab63fa",
           "#FFA15A",
           "#19d3f3",
           "#FF6692",
           "#B6E880",
           "#FF97FF",
           "#FECB52"
          ],
          "font": {
           "color": "#2a3f5f"
          },
          "geo": {
           "bgcolor": "white",
           "lakecolor": "white",
           "landcolor": "#E5ECF6",
           "showlakes": true,
           "showland": true,
           "subunitcolor": "white"
          },
          "hoverlabel": {
           "align": "left"
          },
          "hovermode": "closest",
          "mapbox": {
           "style": "light"
          },
          "paper_bgcolor": "white",
          "plot_bgcolor": "#E5ECF6",
          "polar": {
           "angularaxis": {
            "gridcolor": "white",
            "linecolor": "white",
            "ticks": ""
           },
           "bgcolor": "#E5ECF6",
           "radialaxis": {
            "gridcolor": "white",
            "linecolor": "white",
            "ticks": ""
           }
          },
          "scene": {
           "xaxis": {
            "backgroundcolor": "#E5ECF6",
            "gridcolor": "white",
            "gridwidth": 2,
            "linecolor": "white",
            "showbackground": true,
            "ticks": "",
            "zerolinecolor": "white"
           },
           "yaxis": {
            "backgroundcolor": "#E5ECF6",
            "gridcolor": "white",
            "gridwidth": 2,
            "linecolor": "white",
            "showbackground": true,
            "ticks": "",
            "zerolinecolor": "white"
           },
           "zaxis": {
            "backgroundcolor": "#E5ECF6",
            "gridcolor": "white",
            "gridwidth": 2,
            "linecolor": "white",
            "showbackground": true,
            "ticks": "",
            "zerolinecolor": "white"
           }
          },
          "shapedefaults": {
           "line": {
            "color": "#2a3f5f"
           }
          },
          "ternary": {
           "aaxis": {
            "gridcolor": "white",
            "linecolor": "white",
            "ticks": ""
           },
           "baxis": {
            "gridcolor": "white",
            "linecolor": "white",
            "ticks": ""
           },
           "bgcolor": "#E5ECF6",
           "caxis": {
            "gridcolor": "white",
            "linecolor": "white",
            "ticks": ""
           }
          },
          "title": {
           "x": 0.05
          },
          "xaxis": {
           "automargin": true,
           "gridcolor": "white",
           "linecolor": "white",
           "ticks": "",
           "title": {
            "standoff": 15
           },
           "zerolinecolor": "white",
           "zerolinewidth": 2
          },
          "yaxis": {
           "automargin": true,
           "gridcolor": "white",
           "linecolor": "white",
           "ticks": "",
           "title": {
            "standoff": 15
           },
           "zerolinecolor": "white",
           "zerolinewidth": 2
          }
         }
        },
        "title": {
         "text": "Standardized Distribution of Movie Themes: thriller",
         "x": 0.5
        },
        "xaxis": {
         "anchor": "y",
         "domain": [
          0,
          1
         ],
         "title": {
          "text": "Countries"
         }
        },
        "yaxis": {
         "anchor": "x",
         "domain": [
          0,
          1
         ],
         "title": {
          "text": "Percentage (%)"
         }
        }
       }
      }
     },
     "metadata": {},
     "output_type": "display_data"
    },
    {
     "data": {
      "application/vnd.plotly.v1+json": {
       "config": {
        "plotlyServerURL": "https://plot.ly"
       },
       "data": [
        {
         "alignmentgroup": "True",
         "hovertemplate": "Theme=0<br>Movie country=%{x}<br>Percentage=%{y}<extra></extra>",
         "legendgroup": "0",
         "marker": {
          "color": "#636efa",
          "pattern": {
           "shape": ""
          }
         },
         "name": "0",
         "offsetgroup": "0",
         "orientation": "v",
         "showlegend": true,
         "textposition": "auto",
         "texttemplate": "%{y:.2f}",
         "type": "bar",
         "x": [
          "United States of America",
          "India",
          "United Kingdom",
          "Japan",
          "Argentina",
          "Iran"
         ],
         "xaxis": "x",
         "y": [
          23.988842398884238,
          64.37869822485207,
          20.967741935483872,
          27.083333333333332,
          14.634146341463413,
          39.285714285714285
         ],
         "yaxis": "y"
        },
        {
         "alignmentgroup": "True",
         "hovertemplate": "Theme=1<br>Movie country=%{x}<br>Percentage=%{y}<extra></extra>",
         "legendgroup": "1",
         "marker": {
          "color": "#EF553B",
          "pattern": {
           "shape": ""
          }
         },
         "name": "1",
         "offsetgroup": "1",
         "orientation": "v",
         "showlegend": true,
         "textposition": "auto",
         "texttemplate": "%{y:.2f}",
         "type": "bar",
         "x": [
          "United States of America",
          "India",
          "United Kingdom",
          "Japan",
          "Argentina",
          "Iran"
         ],
         "xaxis": "x",
         "y": [
          21.05997210599721,
          19.881656804733726,
          32.66129032258064,
          25,
          31.70731707317073,
          25
         ],
         "yaxis": "y"
        },
        {
         "alignmentgroup": "True",
         "hovertemplate": "Theme=2<br>Movie country=%{x}<br>Percentage=%{y}<extra></extra>",
         "legendgroup": "2",
         "marker": {
          "color": "#00cc96",
          "pattern": {
           "shape": ""
          }
         },
         "name": "2",
         "offsetgroup": "2",
         "orientation": "v",
         "showlegend": true,
         "textposition": "auto",
         "texttemplate": "%{y:.2f}",
         "type": "bar",
         "x": [
          "United States of America",
          "India",
          "United Kingdom",
          "Japan",
          "Argentina",
          "Iran"
         ],
         "xaxis": "x",
         "y": [
          24.75592747559275,
          9.467455621301776,
          19.758064516129032,
          29.166666666666668,
          21.951219512195124,
          17.857142857142858
         ],
         "yaxis": "y"
        },
        {
         "alignmentgroup": "True",
         "hovertemplate": "Theme=3<br>Movie country=%{x}<br>Percentage=%{y}<extra></extra>",
         "legendgroup": "3",
         "marker": {
          "color": "#ab63fa",
          "pattern": {
           "shape": ""
          }
         },
         "name": "3",
         "offsetgroup": "3",
         "orientation": "v",
         "showlegend": true,
         "textposition": "auto",
         "texttemplate": "%{y:.2f}",
         "type": "bar",
         "x": [
          "United States of America",
          "India",
          "United Kingdom",
          "Japan",
          "Argentina",
          "Iran"
         ],
         "xaxis": "x",
         "y": [
          30.1952580195258,
          6.272189349112427,
          26.61290322580645,
          18.75,
          31.70731707317073,
          17.857142857142858
         ],
         "yaxis": "y"
        }
       ],
       "layout": {
        "barmode": "relative",
        "legend": {
         "title": {
          "text": "Themes"
         },
         "tracegroupgap": 0
        },
        "paper_bgcolor": "white",
        "plot_bgcolor": "white",
        "template": {
         "data": {
          "bar": [
           {
            "error_x": {
             "color": "#2a3f5f"
            },
            "error_y": {
             "color": "#2a3f5f"
            },
            "marker": {
             "line": {
              "color": "#E5ECF6",
              "width": 0.5
             },
             "pattern": {
              "fillmode": "overlay",
              "size": 10,
              "solidity": 0.2
             }
            },
            "type": "bar"
           }
          ],
          "barpolar": [
           {
            "marker": {
             "line": {
              "color": "#E5ECF6",
              "width": 0.5
             },
             "pattern": {
              "fillmode": "overlay",
              "size": 10,
              "solidity": 0.2
             }
            },
            "type": "barpolar"
           }
          ],
          "carpet": [
           {
            "aaxis": {
             "endlinecolor": "#2a3f5f",
             "gridcolor": "white",
             "linecolor": "white",
             "minorgridcolor": "white",
             "startlinecolor": "#2a3f5f"
            },
            "baxis": {
             "endlinecolor": "#2a3f5f",
             "gridcolor": "white",
             "linecolor": "white",
             "minorgridcolor": "white",
             "startlinecolor": "#2a3f5f"
            },
            "type": "carpet"
           }
          ],
          "choropleth": [
           {
            "colorbar": {
             "outlinewidth": 0,
             "ticks": ""
            },
            "type": "choropleth"
           }
          ],
          "contour": [
           {
            "colorbar": {
             "outlinewidth": 0,
             "ticks": ""
            },
            "colorscale": [
             [
              0,
              "#0d0887"
             ],
             [
              0.1111111111111111,
              "#46039f"
             ],
             [
              0.2222222222222222,
              "#7201a8"
             ],
             [
              0.3333333333333333,
              "#9c179e"
             ],
             [
              0.4444444444444444,
              "#bd3786"
             ],
             [
              0.5555555555555556,
              "#d8576b"
             ],
             [
              0.6666666666666666,
              "#ed7953"
             ],
             [
              0.7777777777777778,
              "#fb9f3a"
             ],
             [
              0.8888888888888888,
              "#fdca26"
             ],
             [
              1,
              "#f0f921"
             ]
            ],
            "type": "contour"
           }
          ],
          "contourcarpet": [
           {
            "colorbar": {
             "outlinewidth": 0,
             "ticks": ""
            },
            "type": "contourcarpet"
           }
          ],
          "heatmap": [
           {
            "colorbar": {
             "outlinewidth": 0,
             "ticks": ""
            },
            "colorscale": [
             [
              0,
              "#0d0887"
             ],
             [
              0.1111111111111111,
              "#46039f"
             ],
             [
              0.2222222222222222,
              "#7201a8"
             ],
             [
              0.3333333333333333,
              "#9c179e"
             ],
             [
              0.4444444444444444,
              "#bd3786"
             ],
             [
              0.5555555555555556,
              "#d8576b"
             ],
             [
              0.6666666666666666,
              "#ed7953"
             ],
             [
              0.7777777777777778,
              "#fb9f3a"
             ],
             [
              0.8888888888888888,
              "#fdca26"
             ],
             [
              1,
              "#f0f921"
             ]
            ],
            "type": "heatmap"
           }
          ],
          "heatmapgl": [
           {
            "colorbar": {
             "outlinewidth": 0,
             "ticks": ""
            },
            "colorscale": [
             [
              0,
              "#0d0887"
             ],
             [
              0.1111111111111111,
              "#46039f"
             ],
             [
              0.2222222222222222,
              "#7201a8"
             ],
             [
              0.3333333333333333,
              "#9c179e"
             ],
             [
              0.4444444444444444,
              "#bd3786"
             ],
             [
              0.5555555555555556,
              "#d8576b"
             ],
             [
              0.6666666666666666,
              "#ed7953"
             ],
             [
              0.7777777777777778,
              "#fb9f3a"
             ],
             [
              0.8888888888888888,
              "#fdca26"
             ],
             [
              1,
              "#f0f921"
             ]
            ],
            "type": "heatmapgl"
           }
          ],
          "histogram": [
           {
            "marker": {
             "pattern": {
              "fillmode": "overlay",
              "size": 10,
              "solidity": 0.2
             }
            },
            "type": "histogram"
           }
          ],
          "histogram2d": [
           {
            "colorbar": {
             "outlinewidth": 0,
             "ticks": ""
            },
            "colorscale": [
             [
              0,
              "#0d0887"
             ],
             [
              0.1111111111111111,
              "#46039f"
             ],
             [
              0.2222222222222222,
              "#7201a8"
             ],
             [
              0.3333333333333333,
              "#9c179e"
             ],
             [
              0.4444444444444444,
              "#bd3786"
             ],
             [
              0.5555555555555556,
              "#d8576b"
             ],
             [
              0.6666666666666666,
              "#ed7953"
             ],
             [
              0.7777777777777778,
              "#fb9f3a"
             ],
             [
              0.8888888888888888,
              "#fdca26"
             ],
             [
              1,
              "#f0f921"
             ]
            ],
            "type": "histogram2d"
           }
          ],
          "histogram2dcontour": [
           {
            "colorbar": {
             "outlinewidth": 0,
             "ticks": ""
            },
            "colorscale": [
             [
              0,
              "#0d0887"
             ],
             [
              0.1111111111111111,
              "#46039f"
             ],
             [
              0.2222222222222222,
              "#7201a8"
             ],
             [
              0.3333333333333333,
              "#9c179e"
             ],
             [
              0.4444444444444444,
              "#bd3786"
             ],
             [
              0.5555555555555556,
              "#d8576b"
             ],
             [
              0.6666666666666666,
              "#ed7953"
             ],
             [
              0.7777777777777778,
              "#fb9f3a"
             ],
             [
              0.8888888888888888,
              "#fdca26"
             ],
             [
              1,
              "#f0f921"
             ]
            ],
            "type": "histogram2dcontour"
           }
          ],
          "mesh3d": [
           {
            "colorbar": {
             "outlinewidth": 0,
             "ticks": ""
            },
            "type": "mesh3d"
           }
          ],
          "parcoords": [
           {
            "line": {
             "colorbar": {
              "outlinewidth": 0,
              "ticks": ""
             }
            },
            "type": "parcoords"
           }
          ],
          "pie": [
           {
            "automargin": true,
            "type": "pie"
           }
          ],
          "scatter": [
           {
            "fillpattern": {
             "fillmode": "overlay",
             "size": 10,
             "solidity": 0.2
            },
            "type": "scatter"
           }
          ],
          "scatter3d": [
           {
            "line": {
             "colorbar": {
              "outlinewidth": 0,
              "ticks": ""
             }
            },
            "marker": {
             "colorbar": {
              "outlinewidth": 0,
              "ticks": ""
             }
            },
            "type": "scatter3d"
           }
          ],
          "scattercarpet": [
           {
            "marker": {
             "colorbar": {
              "outlinewidth": 0,
              "ticks": ""
             }
            },
            "type": "scattercarpet"
           }
          ],
          "scattergeo": [
           {
            "marker": {
             "colorbar": {
              "outlinewidth": 0,
              "ticks": ""
             }
            },
            "type": "scattergeo"
           }
          ],
          "scattergl": [
           {
            "marker": {
             "colorbar": {
              "outlinewidth": 0,
              "ticks": ""
             }
            },
            "type": "scattergl"
           }
          ],
          "scattermapbox": [
           {
            "marker": {
             "colorbar": {
              "outlinewidth": 0,
              "ticks": ""
             }
            },
            "type": "scattermapbox"
           }
          ],
          "scatterpolar": [
           {
            "marker": {
             "colorbar": {
              "outlinewidth": 0,
              "ticks": ""
             }
            },
            "type": "scatterpolar"
           }
          ],
          "scatterpolargl": [
           {
            "marker": {
             "colorbar": {
              "outlinewidth": 0,
              "ticks": ""
             }
            },
            "type": "scatterpolargl"
           }
          ],
          "scatterternary": [
           {
            "marker": {
             "colorbar": {
              "outlinewidth": 0,
              "ticks": ""
             }
            },
            "type": "scatterternary"
           }
          ],
          "surface": [
           {
            "colorbar": {
             "outlinewidth": 0,
             "ticks": ""
            },
            "colorscale": [
             [
              0,
              "#0d0887"
             ],
             [
              0.1111111111111111,
              "#46039f"
             ],
             [
              0.2222222222222222,
              "#7201a8"
             ],
             [
              0.3333333333333333,
              "#9c179e"
             ],
             [
              0.4444444444444444,
              "#bd3786"
             ],
             [
              0.5555555555555556,
              "#d8576b"
             ],
             [
              0.6666666666666666,
              "#ed7953"
             ],
             [
              0.7777777777777778,
              "#fb9f3a"
             ],
             [
              0.8888888888888888,
              "#fdca26"
             ],
             [
              1,
              "#f0f921"
             ]
            ],
            "type": "surface"
           }
          ],
          "table": [
           {
            "cells": {
             "fill": {
              "color": "#EBF0F8"
             },
             "line": {
              "color": "white"
             }
            },
            "header": {
             "fill": {
              "color": "#C8D4E3"
             },
             "line": {
              "color": "white"
             }
            },
            "type": "table"
           }
          ]
         },
         "layout": {
          "annotationdefaults": {
           "arrowcolor": "#2a3f5f",
           "arrowhead": 0,
           "arrowwidth": 1
          },
          "autotypenumbers": "strict",
          "coloraxis": {
           "colorbar": {
            "outlinewidth": 0,
            "ticks": ""
           }
          },
          "colorscale": {
           "diverging": [
            [
             0,
             "#8e0152"
            ],
            [
             0.1,
             "#c51b7d"
            ],
            [
             0.2,
             "#de77ae"
            ],
            [
             0.3,
             "#f1b6da"
            ],
            [
             0.4,
             "#fde0ef"
            ],
            [
             0.5,
             "#f7f7f7"
            ],
            [
             0.6,
             "#e6f5d0"
            ],
            [
             0.7,
             "#b8e186"
            ],
            [
             0.8,
             "#7fbc41"
            ],
            [
             0.9,
             "#4d9221"
            ],
            [
             1,
             "#276419"
            ]
           ],
           "sequential": [
            [
             0,
             "#0d0887"
            ],
            [
             0.1111111111111111,
             "#46039f"
            ],
            [
             0.2222222222222222,
             "#7201a8"
            ],
            [
             0.3333333333333333,
             "#9c179e"
            ],
            [
             0.4444444444444444,
             "#bd3786"
            ],
            [
             0.5555555555555556,
             "#d8576b"
            ],
            [
             0.6666666666666666,
             "#ed7953"
            ],
            [
             0.7777777777777778,
             "#fb9f3a"
            ],
            [
             0.8888888888888888,
             "#fdca26"
            ],
            [
             1,
             "#f0f921"
            ]
           ],
           "sequentialminus": [
            [
             0,
             "#0d0887"
            ],
            [
             0.1111111111111111,
             "#46039f"
            ],
            [
             0.2222222222222222,
             "#7201a8"
            ],
            [
             0.3333333333333333,
             "#9c179e"
            ],
            [
             0.4444444444444444,
             "#bd3786"
            ],
            [
             0.5555555555555556,
             "#d8576b"
            ],
            [
             0.6666666666666666,
             "#ed7953"
            ],
            [
             0.7777777777777778,
             "#fb9f3a"
            ],
            [
             0.8888888888888888,
             "#fdca26"
            ],
            [
             1,
             "#f0f921"
            ]
           ]
          },
          "colorway": [
           "#636efa",
           "#EF553B",
           "#00cc96",
           "#ab63fa",
           "#FFA15A",
           "#19d3f3",
           "#FF6692",
           "#B6E880",
           "#FF97FF",
           "#FECB52"
          ],
          "font": {
           "color": "#2a3f5f"
          },
          "geo": {
           "bgcolor": "white",
           "lakecolor": "white",
           "landcolor": "#E5ECF6",
           "showlakes": true,
           "showland": true,
           "subunitcolor": "white"
          },
          "hoverlabel": {
           "align": "left"
          },
          "hovermode": "closest",
          "mapbox": {
           "style": "light"
          },
          "paper_bgcolor": "white",
          "plot_bgcolor": "#E5ECF6",
          "polar": {
           "angularaxis": {
            "gridcolor": "white",
            "linecolor": "white",
            "ticks": ""
           },
           "bgcolor": "#E5ECF6",
           "radialaxis": {
            "gridcolor": "white",
            "linecolor": "white",
            "ticks": ""
           }
          },
          "scene": {
           "xaxis": {
            "backgroundcolor": "#E5ECF6",
            "gridcolor": "white",
            "gridwidth": 2,
            "linecolor": "white",
            "showbackground": true,
            "ticks": "",
            "zerolinecolor": "white"
           },
           "yaxis": {
            "backgroundcolor": "#E5ECF6",
            "gridcolor": "white",
            "gridwidth": 2,
            "linecolor": "white",
            "showbackground": true,
            "ticks": "",
            "zerolinecolor": "white"
           },
           "zaxis": {
            "backgroundcolor": "#E5ECF6",
            "gridcolor": "white",
            "gridwidth": 2,
            "linecolor": "white",
            "showbackground": true,
            "ticks": "",
            "zerolinecolor": "white"
           }
          },
          "shapedefaults": {
           "line": {
            "color": "#2a3f5f"
           }
          },
          "ternary": {
           "aaxis": {
            "gridcolor": "white",
            "linecolor": "white",
            "ticks": ""
           },
           "baxis": {
            "gridcolor": "white",
            "linecolor": "white",
            "ticks": ""
           },
           "bgcolor": "#E5ECF6",
           "caxis": {
            "gridcolor": "white",
            "linecolor": "white",
            "ticks": ""
           }
          },
          "title": {
           "x": 0.05
          },
          "xaxis": {
           "automargin": true,
           "gridcolor": "white",
           "linecolor": "white",
           "ticks": "",
           "title": {
            "standoff": 15
           },
           "zerolinecolor": "white",
           "zerolinewidth": 2
          },
          "yaxis": {
           "automargin": true,
           "gridcolor": "white",
           "linecolor": "white",
           "ticks": "",
           "title": {
            "standoff": 15
           },
           "zerolinecolor": "white",
           "zerolinewidth": 2
          }
         }
        },
        "title": {
         "text": "Standardized Distribution of Movie Themes: drama",
         "x": 0.5
        },
        "xaxis": {
         "anchor": "y",
         "domain": [
          0,
          1
         ],
         "title": {
          "text": "Countries"
         }
        },
        "yaxis": {
         "anchor": "x",
         "domain": [
          0,
          1
         ],
         "title": {
          "text": "Percentage (%)"
         }
        }
       }
      }
     },
     "metadata": {},
     "output_type": "display_data"
    },
    {
     "data": {
      "application/vnd.plotly.v1+json": {
       "config": {
        "plotlyServerURL": "https://plot.ly"
       },
       "data": [
        {
         "alignmentgroup": "True",
         "hovertemplate": "Theme=0<br>Movie country=%{x}<br>Percentage=%{y}<extra></extra>",
         "legendgroup": "0",
         "marker": {
          "color": "#636efa",
          "pattern": {
           "shape": ""
          }
         },
         "name": "0",
         "offsetgroup": "0",
         "orientation": "v",
         "showlegend": true,
         "textposition": "auto",
         "texttemplate": "%{y:.2f}",
         "type": "bar",
         "x": [
          "United States of America",
          "India",
          "United Kingdom",
          "Japan",
          "Argentina",
          "Iran"
         ],
         "xaxis": "x",
         "y": [
          39.77673325499412,
          13.673805601317957,
          48.41269841269841,
          18.75,
          25,
          33.33333333333333
         ],
         "yaxis": "y"
        },
        {
         "alignmentgroup": "True",
         "hovertemplate": "Theme=1<br>Movie country=%{x}<br>Percentage=%{y}<extra></extra>",
         "legendgroup": "1",
         "marker": {
          "color": "#EF553B",
          "pattern": {
           "shape": ""
          }
         },
         "name": "1",
         "offsetgroup": "1",
         "orientation": "v",
         "showlegend": true,
         "textposition": "auto",
         "texttemplate": "%{y:.2f}",
         "type": "bar",
         "x": [
          "United States of America",
          "India",
          "United Kingdom",
          "Japan",
          "Argentina",
          "Iran"
         ],
         "xaxis": "x",
         "y": [
          34.430082256169214,
          25.370675453047774,
          15.079365079365079,
          31.25,
          37.5,
          0
         ],
         "yaxis": "y"
        },
        {
         "alignmentgroup": "True",
         "hovertemplate": "Theme=2<br>Movie country=%{x}<br>Percentage=%{y}<extra></extra>",
         "legendgroup": "2",
         "marker": {
          "color": "#00cc96",
          "pattern": {
           "shape": ""
          }
         },
         "name": "2",
         "offsetgroup": "2",
         "orientation": "v",
         "showlegend": true,
         "textposition": "auto",
         "texttemplate": "%{y:.2f}",
         "type": "bar",
         "x": [
          "United States of America",
          "India",
          "United Kingdom",
          "Japan",
          "Argentina",
          "Iran"
         ],
         "xaxis": "x",
         "y": [
          25.793184488836662,
          60.95551894563427,
          36.507936507936506,
          50,
          37.5,
          66.66666666666666
         ],
         "yaxis": "y"
        }
       ],
       "layout": {
        "barmode": "relative",
        "legend": {
         "title": {
          "text": "Themes"
         },
         "tracegroupgap": 0
        },
        "paper_bgcolor": "white",
        "plot_bgcolor": "white",
        "template": {
         "data": {
          "bar": [
           {
            "error_x": {
             "color": "#2a3f5f"
            },
            "error_y": {
             "color": "#2a3f5f"
            },
            "marker": {
             "line": {
              "color": "#E5ECF6",
              "width": 0.5
             },
             "pattern": {
              "fillmode": "overlay",
              "size": 10,
              "solidity": 0.2
             }
            },
            "type": "bar"
           }
          ],
          "barpolar": [
           {
            "marker": {
             "line": {
              "color": "#E5ECF6",
              "width": 0.5
             },
             "pattern": {
              "fillmode": "overlay",
              "size": 10,
              "solidity": 0.2
             }
            },
            "type": "barpolar"
           }
          ],
          "carpet": [
           {
            "aaxis": {
             "endlinecolor": "#2a3f5f",
             "gridcolor": "white",
             "linecolor": "white",
             "minorgridcolor": "white",
             "startlinecolor": "#2a3f5f"
            },
            "baxis": {
             "endlinecolor": "#2a3f5f",
             "gridcolor": "white",
             "linecolor": "white",
             "minorgridcolor": "white",
             "startlinecolor": "#2a3f5f"
            },
            "type": "carpet"
           }
          ],
          "choropleth": [
           {
            "colorbar": {
             "outlinewidth": 0,
             "ticks": ""
            },
            "type": "choropleth"
           }
          ],
          "contour": [
           {
            "colorbar": {
             "outlinewidth": 0,
             "ticks": ""
            },
            "colorscale": [
             [
              0,
              "#0d0887"
             ],
             [
              0.1111111111111111,
              "#46039f"
             ],
             [
              0.2222222222222222,
              "#7201a8"
             ],
             [
              0.3333333333333333,
              "#9c179e"
             ],
             [
              0.4444444444444444,
              "#bd3786"
             ],
             [
              0.5555555555555556,
              "#d8576b"
             ],
             [
              0.6666666666666666,
              "#ed7953"
             ],
             [
              0.7777777777777778,
              "#fb9f3a"
             ],
             [
              0.8888888888888888,
              "#fdca26"
             ],
             [
              1,
              "#f0f921"
             ]
            ],
            "type": "contour"
           }
          ],
          "contourcarpet": [
           {
            "colorbar": {
             "outlinewidth": 0,
             "ticks": ""
            },
            "type": "contourcarpet"
           }
          ],
          "heatmap": [
           {
            "colorbar": {
             "outlinewidth": 0,
             "ticks": ""
            },
            "colorscale": [
             [
              0,
              "#0d0887"
             ],
             [
              0.1111111111111111,
              "#46039f"
             ],
             [
              0.2222222222222222,
              "#7201a8"
             ],
             [
              0.3333333333333333,
              "#9c179e"
             ],
             [
              0.4444444444444444,
              "#bd3786"
             ],
             [
              0.5555555555555556,
              "#d8576b"
             ],
             [
              0.6666666666666666,
              "#ed7953"
             ],
             [
              0.7777777777777778,
              "#fb9f3a"
             ],
             [
              0.8888888888888888,
              "#fdca26"
             ],
             [
              1,
              "#f0f921"
             ]
            ],
            "type": "heatmap"
           }
          ],
          "heatmapgl": [
           {
            "colorbar": {
             "outlinewidth": 0,
             "ticks": ""
            },
            "colorscale": [
             [
              0,
              "#0d0887"
             ],
             [
              0.1111111111111111,
              "#46039f"
             ],
             [
              0.2222222222222222,
              "#7201a8"
             ],
             [
              0.3333333333333333,
              "#9c179e"
             ],
             [
              0.4444444444444444,
              "#bd3786"
             ],
             [
              0.5555555555555556,
              "#d8576b"
             ],
             [
              0.6666666666666666,
              "#ed7953"
             ],
             [
              0.7777777777777778,
              "#fb9f3a"
             ],
             [
              0.8888888888888888,
              "#fdca26"
             ],
             [
              1,
              "#f0f921"
             ]
            ],
            "type": "heatmapgl"
           }
          ],
          "histogram": [
           {
            "marker": {
             "pattern": {
              "fillmode": "overlay",
              "size": 10,
              "solidity": 0.2
             }
            },
            "type": "histogram"
           }
          ],
          "histogram2d": [
           {
            "colorbar": {
             "outlinewidth": 0,
             "ticks": ""
            },
            "colorscale": [
             [
              0,
              "#0d0887"
             ],
             [
              0.1111111111111111,
              "#46039f"
             ],
             [
              0.2222222222222222,
              "#7201a8"
             ],
             [
              0.3333333333333333,
              "#9c179e"
             ],
             [
              0.4444444444444444,
              "#bd3786"
             ],
             [
              0.5555555555555556,
              "#d8576b"
             ],
             [
              0.6666666666666666,
              "#ed7953"
             ],
             [
              0.7777777777777778,
              "#fb9f3a"
             ],
             [
              0.8888888888888888,
              "#fdca26"
             ],
             [
              1,
              "#f0f921"
             ]
            ],
            "type": "histogram2d"
           }
          ],
          "histogram2dcontour": [
           {
            "colorbar": {
             "outlinewidth": 0,
             "ticks": ""
            },
            "colorscale": [
             [
              0,
              "#0d0887"
             ],
             [
              0.1111111111111111,
              "#46039f"
             ],
             [
              0.2222222222222222,
              "#7201a8"
             ],
             [
              0.3333333333333333,
              "#9c179e"
             ],
             [
              0.4444444444444444,
              "#bd3786"
             ],
             [
              0.5555555555555556,
              "#d8576b"
             ],
             [
              0.6666666666666666,
              "#ed7953"
             ],
             [
              0.7777777777777778,
              "#fb9f3a"
             ],
             [
              0.8888888888888888,
              "#fdca26"
             ],
             [
              1,
              "#f0f921"
             ]
            ],
            "type": "histogram2dcontour"
           }
          ],
          "mesh3d": [
           {
            "colorbar": {
             "outlinewidth": 0,
             "ticks": ""
            },
            "type": "mesh3d"
           }
          ],
          "parcoords": [
           {
            "line": {
             "colorbar": {
              "outlinewidth": 0,
              "ticks": ""
             }
            },
            "type": "parcoords"
           }
          ],
          "pie": [
           {
            "automargin": true,
            "type": "pie"
           }
          ],
          "scatter": [
           {
            "fillpattern": {
             "fillmode": "overlay",
             "size": 10,
             "solidity": 0.2
            },
            "type": "scatter"
           }
          ],
          "scatter3d": [
           {
            "line": {
             "colorbar": {
              "outlinewidth": 0,
              "ticks": ""
             }
            },
            "marker": {
             "colorbar": {
              "outlinewidth": 0,
              "ticks": ""
             }
            },
            "type": "scatter3d"
           }
          ],
          "scattercarpet": [
           {
            "marker": {
             "colorbar": {
              "outlinewidth": 0,
              "ticks": ""
             }
            },
            "type": "scattercarpet"
           }
          ],
          "scattergeo": [
           {
            "marker": {
             "colorbar": {
              "outlinewidth": 0,
              "ticks": ""
             }
            },
            "type": "scattergeo"
           }
          ],
          "scattergl": [
           {
            "marker": {
             "colorbar": {
              "outlinewidth": 0,
              "ticks": ""
             }
            },
            "type": "scattergl"
           }
          ],
          "scattermapbox": [
           {
            "marker": {
             "colorbar": {
              "outlinewidth": 0,
              "ticks": ""
             }
            },
            "type": "scattermapbox"
           }
          ],
          "scatterpolar": [
           {
            "marker": {
             "colorbar": {
              "outlinewidth": 0,
              "ticks": ""
             }
            },
            "type": "scatterpolar"
           }
          ],
          "scatterpolargl": [
           {
            "marker": {
             "colorbar": {
              "outlinewidth": 0,
              "ticks": ""
             }
            },
            "type": "scatterpolargl"
           }
          ],
          "scatterternary": [
           {
            "marker": {
             "colorbar": {
              "outlinewidth": 0,
              "ticks": ""
             }
            },
            "type": "scatterternary"
           }
          ],
          "surface": [
           {
            "colorbar": {
             "outlinewidth": 0,
             "ticks": ""
            },
            "colorscale": [
             [
              0,
              "#0d0887"
             ],
             [
              0.1111111111111111,
              "#46039f"
             ],
             [
              0.2222222222222222,
              "#7201a8"
             ],
             [
              0.3333333333333333,
              "#9c179e"
             ],
             [
              0.4444444444444444,
              "#bd3786"
             ],
             [
              0.5555555555555556,
              "#d8576b"
             ],
             [
              0.6666666666666666,
              "#ed7953"
             ],
             [
              0.7777777777777778,
              "#fb9f3a"
             ],
             [
              0.8888888888888888,
              "#fdca26"
             ],
             [
              1,
              "#f0f921"
             ]
            ],
            "type": "surface"
           }
          ],
          "table": [
           {
            "cells": {
             "fill": {
              "color": "#EBF0F8"
             },
             "line": {
              "color": "white"
             }
            },
            "header": {
             "fill": {
              "color": "#C8D4E3"
             },
             "line": {
              "color": "white"
             }
            },
            "type": "table"
           }
          ]
         },
         "layout": {
          "annotationdefaults": {
           "arrowcolor": "#2a3f5f",
           "arrowhead": 0,
           "arrowwidth": 1
          },
          "autotypenumbers": "strict",
          "coloraxis": {
           "colorbar": {
            "outlinewidth": 0,
            "ticks": ""
           }
          },
          "colorscale": {
           "diverging": [
            [
             0,
             "#8e0152"
            ],
            [
             0.1,
             "#c51b7d"
            ],
            [
             0.2,
             "#de77ae"
            ],
            [
             0.3,
             "#f1b6da"
            ],
            [
             0.4,
             "#fde0ef"
            ],
            [
             0.5,
             "#f7f7f7"
            ],
            [
             0.6,
             "#e6f5d0"
            ],
            [
             0.7,
             "#b8e186"
            ],
            [
             0.8,
             "#7fbc41"
            ],
            [
             0.9,
             "#4d9221"
            ],
            [
             1,
             "#276419"
            ]
           ],
           "sequential": [
            [
             0,
             "#0d0887"
            ],
            [
             0.1111111111111111,
             "#46039f"
            ],
            [
             0.2222222222222222,
             "#7201a8"
            ],
            [
             0.3333333333333333,
             "#9c179e"
            ],
            [
             0.4444444444444444,
             "#bd3786"
            ],
            [
             0.5555555555555556,
             "#d8576b"
            ],
            [
             0.6666666666666666,
             "#ed7953"
            ],
            [
             0.7777777777777778,
             "#fb9f3a"
            ],
            [
             0.8888888888888888,
             "#fdca26"
            ],
            [
             1,
             "#f0f921"
            ]
           ],
           "sequentialminus": [
            [
             0,
             "#0d0887"
            ],
            [
             0.1111111111111111,
             "#46039f"
            ],
            [
             0.2222222222222222,
             "#7201a8"
            ],
            [
             0.3333333333333333,
             "#9c179e"
            ],
            [
             0.4444444444444444,
             "#bd3786"
            ],
            [
             0.5555555555555556,
             "#d8576b"
            ],
            [
             0.6666666666666666,
             "#ed7953"
            ],
            [
             0.7777777777777778,
             "#fb9f3a"
            ],
            [
             0.8888888888888888,
             "#fdca26"
            ],
            [
             1,
             "#f0f921"
            ]
           ]
          },
          "colorway": [
           "#636efa",
           "#EF553B",
           "#00cc96",
           "#ab63fa",
           "#FFA15A",
           "#19d3f3",
           "#FF6692",
           "#B6E880",
           "#FF97FF",
           "#FECB52"
          ],
          "font": {
           "color": "#2a3f5f"
          },
          "geo": {
           "bgcolor": "white",
           "lakecolor": "white",
           "landcolor": "#E5ECF6",
           "showlakes": true,
           "showland": true,
           "subunitcolor": "white"
          },
          "hoverlabel": {
           "align": "left"
          },
          "hovermode": "closest",
          "mapbox": {
           "style": "light"
          },
          "paper_bgcolor": "white",
          "plot_bgcolor": "#E5ECF6",
          "polar": {
           "angularaxis": {
            "gridcolor": "white",
            "linecolor": "white",
            "ticks": ""
           },
           "bgcolor": "#E5ECF6",
           "radialaxis": {
            "gridcolor": "white",
            "linecolor": "white",
            "ticks": ""
           }
          },
          "scene": {
           "xaxis": {
            "backgroundcolor": "#E5ECF6",
            "gridcolor": "white",
            "gridwidth": 2,
            "linecolor": "white",
            "showbackground": true,
            "ticks": "",
            "zerolinecolor": "white"
           },
           "yaxis": {
            "backgroundcolor": "#E5ECF6",
            "gridcolor": "white",
            "gridwidth": 2,
            "linecolor": "white",
            "showbackground": true,
            "ticks": "",
            "zerolinecolor": "white"
           },
           "zaxis": {
            "backgroundcolor": "#E5ECF6",
            "gridcolor": "white",
            "gridwidth": 2,
            "linecolor": "white",
            "showbackground": true,
            "ticks": "",
            "zerolinecolor": "white"
           }
          },
          "shapedefaults": {
           "line": {
            "color": "#2a3f5f"
           }
          },
          "ternary": {
           "aaxis": {
            "gridcolor": "white",
            "linecolor": "white",
            "ticks": ""
           },
           "baxis": {
            "gridcolor": "white",
            "linecolor": "white",
            "ticks": ""
           },
           "bgcolor": "#E5ECF6",
           "caxis": {
            "gridcolor": "white",
            "linecolor": "white",
            "ticks": ""
           }
          },
          "title": {
           "x": 0.05
          },
          "xaxis": {
           "automargin": true,
           "gridcolor": "white",
           "linecolor": "white",
           "ticks": "",
           "title": {
            "standoff": 15
           },
           "zerolinecolor": "white",
           "zerolinewidth": 2
          },
          "yaxis": {
           "automargin": true,
           "gridcolor": "white",
           "linecolor": "white",
           "ticks": "",
           "title": {
            "standoff": 15
           },
           "zerolinecolor": "white",
           "zerolinewidth": 2
          }
         }
        },
        "title": {
         "text": "Standardized Distribution of Movie Themes: romance",
         "x": 0.5
        },
        "xaxis": {
         "anchor": "y",
         "domain": [
          0,
          1
         ],
         "title": {
          "text": "Countries"
         }
        },
        "yaxis": {
         "anchor": "x",
         "domain": [
          0,
          1
         ],
         "title": {
          "text": "Percentage (%)"
         }
        }
       }
      }
     },
     "metadata": {},
     "output_type": "display_data"
    }
   ],
   "source": [
    "\n",
    "figures = []\n",
    "\n",
    "\n",
    "for genre in selected_models:\n",
    "    merged_df = top_themes_per_document_by_genre[genre]\n",
    "    theme_data = merged_df[['Movie country', 'Theme 1']]\n",
    "    theme_counts = theme_data.groupby(['Movie country', 'Theme 1']).size().unstack(fill_value=0)\n",
    "    theme_proportions = theme_counts.div(theme_counts.sum(axis=1), axis=0) * 100  # Convert to percentage\n",
    "\n",
    "    theme_proportions = theme_proportions.loc[focus_countries]\n",
    "\n",
    "    theme_proportions.reset_index(inplace=True)\n",
    "    melted_df = theme_proportions.melt(id_vars='Movie country', var_name='Theme', value_name='Percentage')\n",
    "\n",
    "    fig = px.bar(\n",
    "        melted_df,\n",
    "        x='Movie country',\n",
    "        y='Percentage',\n",
    "        color='Theme',\n",
    "        title=f'Standardized Distribution of Movie Themes: {genre}',\n",
    "        text_auto='.2f',\n",
    "    )\n",
    "\n",
    "    fig.update_layout(\n",
    "        plot_bgcolor=\"white\",\n",
    "        paper_bgcolor=\"white\",\n",
    "        xaxis_title=\"Countries\",\n",
    "        yaxis_title=\"Percentage (%)\",\n",
    "        legend_title=\"Themes\",\n",
    "        title_x=0.5\n",
    "    )\n",
    "    output_path = f\"{output_directory}{genre}_topic_distribution.html\"\n",
    "    fig.write_html(output_path)\n",
    "    print(f\"Plot saved for genre '{genre}' at: {output_path}\")\n",
    "    figures.append(fig)\n",
    "\n",
    "for fig in figures:\n",
    "    fig.show()\n",
    "\n"
   ]
  },
  {
   "cell_type": "code",
   "execution_count": 24,
   "id": "078f2c15",
   "metadata": {},
   "outputs": [
    {
     "name": "stdout",
     "output_type": "stream",
     "text": [
      "       Wikipedia movie ID Freebase movie ID Movie name  Movie release date  \\\n",
      "51067              151807         /m/013rvb       Film                1965   \n",
      "\n",
      "       Movie box office revenue  Movie runtime       Movie languages  \\\n",
      "51067                       NaN           24.0  ['English Language']   \n",
      "\n",
      "                  Movie country Movie genres  \n",
      "51067  United States of America   short film  \n"
     ]
    }
   ],
   "source": [
    "print(df_date_clean[df_date_clean[\"Movie name\"]==\"Film\"])"
   ]
  },
  {
   "cell_type": "code",
   "execution_count": null,
   "id": "8890c89a",
   "metadata": {},
   "outputs": [],
   "source": []
  }
 ],
 "metadata": {
  "kernelspec": {
   "display_name": "ADAmilestone2",
   "language": "python",
   "name": "python3"
  },
  "language_info": {
   "codemirror_mode": {
    "name": "ipython",
    "version": 3
   },
   "file_extension": ".py",
   "mimetype": "text/x-python",
   "name": "python",
   "nbconvert_exporter": "python",
   "pygments_lexer": "ipython3",
   "version": "3.8.20"
  }
 },
 "nbformat": 4,
 "nbformat_minor": 5
}
