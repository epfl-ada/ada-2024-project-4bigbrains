{
 "cells": [
  {
   "cell_type": "code",
   "execution_count": 23,
   "id": "520d7c05-ba1b-45c7-a7fd-93f3ec09a55d",
   "metadata": {},
   "outputs": [],
   "source": [
    "# Imports \n",
    "import pandas as pd\n",
    "from datetime import datetime\n",
    "import ast\n",
    "import numpy as np\n",
    "import matplotlib\n",
    "import matplotlib.pyplot as plt\n",
    "import seaborn as sns\n",
    "import os\n",
    "import sys\n",
    "from scipy import stats\n",
    "\n",
    "\n",
    "#for LDA:\n",
    "import gzip\n",
    "import tarfile\n",
    "import xml.etree.ElementTree as ET\n",
    "from sklearn.feature_extraction.text import CountVectorizer\n",
    "from sklearn.decomposition import LatentDirichletAllocation\n",
    "from gensim.corpora import Dictionary\n",
    "from gensim.models import LdaMulticore"
   ]
  },
  {
   "cell_type": "code",
   "execution_count": 24,
   "id": "e7c9a332-a701-49f0-b639-08969e089331",
   "metadata": {},
   "outputs": [],
   "source": [
    "# function that extracts the meaningful words in each XML file\n",
    "def parse_corenlp_file(file):\n",
    "    with gzip.open(file, 'rt', encoding='utf-8') as f:\n",
    "        tree = ET.parse(f)\n",
    "        root = tree.getroot()\n",
    "        filtered_words = []\n",
    "        for token in root.iter('token'):\n",
    "            lemma = token.find('lemma').text\n",
    "            pos = token.find('POS').text\n",
    "            if pos in {'NN', 'NNS'} or pos.startswith('VB') or pos.startswith('JJ'):\n",
    "                filtered_words.append(lemma)\n",
    "        return ' '.join(filtered_words)"
   ]
  },
  {
   "cell_type": "code",
   "execution_count": 25,
   "id": "a188b162-c2f2-4759-b7c9-d976994d2b18",
   "metadata": {},
   "outputs": [],
   "source": [
    "#os.chdir(os.path.join(os.getcwd(), \"..\", \"..\"))\n",
    "\n",
    "tar_path = 'data/corenlp_plot_summaries.tar'\n",
    "\n",
    "documents = []\n",
    "ids = []\n",
    "\n",
    "\n",
    "with tarfile.open(tar_path, 'r') as tar:\n",
    "    for member in tar.getmembers():\n",
    "        if member.name.endswith('.xml.gz'):\n",
    "            with tar.extractfile(member) as xml_gz_file:\n",
    "                film_id = member.name.split('/')[-1].replace('.xml.gz', '')\n",
    "                ids.append(film_id)\n",
    "                document = parse_corenlp_file(xml_gz_file)\n",
    "                documents.append(document)"
   ]
  },
  {
   "cell_type": "code",
   "execution_count": 33,
   "id": "2415f90b-b473-406a-a903-1e47ff7b81a3",
   "metadata": {},
   "outputs": [
    {
     "name": "stdout",
     "output_type": "stream",
     "text": [
      "Number of unique tokens: 19973\n",
      "Number of chunks: 42306\n"
     ]
    }
   ],
   "source": [
    "# Create a dictionary representation of the documents, and filter out frequent and rare words.\n",
    "# tokenized_documents = [doc.lower().split() for doc in documents]\n",
    "weak_verbs = {\n",
    "    \"accept\", \"achieve\", \"act\", \"add\", \"admit\", \"affect\", \"afford\", \"agree\", \"aim\", \"allow\", \"appear\", \"apply\", \"argue\",\n",
    "    \"arrange\", \"arrive\", \"ask\", \"assume\", \"avoid\", \"be\", \"become\", \"begin\", \"believe\", \"belong\", \"bring\", \"build\", \"buy\", \"call\",\n",
    "    \"carry\", \"cause\", \"change\", \"choose\", \"claim\", \"close\", \"collect\", \"come\", \"commit\", \"compare\", \"complete\",\n",
    "    \"consider\", \"consist\", \"continue\", \"contribute\", \"control\", \"cope\", \"create\", \"cut\", \"deal\", \"decide\", \"decline\",\n",
    "    \"deliver\", \"demand\", \"depend\", \"describe\", \"design\", \"destroy\", \"determine\", \"develop\", \"die\", \"differ\", \"discover\",\n",
    "    \"discuss\", \"display\", \"do\", \"dominate\", \"draw\", \"dress\", \"drink\", \"drive\", \"eat\", \"encourage\", \"end\", \"enjoy\",\n",
    "    \"enter\", \"establish\", \"examine\", \"exist\", \"expect\", \"experience\", \"explain\", \"express\", \"fail\", \"fall\", \"feel\",\n",
    "    \"fight\", \"find\", \"follow\", \"form\", \"function\", \"gain\", \"get\", \"give\", \"go\", \"grow\", \"guess\", \"handle\", \"happen\",\n",
    "    \"have\", \"hear\", \"help\", \"hide\", \"hold\", \"hope\", \"identify\", \"imagine\", \"implement\", \"improve\", \"include\", \"increase\",\n",
    "    \"influence\", \"inform\", \"initiate\", \"insist\", \"intend\", \"introduce\", \"involve\", \"join\", \"keep\", \"kill\", \"know\",\n",
    "    \"laugh\", \"lead\", \"learn\", \"leave\", \"let\", \"lie\", \"like\", \"listen\", \"live\", \"look\", \"lose\", \"love\", \"maintain\",\n",
    "    \"make\" , \"manage\", \"matter\", \"mean\", \"measure\", \"meet\", \"mention\", \"mind\", \"miss\", \"move\", \"need\", \"note\", \"notice\",\n",
    "    \"observe\", \"obtain\", \"occur\", \"offer\", \"open\", \"operate\", \"organize\", \"own\", \"participate\", \"pass\", \"pay\", \"perform\",\n",
    "    \"plan\", \"play\", \"possess\", \"prefer\", \"prepare\", \"present\", \"prevent\", \"proceed\", \"produce\", \"provide\", \"pull\", \"put\",\n",
    "    \"raise\", \"reach\", \"read\", \"realize\", \"receive\", \"recognize\", \"record\", \"reduce\", \"refer\", \"reflect\", \"refuse\",\n",
    "    \"regard\", \"relate\", \"remain\", \"remember\", \"remove\", \"report\", \"represent\", \"require\", \"resolve\", \"respond\",\n",
    "    \"result\", \"reveal\", \"rise\", \"run\", \"save\", \"say\", \"see\", \"seem\", \"select\", \"sell\", \"send\", \"serve\", \"set\", \"share\",\n",
    "    \"show\", \"sit\", \"sleep\", \"solve\", \"speak\", \"spend\", \"stand\", \"start\", \"state\", \"stay\", \"stop\", \"study\", \"suggest\",\n",
    "    \"supply\", \"support\", \"suppose\", \"survive\", \"take\", \"talk\", \"teach\", \"tell\", \"tend\", \"test\", \"think\", \"touch\",\n",
    "    \"train\", \"try\", \"turn\", \"understand\", \"use\", \"vary\", \"view\", \"visit\", \"wait\", \"walk\", \"want\", \"watch\", \"wear\",\n",
    "    \"win\", \"wish\", \"work\", \"write\"\n",
    "}\n",
    "tokenized_documents = [[word for word in doc.lower().split() if len(word) >= 2 and word not in weak_verbs] for doc in documents]\n",
    "dictionary = Dictionary(tokenized_documents)\n",
    "\n",
    "import random\n",
    "seed = 42\n",
    "random.seed(seed)\n",
    "np.random.seed(seed)\n",
    "# Remove rare and common tokens.\n",
    "# Filter out words that occur too frequently or too rarely.\n",
    "max_freq = 0.3\n",
    "min_wordcount = 5\n",
    "dictionary.filter_extremes(no_below=min_wordcount, no_above=max_freq)\n",
    "\n",
    "# Bag-of-words representation of the documents.\n",
    "corpus = [dictionary.doc2bow(doc) for doc in tokenized_documents]\n",
    "#MmCorpus.serialize(\"models/corpus.mm\", corpus)\n",
    "\n",
    "print('Number of unique tokens: %d' % len(dictionary))\n",
    "print('Number of chunks: %d' % len(corpus))"
   ]
  },
  {
   "cell_type": "code",
   "execution_count": 34,
   "id": "293d344d-c591-4fff-9d27-5e96cee2fb6b",
   "metadata": {},
   "outputs": [
    {
     "data": {
      "image/png": "[encoded data removed]",
      "text/plain": [
       "<Figure size 640x480 with 1 Axes>"
      ]
     },
     "metadata": {},
     "output_type": "display_data"
    },
    {
     "name": "stdout",
     "output_type": "stream",
     "text": [
      "Nombre optimal de sujets : 9\n",
      "Topic 0: 0.009*\"dog\" + 0.008*\"head\" + 0.006*\"bug\" + 0.006*\"other\" + 0.006*\"chase\" + 0.006*\"cat\" + 0.006*\"car\" + 0.005*\"escape\" + 0.005*\"house\" + 0.005*\"shoot\"\n",
      "Topic 1: 0.017*\"house\" + 0.013*\"school\" + 0.010*\"room\" + 0.009*\"night\" + 0.008*\"girl\" + 0.008*\"mother\" + 0.008*\"day\" + 0.008*\"home\" + 0.007*\"body\" + 0.007*\"friend\"\n",
      "Topic 2: 0.022*\"father\" + 0.018*\"friend\" + 0.017*\"marry\" + 0.016*\"family\" + 0.011*\"girl\" + 0.011*\"brother\" + 0.011*\"day\" + 0.010*\"other\" + 0.009*\"mother\" + 0.009*\"money\"\n",
      "Topic 3: 0.020*\"police\" + 0.012*\"murder\" + 0.010*\"shoot\" + 0.009*\"escape\" + 0.008*\"gang\" + 0.008*\"money\" + 0.007*\"arrest\" + 0.007*\"gun\" + 0.006*\"car\" + 0.006*\"steal\"\n",
      "Topic 4: 0.024*\"ship\" + 0.014*\"island\" + 0.013*\"crew\" + 0.010*\"boat\" + 0.009*\"plane\" + 0.009*\"alien\" + 0.007*\"pilot\" + 0.007*\"fly\" + 0.006*\"sea\" + 0.006*\"return\"\n",
      "Topic 5: 0.016*\"family\" + 0.014*\"child\" + 0.013*\"father\" + 0.013*\"son\" + 0.011*\"mother\" + 0.011*\"young\" + 0.011*\"wife\" + 0.010*\"daughter\" + 0.009*\"year\" + 0.009*\"woman\"\n",
      "Topic 6: 0.008*\"woman\" + 0.008*\"friend\" + 0.006*\"day\" + 0.006*\"time\" + 0.006*\"home\" + 0.006*\"new\" + 0.006*\"relationship\" + 0.006*\"job\" + 0.006*\"night\" + 0.005*\"car\"\n",
      "Topic 7: 0.008*\"attack\" + 0.008*\"escape\" + 0.008*\"power\" + 0.006*\"world\" + 0.006*\"human\" + 0.006*\"return\" + 0.006*\"other\" + 0.005*\"battle\" + 0.005*\"time\" + 0.005*\"monster\"\n",
      "Topic 8: 0.010*\"team\" + 0.009*\"soldier\" + 0.008*\"war\" + 0.006*\"group\" + 0.006*\"order\" + 0.005*\"game\" + 0.005*\"german\" + 0.005*\"other\" + 0.005*\"american\" + 0.005*\"force\"\n"
     ]
    }
   ],
   "source": [
    "from gensim.models import CoherenceModel\n",
    "from gensim.corpora import Dictionary\n",
    "\n",
    "\n",
    "def compute_coherence_values(dictionary, corpus, texts, start, limit, step):\n",
    "    coherence_values = []\n",
    "    model_list = []\n",
    "    for num_topics in range(start, limit, step):\n",
    "        model = LdaMulticore(\n",
    "            corpus=corpus,\n",
    "            num_topics=num_topics,\n",
    "            id2word=dictionary,\n",
    "            passes=10,\n",
    "            workers=4,\n",
    "            random_state=42,\n",
    "        )\n",
    "        model_list.append(model)\n",
    "        coherencemodel = CoherenceModel(\n",
    "            model=model, texts=texts, dictionary=dictionary, coherence='c_v'\n",
    "        )\n",
    "        coherence_values.append(coherencemodel.get_coherence())\n",
    "    return model_list, coherence_values\n",
    "\n",
    "start = 2\n",
    "limit = 10\n",
    "step = 1 \n",
    "\n",
    "model_list, coherence_values = compute_coherence_values(\n",
    "    dictionary=dictionary, corpus=corpus, texts=tokenized_documents, start=start, limit=limit, step=step\n",
    ")\n",
    "\n",
    "x = range(start, limit, step)\n",
    "plt.plot(x, coherence_values)\n",
    "plt.xlabel(\"Nombre de sujets\")\n",
    "plt.ylabel(\"Score de cohérence\")\n",
    "plt.title(\"Optimisation du nombre de sujets\")\n",
    "plt.show()\n",
    "\n",
    "best_num_topics = x[coherence_values.index(max(coherence_values))]\n",
    "best_model = model_list[coherence_values.index(max(coherence_values))]\n",
    "\n",
    "print(f\"Nombre optimal de sujets : {best_num_topics}\")\n",
    "\n",
    "for idx, topic in best_model.print_topics(-1):\n",
    "    print(f\"Topic {idx}: {topic}\")"
   ]
  },
  {
   "cell_type": "markdown",
   "id": "c094d09f-e8ea-4bc9-8a1c-97b670f16ba1",
   "metadata": {},
   "source": [
    "travailler sur un compromis coherence/generalisation ==> oui ok increase # topics ==> increase coherence mais ca decrease la generalisation/interpretabilités ==> elbow methode pour la ou le gain en coherence est réduit"
   ]
  },
  {
   "cell_type": "code",
   "execution_count": 35,
   "id": "e1b321f1-221e-4135-99ee-32dd0154fb55",
   "metadata": {},
   "outputs": [
    {
     "name": "stdout",
     "output_type": "stream",
     "text": [
      "For 4 topics, we have a coherence of 0.41358816946549765\n",
      "Topic 0: 0.006*\"head\" + 0.006*\"escape\" + 0.006*\"attack\" + 0.006*\"other\" + 0.006*\"dog\" + 0.005*\"house\" + 0.005*\"return\" + 0.004*\"body\" + 0.004*\"attempt\" + 0.004*\"chase\"\n",
      "Topic 1: 0.009*\"house\" + 0.008*\"night\" + 0.007*\"room\" + 0.007*\"day\" + 0.007*\"home\" + 0.006*\"school\" + 0.006*\"time\" + 0.006*\"woman\" + 0.006*\"next\" + 0.006*\"mother\"\n",
      "Topic 2: 0.016*\"friend\" + 0.011*\"father\" + 0.009*\"day\" + 0.009*\"other\" + 0.008*\"money\" + 0.008*\"marry\" + 0.008*\"family\" + 0.008*\"girl\" + 0.008*\"time\" + 0.007*\"home\"\n",
      "Topic 3: 0.018*\"police\" + 0.011*\"murder\" + 0.009*\"shoot\" + 0.008*\"escape\" + 0.007*\"gang\" + 0.007*\"car\" + 0.006*\"money\" + 0.006*\"gun\" + 0.006*\"arrest\" + 0.005*\"steal\"\n",
      "Topic 4: 0.008*\"ship\" + 0.007*\"attack\" + 0.006*\"soldier\" + 0.006*\"order\" + 0.006*\"force\" + 0.006*\"other\" + 0.006*\"escape\" + 0.005*\"return\" + 0.005*\"battle\" + 0.005*\"war\"\n",
      "Topic 5: 0.014*\"family\" + 0.013*\"father\" + 0.011*\"son\" + 0.010*\"child\" + 0.010*\"mother\" + 0.009*\"young\" + 0.009*\"wife\" + 0.009*\"daughter\" + 0.008*\"marry\" + 0.008*\"story\"\n"
     ]
    }
   ],
   "source": [
    "## Of course coherence increases with the number of topics because they are more and more precises, however this highly decreases the interpretability of our analysis. Therefore we choose 4 topics as a compromise between the coherence and the interpetrability of our system.\n",
    "lda_4 = LdaMulticore(\n",
    "    corpus=corpus,\n",
    "    num_topics=6,\n",
    "    id2word=dictionary,\n",
    "    passes=10,\n",
    "    workers=4,\n",
    "    random_state=42,\n",
    "    )\n",
    "coherencemodel = CoherenceModel(\n",
    "model=lda_4, texts=tokenized_documents, dictionary=dictionary, coherence='c_v'\n",
    ")\n",
    "print(\"For 4 topics, we have a coherence of {}\".format(coherencemodel.get_coherence()))\n",
    "for idx, topic in lda_4.print_topics(-1):\n",
    "    print(f\"Topic {idx}: {topic}\")"
   ]
  },
  {
   "cell_type": "code",
   "execution_count": 29,
   "id": "3a7b55b3",
   "metadata": {},
   "outputs": [],
   "source": [
    "# Vectorization for LDA\n",
    "vectorizer = CountVectorizer()\n",
    "doc_term_matrix = vectorizer.fit_transform(documents)\n",
    "\n",
    "# LDA\n",
    "lda = LatentDirichletAllocation(n_components=6,random_state=42) # random seed for reproducibility\n",
    "lda.fit(doc_term_matrix)\n",
    "doc_topic_dist = lda.transform(doc_term_matrix)"
   ]
  },
  {
   "cell_type": "code",
   "execution_count": 30,
   "id": "c9b1203f-4818-4a43-90d8-d773755aaa63",
   "metadata": {},
   "outputs": [
    {
     "ename": "NameError",
     "evalue": "name 'df_date_clean' is not defined",
     "output_type": "error",
     "traceback": [
      "\u001b[1;31m---------------------------------------------------------------------------\u001b[0m",
      "\u001b[1;31mNameError\u001b[0m                                 Traceback (most recent call last)",
      "Cell \u001b[1;32mIn[30], line 19\u001b[0m\n\u001b[0;32m      6\u001b[0m     top_themes_per_document\u001b[38;5;241m.\u001b[39mappend({\n\u001b[0;32m      7\u001b[0m         \u001b[38;5;124m\"\u001b[39m\u001b[38;5;124mWikipedia movie ID\u001b[39m\u001b[38;5;124m\"\u001b[39m: ids[i],\n\u001b[0;32m      8\u001b[0m         \u001b[38;5;124m\"\u001b[39m\u001b[38;5;124mTheme 1\u001b[39m\u001b[38;5;124m\"\u001b[39m: top_indices[\u001b[38;5;241m0\u001b[39m],\n\u001b[1;32m   (...)\u001b[0m\n\u001b[0;32m     13\u001b[0m         \u001b[38;5;124m\"\u001b[39m\u001b[38;5;124mProp Theme 3\u001b[39m\u001b[38;5;124m\"\u001b[39m: top_proportions[\u001b[38;5;241m2\u001b[39m]\n\u001b[0;32m     14\u001b[0m     })\n\u001b[0;32m     16\u001b[0m df_top_themes \u001b[38;5;241m=\u001b[39m pd\u001b[38;5;241m.\u001b[39mDataFrame(top_themes_per_document)\n\u001b[1;32m---> 19\u001b[0m df_date_clean[\u001b[38;5;124m'\u001b[39m\u001b[38;5;124mWikipedia movie ID\u001b[39m\u001b[38;5;124m'\u001b[39m] \u001b[38;5;241m=\u001b[39m \u001b[43mdf_date_clean\u001b[49m[\u001b[38;5;124m'\u001b[39m\u001b[38;5;124mWikipedia movie ID\u001b[39m\u001b[38;5;124m'\u001b[39m]\u001b[38;5;241m.\u001b[39mastype(\u001b[38;5;28mstr\u001b[39m)\n\u001b[0;32m     20\u001b[0m df_top_themes[\u001b[38;5;124m'\u001b[39m\u001b[38;5;124mWikipedia movie ID\u001b[39m\u001b[38;5;124m'\u001b[39m] \u001b[38;5;241m=\u001b[39m df_top_themes[\u001b[38;5;124m'\u001b[39m\u001b[38;5;124mWikipedia movie ID\u001b[39m\u001b[38;5;124m'\u001b[39m]\u001b[38;5;241m.\u001b[39mastype(\u001b[38;5;28mstr\u001b[39m)\n\u001b[0;32m     21\u001b[0m merged_df \u001b[38;5;241m=\u001b[39m pd\u001b[38;5;241m.\u001b[39mmerge(df_date_clean, df_top_themes, on\u001b[38;5;241m=\u001b[39m\u001b[38;5;124m'\u001b[39m\u001b[38;5;124mWikipedia movie ID\u001b[39m\u001b[38;5;124m'\u001b[39m, how\u001b[38;5;241m=\u001b[39m\u001b[38;5;124m'\u001b[39m\u001b[38;5;124minner\u001b[39m\u001b[38;5;124m'\u001b[39m)\n",
      "\u001b[1;31mNameError\u001b[0m: name 'df_date_clean' is not defined"
     ]
    }
   ],
   "source": [
    "top_themes_per_document = []\n",
    "for i, doc in enumerate(doc_topic_dist):\n",
    "    top_indices = doc.argsort()[-3:][::-1] # Indices of the top 3 values in the array doc, sorted in descending order. \n",
    "    top_proportions = doc[top_indices]\n",
    "\n",
    "    top_themes_per_document.append({\n",
    "        \"Wikipedia movie ID\": ids[i],\n",
    "        \"Theme 1\": top_indices[0],\n",
    "        \"Prop Theme 1\": top_proportions[0],\n",
    "        \"Theme 2\": top_indices[1],\n",
    "        \"Prop Theme 2\": top_proportions[1],\n",
    "        \"Theme 3\": top_indices[2],\n",
    "        \"Prop Theme 3\": top_proportions[2]\n",
    "    })\n",
    "\n",
    "df_top_themes = pd.DataFrame(top_themes_per_document)\n",
    "\n",
    "\n",
    "df_date_clean['Wikipedia movie ID'] = df_date_clean['Wikipedia movie ID'].astype(str)\n",
    "df_top_themes['Wikipedia movie ID'] = df_top_themes['Wikipedia movie ID'].astype(str)\n",
    "merged_df = pd.merge(df_date_clean, df_top_themes, on='Wikipedia movie ID', how='inner')\n",
    "merged_df.head()"
   ]
  },
  {
   "cell_type": "code",
   "execution_count": null,
   "id": "39a84e39-cc33-46fc-a39c-46d81e591a70",
   "metadata": {},
   "outputs": [],
   "source": [
    "top_terms = []\n",
    "terms = vectorizer.get_feature_names_out()\n",
    "for index, topic in enumerate(lda.components_):\n",
    "    top_terms.append([terms[i] for i in topic.argsort()[-10:]])\n",
    "\n",
    "max_prop_movies = merged_df.loc[merged_df.groupby('Theme 1')['Prop Theme 1'].idxmax()]\n",
    "max_prop_movies.head()\n",
    "\n",
    "\n",
    "for index, row in max_prop_movies.iterrows():\n",
    "    theme_id = row['Theme 1']\n",
    "    print(f\"Topic {theme_id} with top terms: {top_terms[theme_id]}\")\n",
    "    print(f\"Top film for Topic {theme_id}: ID = {row['Wikipedia movie ID']}, Title = {row['Movie name']}\\n\")"
   ]
  },
  {
   "cell_type": "code",
   "execution_count": null,
   "id": "a5834022-4b0b-46b1-8c9e-c96dbaeea7b0",
   "metadata": {},
   "outputs": [],
   "source": [
    "focus_countries = ['United States of America', 'India', 'United Kingdom', 'Japan', 'Argentina', 'Iran']\n",
    "\n",
    "num_columns = 2\n",
    "num_rows = 3\n",
    "fig, axes = plt.subplots(num_rows, num_columns, figsize=(12, 15))\n",
    "fig.suptitle('Standardized Distribution of Movie Themes Across Countries')\n",
    "axes = axes.flatten()\n",
    "\n",
    "for idx, country in enumerate(focus_countries):\n",
    "    # Filter movies by country\n",
    "    movies = merged_df[merged_df['Movie country'] == country]\n",
    "    \n",
    "    # Count the main themes (Thème 1) and standardize the counts\n",
    "    theme_counts = movies['Theme 1'].value_counts()\n",
    "    theme_counts_stand = theme_counts / theme_counts.sum()\n",
    "    \n",
    "    # Plot as a bar chart\n",
    "    axes[idx].bar(theme_counts_stand.index, theme_counts_stand.values,color=color_dict[country])\n",
    "    axes[idx].set_title(f\"{country}\")\n",
    "    axes[idx].set_xlabel(\"Main theme\")\n",
    "    axes[idx].set_ylabel(\"Standardized Distribution\")\n",
    "    axes[idx].set_xticks(theme_counts_stand.index)  # Ensure theme indices show up correctly on x-axis\n",
    "    axes[idx].set_xticklabels(theme_counts_stand.index)\n",
    "\n",
    "for ax in axes:\n",
    "    ax.set_ylim(0, 0.7)\n",
    "\n",
    "plt.tight_layout()\n",
    "plt.show()"
   ]
  }
 ],
 "metadata": {
  "kernelspec": {
   "display_name": "Python 3",
   "language": "python",
   "name": "python3"
  },
  "language_info": {
   "codemirror_mode": {
    "name": "ipython",
    "version": 3
   },
   "file_extension": ".py",
   "mimetype": "text/x-python",
   "name": "python",
   "nbconvert_exporter": "python",
   "pygments_lexer": "ipython3",
   "version": "3.11.5"
  }
 },
 "nbformat": 4,
 "nbformat_minor": 5
}
